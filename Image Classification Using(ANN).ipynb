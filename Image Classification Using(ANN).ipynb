{
 "cells": [
  {
   "cell_type": "markdown",
   "id": "6f2c852c",
   "metadata": {},
   "source": [
    "# 1. Import module yang dibutuhkan"
   ]
  },
  {
   "cell_type": "code",
   "execution_count": 1,
   "id": "d1863771",
   "metadata": {},
   "outputs": [],
   "source": [
    "from sklearn.model_selection import train_test_split\n",
    "from sklearn.preprocessing import LabelEncoder\n",
    "from sklearn.metrics import classification_report\n",
    "from tensorflow.keras.models import Sequential\n",
    "from tensorflow.keras.layers import Flatten, Dense\n",
    "from tensorflow.keras.optimizers import SGD\n",
    "import numpy as np\n",
    "import cv2\n",
    "import glob\n",
    "import matplotlib.pyplot as plt"
   ]
  },
  {
   "cell_type": "markdown",
   "id": "b6686338",
   "metadata": {},
   "source": [
    "# 2. Load Dataset"
   ]
  },
  {
   "cell_type": "code",
   "execution_count": 2,
   "id": "c8e7096f",
   "metadata": {},
   "outputs": [],
   "source": [
    "imagePaths = 'Dataset\\\\'\n",
    "label_list = ['lime', 'betel']\n",
    "data = []\n",
    "labels = []"
   ]
  },
  {
   "cell_type": "code",
   "execution_count": 3,
   "id": "4dda8f97",
   "metadata": {},
   "outputs": [],
   "source": [
    "for label in label_list:\n",
    "    for imagePath in glob.glob(imagePaths+label+'\\\\*.jpg'):\n",
    "        #print(imagePath)\n",
    "        image = cv2.imread(imagePath)\n",
    "        image = cv2.resize(image, (32, 32))\n",
    "        data.append(image)\n",
    "        labels.append(label)"
   ]
  },
  {
   "cell_type": "code",
   "execution_count": 4,
   "id": "5b119dea",
   "metadata": {},
   "outputs": [
    {
     "data": {
      "text/plain": [
       "(100, 32, 32, 3)"
      ]
     },
     "execution_count": 4,
     "metadata": {},
     "output_type": "execute_result"
    }
   ],
   "source": [
    "np.array(data).shape"
   ]
  },
  {
   "cell_type": "markdown",
   "id": "c785bba1",
   "metadata": {},
   "source": [
    "# 3. Data Preprocessing"
   ]
  },
  {
   "cell_type": "code",
   "execution_count": 5,
   "id": "88a0dbff",
   "metadata": {},
   "outputs": [],
   "source": [
    "# ubah type data dari list menjadi array\n",
    "# ubah nilai dari tiap pixel menjadi range [0..1]\n",
    "data = np.array(data, dtype='float') / 255.0\n",
    "labels = np.array(labels)"
   ]
  },
  {
   "cell_type": "code",
   "execution_count": 6,
   "id": "f820cc59",
   "metadata": {},
   "outputs": [
    {
     "name": "stdout",
     "output_type": "stream",
     "text": [
      "['lime' 'lime' 'lime' 'lime' 'lime' 'lime' 'lime' 'lime' 'lime' 'lime'\n",
      " 'lime' 'lime' 'lime' 'lime' 'lime' 'lime' 'lime' 'lime' 'lime' 'lime'\n",
      " 'lime' 'lime' 'lime' 'lime' 'lime' 'lime' 'lime' 'lime' 'lime' 'lime'\n",
      " 'lime' 'lime' 'lime' 'lime' 'lime' 'lime' 'lime' 'lime' 'lime' 'lime'\n",
      " 'lime' 'lime' 'lime' 'lime' 'lime' 'lime' 'lime' 'lime' 'lime' 'lime'\n",
      " 'betel' 'betel' 'betel' 'betel' 'betel' 'betel' 'betel' 'betel' 'betel'\n",
      " 'betel' 'betel' 'betel' 'betel' 'betel' 'betel' 'betel' 'betel' 'betel'\n",
      " 'betel' 'betel' 'betel' 'betel' 'betel' 'betel' 'betel' 'betel' 'betel'\n",
      " 'betel' 'betel' 'betel' 'betel' 'betel' 'betel' 'betel' 'betel' 'betel'\n",
      " 'betel' 'betel' 'betel' 'betel' 'betel' 'betel' 'betel' 'betel' 'betel'\n",
      " 'betel' 'betel' 'betel' 'betel' 'betel']\n"
     ]
    }
   ],
   "source": [
    "print(labels)"
   ]
  },
  {
   "cell_type": "code",
   "execution_count": 7,
   "id": "0fc69c4c",
   "metadata": {},
   "outputs": [
    {
     "name": "stdout",
     "output_type": "stream",
     "text": [
      "[1 1 1 1 1 1 1 1 1 1 1 1 1 1 1 1 1 1 1 1 1 1 1 1 1 1 1 1 1 1 1 1 1 1 1 1 1\n",
      " 1 1 1 1 1 1 1 1 1 1 1 1 1 0 0 0 0 0 0 0 0 0 0 0 0 0 0 0 0 0 0 0 0 0 0 0 0\n",
      " 0 0 0 0 0 0 0 0 0 0 0 0 0 0 0 0 0 0 0 0 0 0 0 0 0 0]\n"
     ]
    }
   ],
   "source": [
    "# ubah nilai dari labels menjadi binary\n",
    "lb = LabelEncoder()\n",
    "labels = lb.fit_transform(labels)\n",
    "print(labels)"
   ]
  },
  {
   "cell_type": "markdown",
   "id": "7faa72d8",
   "metadata": {},
   "source": [
    "# 4. Split Dataset"
   ]
  },
  {
   "cell_type": "code",
   "execution_count": 8,
   "id": "ccfbe9d9",
   "metadata": {},
   "outputs": [],
   "source": [
    "x_train, x_test, y_train, y_test = train_test_split(data, labels, test_size=0.2, random_state=42)"
   ]
  },
  {
   "cell_type": "code",
   "execution_count": 9,
   "id": "55dc0134",
   "metadata": {},
   "outputs": [
    {
     "name": "stdout",
     "output_type": "stream",
     "text": [
      "Ukuran data train = (80, 32, 32, 3)\n",
      "Ukuran data test = (20, 32, 32, 3)\n"
     ]
    }
   ],
   "source": [
    "print('Ukuran data train =', x_train.shape)\n",
    "print('Ukuran data test =', x_test.shape)"
   ]
  },
  {
   "cell_type": "markdown",
   "id": "e0e292d6",
   "metadata": {},
   "source": [
    "# 5. Build ANN Architecture"
   ]
  },
  {
   "cell_type": "code",
   "execution_count": 10,
   "id": "912c3044",
   "metadata": {},
   "outputs": [],
   "source": [
    "model = Sequential()\n",
    "model.add(Flatten(input_shape=(32,32,3)))\n",
    "model.add(Dense(1024, activation=\"relu\"))\n",
    "model.add(Dense(1024, activation=\"relu\"))\n",
    "model.add(Dense(1, activation=\"sigmoid\"))"
   ]
  },
  {
   "cell_type": "code",
   "execution_count": 11,
   "id": "11d49093",
   "metadata": {},
   "outputs": [
    {
     "name": "stdout",
     "output_type": "stream",
     "text": [
      "Model: \"sequential\"\n",
      "_________________________________________________________________\n",
      " Layer (type)                Output Shape              Param #   \n",
      "=================================================================\n",
      " flatten (Flatten)           (None, 3072)              0         \n",
      "                                                                 \n",
      " dense (Dense)               (None, 1024)              3146752   \n",
      "                                                                 \n",
      " dense_1 (Dense)             (None, 1024)              1049600   \n",
      "                                                                 \n",
      " dense_2 (Dense)             (None, 1)                 1025      \n",
      "                                                                 \n",
      "=================================================================\n",
      "Total params: 4,197,377\n",
      "Trainable params: 4,197,377\n",
      "Non-trainable params: 0\n",
      "_________________________________________________________________\n"
     ]
    }
   ],
   "source": [
    "model.summary()"
   ]
  },
  {
   "cell_type": "code",
   "execution_count": 12,
   "id": "ac43d770",
   "metadata": {},
   "outputs": [],
   "source": [
    "# tentukan hyperparameter\n",
    "lr = 0.01\n",
    "max_epochs = 100\n",
    "opt_funct = SGD(learning_rate=lr)"
   ]
  },
  {
   "cell_type": "code",
   "execution_count": 13,
   "id": "92f79ded",
   "metadata": {},
   "outputs": [],
   "source": [
    "# compile arsitektur yang telah dibuat\n",
    "model.compile(loss = 'binary_crossentropy', \n",
    "              optimizer = opt_funct, \n",
    "              metrics = ['accuracy'])"
   ]
  },
  {
   "cell_type": "markdown",
   "id": "d2af934e",
   "metadata": {},
   "source": [
    "# 6. Train Model"
   ]
  },
  {
   "cell_type": "code",
   "execution_count": 14,
   "id": "d4e72d39",
   "metadata": {},
   "outputs": [
    {
     "name": "stdout",
     "output_type": "stream",
     "text": [
      "Epoch 1/100\n",
      "3/3 [==============================] - 1s 173ms/step - loss: 1.7377 - accuracy: 0.4500 - val_loss: 1.7747 - val_accuracy: 0.4000\n",
      "Epoch 2/100\n",
      "3/3 [==============================] - 0s 47ms/step - loss: 0.9526 - accuracy: 0.5250 - val_loss: 0.7898 - val_accuracy: 0.6000\n",
      "Epoch 3/100\n",
      "3/3 [==============================] - 0s 42ms/step - loss: 1.0568 - accuracy: 0.4250 - val_loss: 1.0807 - val_accuracy: 0.4000\n",
      "Epoch 4/100\n",
      "3/3 [==============================] - 0s 46ms/step - loss: 0.7030 - accuracy: 0.6875 - val_loss: 0.6658 - val_accuracy: 0.5000\n",
      "Epoch 5/100\n",
      "3/3 [==============================] - 0s 62ms/step - loss: 0.6125 - accuracy: 0.6125 - val_loss: 0.6803 - val_accuracy: 0.4000\n",
      "Epoch 6/100\n",
      "3/3 [==============================] - 0s 48ms/step - loss: 0.5966 - accuracy: 0.5750 - val_loss: 0.5874 - val_accuracy: 0.8500\n",
      "Epoch 7/100\n",
      "3/3 [==============================] - 0s 46ms/step - loss: 0.6468 - accuracy: 0.6500 - val_loss: 1.3258 - val_accuracy: 0.4000\n",
      "Epoch 8/100\n",
      "3/3 [==============================] - 0s 53ms/step - loss: 0.7640 - accuracy: 0.6375 - val_loss: 0.6479 - val_accuracy: 0.5500\n",
      "Epoch 9/100\n",
      "3/3 [==============================] - 0s 48ms/step - loss: 0.5731 - accuracy: 0.7125 - val_loss: 0.7221 - val_accuracy: 0.6000\n",
      "Epoch 10/100\n",
      "3/3 [==============================] - 0s 56ms/step - loss: 0.7856 - accuracy: 0.4500 - val_loss: 0.8425 - val_accuracy: 0.4000\n",
      "Epoch 11/100\n",
      "3/3 [==============================] - 0s 57ms/step - loss: 0.8086 - accuracy: 0.4500 - val_loss: 0.6572 - val_accuracy: 0.5500\n",
      "Epoch 12/100\n",
      "3/3 [==============================] - 0s 54ms/step - loss: 0.5687 - accuracy: 0.6750 - val_loss: 0.7372 - val_accuracy: 0.4000\n",
      "Epoch 13/100\n",
      "3/3 [==============================] - 0s 45ms/step - loss: 0.5135 - accuracy: 0.7375 - val_loss: 0.5943 - val_accuracy: 0.6000\n",
      "Epoch 14/100\n",
      "3/3 [==============================] - 0s 60ms/step - loss: 0.6405 - accuracy: 0.5125 - val_loss: 0.5380 - val_accuracy: 0.9000\n",
      "Epoch 15/100\n",
      "3/3 [==============================] - 0s 53ms/step - loss: 0.5094 - accuracy: 0.8250 - val_loss: 0.5321 - val_accuracy: 0.7000\n",
      "Epoch 16/100\n",
      "3/3 [==============================] - 0s 54ms/step - loss: 0.4949 - accuracy: 0.8875 - val_loss: 1.1629 - val_accuracy: 0.4000\n",
      "Epoch 17/100\n",
      "3/3 [==============================] - 0s 53ms/step - loss: 0.6495 - accuracy: 0.7375 - val_loss: 0.5429 - val_accuracy: 0.7500\n",
      "Epoch 18/100\n",
      "3/3 [==============================] - 0s 53ms/step - loss: 0.6070 - accuracy: 0.7000 - val_loss: 0.5800 - val_accuracy: 0.7500\n",
      "Epoch 19/100\n",
      "3/3 [==============================] - 0s 51ms/step - loss: 0.5079 - accuracy: 0.8125 - val_loss: 0.7057 - val_accuracy: 0.6000\n",
      "Epoch 20/100\n",
      "3/3 [==============================] - 0s 43ms/step - loss: 0.5140 - accuracy: 0.7625 - val_loss: 0.5476 - val_accuracy: 0.6000\n",
      "Epoch 21/100\n",
      "3/3 [==============================] - 0s 51ms/step - loss: 0.5176 - accuracy: 0.7250 - val_loss: 0.5190 - val_accuracy: 0.8000\n",
      "Epoch 22/100\n",
      "3/3 [==============================] - 0s 59ms/step - loss: 0.4437 - accuracy: 0.8875 - val_loss: 0.5024 - val_accuracy: 0.8500\n",
      "Epoch 23/100\n",
      "3/3 [==============================] - 0s 48ms/step - loss: 0.4260 - accuracy: 0.9000 - val_loss: 0.5849 - val_accuracy: 0.6500\n",
      "Epoch 24/100\n",
      "3/3 [==============================] - 0s 67ms/step - loss: 0.5041 - accuracy: 0.7750 - val_loss: 0.7456 - val_accuracy: 0.6000\n",
      "Epoch 25/100\n",
      "3/3 [==============================] - 0s 67ms/step - loss: 0.7939 - accuracy: 0.5250 - val_loss: 0.5729 - val_accuracy: 0.7000\n",
      "Epoch 26/100\n",
      "3/3 [==============================] - 0s 59ms/step - loss: 0.4298 - accuracy: 0.8500 - val_loss: 0.4915 - val_accuracy: 0.9000\n",
      "Epoch 27/100\n",
      "3/3 [==============================] - 0s 46ms/step - loss: 0.4553 - accuracy: 0.8750 - val_loss: 0.5262 - val_accuracy: 0.7000\n",
      "Epoch 28/100\n",
      "3/3 [==============================] - 0s 50ms/step - loss: 0.5010 - accuracy: 0.6625 - val_loss: 0.5540 - val_accuracy: 0.7500\n",
      "Epoch 29/100\n",
      "3/3 [==============================] - 0s 57ms/step - loss: 0.4051 - accuracy: 0.8750 - val_loss: 0.5450 - val_accuracy: 0.7500\n",
      "Epoch 30/100\n",
      "3/3 [==============================] - 0s 56ms/step - loss: 0.4235 - accuracy: 0.8500 - val_loss: 0.5317 - val_accuracy: 0.6000\n",
      "Epoch 31/100\n",
      "3/3 [==============================] - 0s 38ms/step - loss: 0.5926 - accuracy: 0.6125 - val_loss: 0.5922 - val_accuracy: 0.6500\n",
      "Epoch 32/100\n",
      "3/3 [==============================] - 0s 59ms/step - loss: 0.4821 - accuracy: 0.7125 - val_loss: 0.6258 - val_accuracy: 0.6000\n",
      "Epoch 33/100\n",
      "3/3 [==============================] - 0s 48ms/step - loss: 0.4812 - accuracy: 0.7125 - val_loss: 0.4659 - val_accuracy: 0.7500\n",
      "Epoch 34/100\n",
      "3/3 [==============================] - 0s 46ms/step - loss: 0.3812 - accuracy: 0.9000 - val_loss: 0.6682 - val_accuracy: 0.5500\n",
      "Epoch 35/100\n",
      "3/3 [==============================] - 0s 38ms/step - loss: 0.4738 - accuracy: 0.6625 - val_loss: 0.5048 - val_accuracy: 0.7500\n",
      "Epoch 36/100\n",
      "3/3 [==============================] - 0s 38ms/step - loss: 0.4342 - accuracy: 0.8125 - val_loss: 0.7202 - val_accuracy: 0.6000\n",
      "Epoch 37/100\n",
      "3/3 [==============================] - 0s 41ms/step - loss: 0.7579 - accuracy: 0.5625 - val_loss: 0.4612 - val_accuracy: 0.9000\n",
      "Epoch 38/100\n",
      "3/3 [==============================] - 0s 40ms/step - loss: 0.4248 - accuracy: 0.8625 - val_loss: 0.6546 - val_accuracy: 0.5500\n",
      "Epoch 39/100\n",
      "3/3 [==============================] - 0s 41ms/step - loss: 0.4552 - accuracy: 0.7750 - val_loss: 0.6102 - val_accuracy: 0.6000\n",
      "Epoch 40/100\n",
      "3/3 [==============================] - 0s 49ms/step - loss: 0.7745 - accuracy: 0.5125 - val_loss: 0.4659 - val_accuracy: 0.8500\n",
      "Epoch 41/100\n",
      "3/3 [==============================] - 0s 42ms/step - loss: 0.3991 - accuracy: 0.8625 - val_loss: 0.5101 - val_accuracy: 0.7500\n",
      "Epoch 42/100\n",
      "3/3 [==============================] - 0s 53ms/step - loss: 0.3619 - accuracy: 0.9000 - val_loss: 0.5831 - val_accuracy: 0.6500\n",
      "Epoch 43/100\n",
      "3/3 [==============================] - 0s 51ms/step - loss: 0.4892 - accuracy: 0.7625 - val_loss: 0.6419 - val_accuracy: 0.6000\n",
      "Epoch 44/100\n",
      "3/3 [==============================] - 0s 54ms/step - loss: 0.6477 - accuracy: 0.5375 - val_loss: 0.9847 - val_accuracy: 0.4500\n",
      "Epoch 45/100\n",
      "3/3 [==============================] - 0s 48ms/step - loss: 0.5490 - accuracy: 0.7500 - val_loss: 0.4500 - val_accuracy: 0.9000\n",
      "Epoch 46/100\n",
      "3/3 [==============================] - 0s 59ms/step - loss: 0.4661 - accuracy: 0.7750 - val_loss: 0.5256 - val_accuracy: 0.7500\n",
      "Epoch 47/100\n",
      "3/3 [==============================] - 0s 43ms/step - loss: 0.4113 - accuracy: 0.8500 - val_loss: 0.5589 - val_accuracy: 0.6000\n",
      "Epoch 48/100\n",
      "3/3 [==============================] - 0s 48ms/step - loss: 0.6131 - accuracy: 0.6250 - val_loss: 0.4412 - val_accuracy: 0.9000\n",
      "Epoch 49/100\n",
      "3/3 [==============================] - 0s 47ms/step - loss: 0.3522 - accuracy: 0.9375 - val_loss: 0.4897 - val_accuracy: 0.7500\n",
      "Epoch 50/100\n",
      "3/3 [==============================] - 0s 51ms/step - loss: 0.3649 - accuracy: 0.8625 - val_loss: 0.5247 - val_accuracy: 0.7500\n",
      "Epoch 51/100\n",
      "3/3 [==============================] - 0s 46ms/step - loss: 0.3256 - accuracy: 0.9125 - val_loss: 0.4095 - val_accuracy: 0.8500\n",
      "Epoch 52/100\n",
      "3/3 [==============================] - 0s 56ms/step - loss: 0.3002 - accuracy: 0.9250 - val_loss: 0.4225 - val_accuracy: 0.7500\n",
      "Epoch 53/100\n",
      "3/3 [==============================] - 0s 64ms/step - loss: 0.3000 - accuracy: 0.9375 - val_loss: 0.4052 - val_accuracy: 0.8500\n",
      "Epoch 54/100\n",
      "3/3 [==============================] - 0s 62ms/step - loss: 0.3592 - accuracy: 0.8500 - val_loss: 0.5470 - val_accuracy: 0.7500\n",
      "Epoch 55/100\n",
      "3/3 [==============================] - 0s 60ms/step - loss: 0.3094 - accuracy: 0.8875 - val_loss: 0.4203 - val_accuracy: 0.9000\n",
      "Epoch 56/100\n",
      "3/3 [==============================] - 0s 49ms/step - loss: 0.3349 - accuracy: 0.9125 - val_loss: 0.5511 - val_accuracy: 0.7500\n",
      "Epoch 57/100\n",
      "3/3 [==============================] - 0s 46ms/step - loss: 0.5002 - accuracy: 0.7125 - val_loss: 0.4824 - val_accuracy: 0.7000\n",
      "Epoch 58/100\n",
      "3/3 [==============================] - 0s 40ms/step - loss: 0.4167 - accuracy: 0.8125 - val_loss: 0.4993 - val_accuracy: 0.7500\n",
      "Epoch 59/100\n",
      "3/3 [==============================] - 0s 45ms/step - loss: 0.2884 - accuracy: 0.9250 - val_loss: 0.4366 - val_accuracy: 0.8000\n",
      "Epoch 60/100\n",
      "3/3 [==============================] - 0s 55ms/step - loss: 0.3352 - accuracy: 0.8750 - val_loss: 0.4186 - val_accuracy: 0.8000\n",
      "Epoch 61/100\n",
      "3/3 [==============================] - 0s 53ms/step - loss: 0.2873 - accuracy: 0.9125 - val_loss: 0.7653 - val_accuracy: 0.6000\n",
      "Epoch 62/100\n",
      "3/3 [==============================] - 0s 41ms/step - loss: 0.5739 - accuracy: 0.6750 - val_loss: 0.6627 - val_accuracy: 0.6000\n",
      "Epoch 63/100\n",
      "3/3 [==============================] - 0s 43ms/step - loss: 0.5713 - accuracy: 0.6375 - val_loss: 0.5348 - val_accuracy: 0.7500\n",
      "Epoch 64/100\n",
      "3/3 [==============================] - 0s 47ms/step - loss: 0.3597 - accuracy: 0.8500 - val_loss: 0.4169 - val_accuracy: 0.9000\n",
      "Epoch 65/100\n",
      "3/3 [==============================] - 0s 47ms/step - loss: 0.2860 - accuracy: 0.9375 - val_loss: 0.4036 - val_accuracy: 0.8500\n",
      "Epoch 66/100\n",
      "3/3 [==============================] - 0s 46ms/step - loss: 0.2681 - accuracy: 0.9250 - val_loss: 0.3988 - val_accuracy: 0.8500\n",
      "Epoch 67/100\n",
      "3/3 [==============================] - 0s 47ms/step - loss: 0.3114 - accuracy: 0.9000 - val_loss: 0.4619 - val_accuracy: 0.7500\n",
      "Epoch 68/100\n",
      "3/3 [==============================] - 0s 44ms/step - loss: 0.2531 - accuracy: 0.9250 - val_loss: 0.4342 - val_accuracy: 0.8000\n",
      "Epoch 69/100\n",
      "3/3 [==============================] - 0s 42ms/step - loss: 0.3008 - accuracy: 0.9125 - val_loss: 0.6198 - val_accuracy: 0.6000\n",
      "Epoch 70/100\n",
      "3/3 [==============================] - 0s 47ms/step - loss: 0.8579 - accuracy: 0.5750 - val_loss: 0.5684 - val_accuracy: 0.7000\n",
      "Epoch 71/100\n",
      "3/3 [==============================] - 0s 48ms/step - loss: 0.3372 - accuracy: 0.8750 - val_loss: 0.4030 - val_accuracy: 0.8000\n",
      "Epoch 72/100\n",
      "3/3 [==============================] - 0s 40ms/step - loss: 0.2532 - accuracy: 0.9375 - val_loss: 0.4036 - val_accuracy: 0.8000\n",
      "Epoch 73/100\n",
      "3/3 [==============================] - 0s 43ms/step - loss: 0.2896 - accuracy: 0.8875 - val_loss: 0.4306 - val_accuracy: 0.7500\n",
      "Epoch 74/100\n",
      "3/3 [==============================] - 0s 54ms/step - loss: 0.5848 - accuracy: 0.6750 - val_loss: 1.0711 - val_accuracy: 0.4500\n",
      "Epoch 75/100\n",
      "3/3 [==============================] - 0s 45ms/step - loss: 0.5221 - accuracy: 0.7875 - val_loss: 0.4201 - val_accuracy: 0.8000\n",
      "Epoch 76/100\n",
      "3/3 [==============================] - 0s 48ms/step - loss: 0.2902 - accuracy: 0.9250 - val_loss: 0.6374 - val_accuracy: 0.6000\n",
      "Epoch 77/100\n",
      "3/3 [==============================] - 0s 40ms/step - loss: 0.3725 - accuracy: 0.8000 - val_loss: 0.4579 - val_accuracy: 0.7500\n",
      "Epoch 78/100\n",
      "3/3 [==============================] - 0s 51ms/step - loss: 0.2480 - accuracy: 0.9375 - val_loss: 0.4152 - val_accuracy: 0.8000\n",
      "Epoch 79/100\n",
      "3/3 [==============================] - 0s 42ms/step - loss: 0.2332 - accuracy: 0.9250 - val_loss: 0.4302 - val_accuracy: 0.8000\n",
      "Epoch 80/100\n",
      "3/3 [==============================] - 0s 33ms/step - loss: 0.2321 - accuracy: 0.9375 - val_loss: 0.5046 - val_accuracy: 0.7000\n",
      "Epoch 81/100\n",
      "3/3 [==============================] - 0s 42ms/step - loss: 0.3358 - accuracy: 0.8500 - val_loss: 0.8139 - val_accuracy: 0.6000\n",
      "Epoch 82/100\n",
      "3/3 [==============================] - 0s 51ms/step - loss: 0.3819 - accuracy: 0.8500 - val_loss: 0.5006 - val_accuracy: 0.7000\n",
      "Epoch 83/100\n",
      "3/3 [==============================] - 0s 46ms/step - loss: 0.4811 - accuracy: 0.7250 - val_loss: 0.7874 - val_accuracy: 0.6000\n",
      "Epoch 84/100\n",
      "3/3 [==============================] - 0s 42ms/step - loss: 0.3956 - accuracy: 0.7750 - val_loss: 0.4313 - val_accuracy: 0.7500\n",
      "Epoch 85/100\n",
      "3/3 [==============================] - 0s 57ms/step - loss: 0.2236 - accuracy: 0.9375 - val_loss: 0.3885 - val_accuracy: 0.8000\n",
      "Epoch 86/100\n",
      "3/3 [==============================] - 0s 48ms/step - loss: 0.2941 - accuracy: 0.8625 - val_loss: 0.6536 - val_accuracy: 0.6500\n",
      "Epoch 87/100\n",
      "3/3 [==============================] - 0s 52ms/step - loss: 0.2787 - accuracy: 0.9125 - val_loss: 0.4149 - val_accuracy: 0.7500\n",
      "Epoch 88/100\n",
      "3/3 [==============================] - 0s 44ms/step - loss: 0.3070 - accuracy: 0.8500 - val_loss: 0.3871 - val_accuracy: 0.8500\n",
      "Epoch 89/100\n",
      "3/3 [==============================] - 0s 52ms/step - loss: 0.2302 - accuracy: 0.9625 - val_loss: 0.3750 - val_accuracy: 0.8000\n",
      "Epoch 90/100\n",
      "3/3 [==============================] - 0s 51ms/step - loss: 0.2026 - accuracy: 0.9250 - val_loss: 0.3920 - val_accuracy: 0.8500\n",
      "Epoch 91/100\n",
      "3/3 [==============================] - 0s 52ms/step - loss: 0.2108 - accuracy: 0.9750 - val_loss: 0.4770 - val_accuracy: 0.7000\n",
      "Epoch 92/100\n",
      "3/3 [==============================] - 0s 51ms/step - loss: 0.3465 - accuracy: 0.8625 - val_loss: 0.3921 - val_accuracy: 0.8500\n",
      "Epoch 93/100\n",
      "3/3 [==============================] - 0s 86ms/step - loss: 0.2402 - accuracy: 0.9375 - val_loss: 0.3688 - val_accuracy: 0.8000\n",
      "Epoch 94/100\n",
      "3/3 [==============================] - 0s 63ms/step - loss: 0.1940 - accuracy: 0.9375 - val_loss: 0.4702 - val_accuracy: 0.7500\n",
      "Epoch 95/100\n",
      "3/3 [==============================] - 0s 50ms/step - loss: 0.2389 - accuracy: 0.9250 - val_loss: 0.5439 - val_accuracy: 0.6000\n",
      "Epoch 96/100\n",
      "3/3 [==============================] - 0s 49ms/step - loss: 0.3622 - accuracy: 0.8375 - val_loss: 0.4041 - val_accuracy: 0.8000\n",
      "Epoch 97/100\n",
      "3/3 [==============================] - 0s 37ms/step - loss: 0.2142 - accuracy: 0.9250 - val_loss: 0.3739 - val_accuracy: 0.8500\n",
      "Epoch 98/100\n",
      "3/3 [==============================] - 0s 39ms/step - loss: 0.1891 - accuracy: 0.9500 - val_loss: 0.3924 - val_accuracy: 0.8500\n",
      "Epoch 99/100\n",
      "3/3 [==============================] - 0s 50ms/step - loss: 0.4081 - accuracy: 0.8250 - val_loss: 1.0222 - val_accuracy: 0.5000\n",
      "Epoch 100/100\n",
      "3/3 [==============================] - 0s 46ms/step - loss: 0.4094 - accuracy: 0.8250 - val_loss: 0.3915 - val_accuracy: 0.8000\n"
     ]
    }
   ],
   "source": [
    "H = model.fit(x_train, y_train, validation_data=(x_test, y_test), \n",
    "          epochs=max_epochs, batch_size=32)"
   ]
  },
  {
   "cell_type": "code",
   "execution_count": 15,
   "id": "9d240982",
   "metadata": {},
   "outputs": [
    {
     "data": {
      "image/png": "[encoded data removed]",
      "text/plain": [
       "<Figure size 432x288 with 1 Axes>"
      ]
     },
     "metadata": {},
     "output_type": "display_data"
    }
   ],
   "source": [
    "N = np.arange(0, max_epochs)\n",
    "plt.style.use(\"ggplot\")\n",
    "plt.figure()\n",
    "plt.plot(N, H.history[\"loss\"], label=\"train_loss\")\n",
    "plt.plot(N, H.history[\"val_loss\"], label=\"val_loss\")\n",
    "#plt.plot(N, H.history[\"accuracy\"], label=\"train_acc\")\n",
    "#plt.plot(N, H.history[\"val_accuracy\"], label=\"val_acc\")\n",
    "plt.xlabel(\"Epoch #\")\n",
    "plt.legend()\n",
    "plt.show()"
   ]
  },
  {
   "cell_type": "markdown",
   "id": "ff01631e",
   "metadata": {},
   "source": [
    "# 7. Evaluate the Model"
   ]
  },
  {
   "cell_type": "code",
   "execution_count": 16,
   "id": "2aa43474",
   "metadata": {},
   "outputs": [
    {
     "name": "stdout",
     "output_type": "stream",
     "text": [
      "              precision    recall  f1-score   support\n",
      "\n",
      "        lime       0.70      0.88      0.78         8\n",
      "       betel       0.90      0.75      0.82        12\n",
      "\n",
      "    accuracy                           0.80        20\n",
      "   macro avg       0.80      0.81      0.80        20\n",
      "weighted avg       0.82      0.80      0.80        20\n",
      "\n"
     ]
    },
    {
     "name": "stderr",
     "output_type": "stream",
     "text": [
      "C:\\Users\\ASUS\\AppData\\Local\\Temp/ipykernel_10188/954476436.py:3: DeprecationWarning: `np.int` is a deprecated alias for the builtin `int`. To silence this warning, use `int` by itself. Doing this will not modify any behavior and is safe. When replacing `np.int`, you may wish to use e.g. `np.int64` or `np.int32` to specify the precision. If you wish to review your current use, check the release note link for additional information.\n",
      "Deprecated in NumPy 1.20; for more details and guidance: https://numpy.org/devdocs/release/1.20.0-notes.html#deprecations\n",
      "  target = (predictions > 0.5).astype(np.int)\n"
     ]
    }
   ],
   "source": [
    "# menghitung nilai akurasi model terhadap data test\n",
    "predictions = model.predict(x_test, batch_size=32)\n",
    "target = (predictions > 0.5).astype(np.int)\n",
    "print(classification_report(y_test, target, target_names=label_list))"
   ]
  },
  {
   "cell_type": "code",
   "execution_count": 22,
   "id": "1794b44e",
   "metadata": {},
   "outputs": [
    {
     "name": "stdout",
     "output_type": "stream",
     "text": [
      "[[0.04994643]]\n"
     ]
    }
   ],
   "source": [
    "# uji model menggunakan image lain\n",
    "queryPath = imagePaths+'query_betel.jpg'\n",
    "query = cv2.imread(queryPath)\n",
    "output = query.copy()\n",
    "query = cv2.resize(query, (32, 32))\n",
    "q = []\n",
    "q.append(query)\n",
    "q = np.array(q, dtype='float') / 255.0\n",
    "\n",
    "q_pred = model.predict(q)\n",
    "print(q_pred)"
   ]
  },
  {
   "cell_type": "code",
   "execution_count": 23,
   "id": "99cf1ff5",
   "metadata": {},
   "outputs": [
    {
     "ename": "error",
     "evalue": "OpenCV(4.5.4) D:\\a\\opencv-python\\opencv-python\\opencv\\modules\\highgui\\src\\window_w32.cpp:1261: error: (-27:Null pointer) NULL window: 'Output' in function 'cvDestroyWindow'\n",
     "output_type": "error",
     "traceback": [
      "\u001b[1;31m---------------------------------------------------------------------------\u001b[0m",
      "\u001b[1;31merror\u001b[0m                                     Traceback (most recent call last)",
      "\u001b[1;32m~\\AppData\\Local\\Temp/ipykernel_10188/3309322524.py\u001b[0m in \u001b[0;36m<module>\u001b[1;34m\u001b[0m\n\u001b[0;32m      9\u001b[0m \u001b[0mcv2\u001b[0m\u001b[1;33m.\u001b[0m\u001b[0mimshow\u001b[0m\u001b[1;33m(\u001b[0m\u001b[1;34m'Output'\u001b[0m\u001b[1;33m,\u001b[0m \u001b[0moutput\u001b[0m\u001b[1;33m)\u001b[0m\u001b[1;33m\u001b[0m\u001b[1;33m\u001b[0m\u001b[0m\n\u001b[0;32m     10\u001b[0m \u001b[0mcv2\u001b[0m\u001b[1;33m.\u001b[0m\u001b[0mwaitKey\u001b[0m\u001b[1;33m(\u001b[0m\u001b[1;33m)\u001b[0m \u001b[1;31m# image tidak akan diclose,sebelum user menekan sembarang tombol\u001b[0m\u001b[1;33m\u001b[0m\u001b[1;33m\u001b[0m\u001b[0m\n\u001b[1;32m---> 11\u001b[1;33m \u001b[0mcv2\u001b[0m\u001b[1;33m.\u001b[0m\u001b[0mdestroyWindow\u001b[0m\u001b[1;33m(\u001b[0m\u001b[1;34m'Output'\u001b[0m\u001b[1;33m)\u001b[0m \u001b[1;31m# image akan diclose\u001b[0m\u001b[1;33m\u001b[0m\u001b[1;33m\u001b[0m\u001b[0m\n\u001b[0m",
      "\u001b[1;31merror\u001b[0m: OpenCV(4.5.4) D:\\a\\opencv-python\\opencv-python\\opencv\\modules\\highgui\\src\\window_w32.cpp:1261: error: (-27:Null pointer) NULL window: 'Output' in function 'cvDestroyWindow'\n"
     ]
    }
   ],
   "source": [
    "if q_pred<=0.5 :\n",
    "    target = \"Lime\"\n",
    "else :\n",
    "    target = \"Betel\"\n",
    "text = \"{}\".format(target)\n",
    "cv2.putText(output, text, (10, 30), cv2.FONT_HERSHEY_SIMPLEX, 0.7, (0, 0, 255), 2)\n",
    " \n",
    "# menampilkan output image\n",
    "cv2.imshow('Output', output)\n",
    "cv2.waitKey() # image tidak akan diclose,sebelum user menekan sembarang tombol\n",
    "cv2.destroyWindow('Output') # image akan diclose"
   ]
  },
  {
   "cell_type": "code",
   "execution_count": null,
   "id": "2834b4ed",
   "metadata": {},
   "outputs": [],
   "source": []
  }
 ],
 "metadata": {
  "kernelspec": {
   "display_name": "Python 3 (ipykernel)",
   "language": "python",
   "name": "python3"
  },
  "language_info": {
   "codemirror_mode": {
    "name": "ipython",
    "version": 3
   },
   "file_extension": ".py",
   "mimetype": "text/x-python",
   "name": "python",
   "nbconvert_exporter": "python",
   "pygments_lexer": "ipython3",
   "version": "3.8.2"
  }
 },
 "nbformat": 4,
 "nbformat_minor": 5
}
