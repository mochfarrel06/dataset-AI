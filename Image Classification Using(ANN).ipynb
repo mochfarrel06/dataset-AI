{
 "cells": [
  {
   "cell_type": "markdown",
   "id": "6f2c852c",
   "metadata": {},
   "source": [
    "# 1. Import module yang dibutuhkan"
   ]
  },
  {
   "cell_type": "code",
   "execution_count": 1,
   "id": "d1863771",
   "metadata": {},
   "outputs": [],
   "source": [
    "from sklearn.model_selection import train_test_split\n",
    "from sklearn.preprocessing import LabelEncoder\n",
    "from sklearn.metrics import classification_report\n",
    "from tensorflow.keras.models import Sequential\n",
    "from tensorflow.keras.layers import Flatten, Dense\n",
    "from tensorflow.keras.optimizers import SGD\n",
    "import numpy as np\n",
    "import cv2\n",
    "import glob\n",
    "import matplotlib.pyplot as plt"
   ]
  },
  {
   "cell_type": "markdown",
   "id": "b6686338",
   "metadata": {},
   "source": [
    "# 2. Load Dataset"
   ]
  },
  {
   "cell_type": "code",
   "execution_count": 2,
   "id": "c8e7096f",
   "metadata": {},
   "outputs": [],
   "source": [
    "imagePaths = 'Dataset\\\\leaf\\\\'\n",
    "label_list = ['lime', 'betel']\n",
    "data = []\n",
    "labels = []"
   ]
  },
  {
   "cell_type": "code",
   "execution_count": 3,
   "id": "4dda8f97",
   "metadata": {},
   "outputs": [],
   "source": [
    "for label in label_list:\n",
    "    for imagePath in glob.glob(imagePaths+label+'\\\\*.jpg'):\n",
    "        #print(imagePath)\n",
    "        image = cv2.imread(imagePath)\n",
    "        image = cv2.resize(image, (32, 32))\n",
    "        data.append(image)\n",
    "        labels.append(label)"
   ]
  },
  {
   "cell_type": "code",
   "execution_count": 4,
   "id": "5b119dea",
   "metadata": {},
   "outputs": [
    {
     "data": {
      "text/plain": [
       "(100, 32, 32, 3)"
      ]
     },
     "execution_count": 4,
     "metadata": {},
     "output_type": "execute_result"
    }
   ],
   "source": [
    "np.array(data).shape"
   ]
  },
  {
   "cell_type": "markdown",
   "id": "c785bba1",
   "metadata": {},
   "source": [
    "# 3. Data Preprocessing"
   ]
  },
  {
   "cell_type": "code",
   "execution_count": 5,
   "id": "88a0dbff",
   "metadata": {},
   "outputs": [],
   "source": [
    "# ubah type data dari list menjadi array\n",
    "# ubah nilai dari tiap pixel menjadi range [0..1]\n",
    "data = np.array(data, dtype='float') / 255.0\n",
    "labels = np.array(labels)"
   ]
  },
  {
   "cell_type": "code",
   "execution_count": 6,
   "id": "f820cc59",
   "metadata": {},
   "outputs": [
    {
     "name": "stdout",
     "output_type": "stream",
     "text": [
      "['lime' 'lime' 'lime' 'lime' 'lime' 'lime' 'lime' 'lime' 'lime' 'lime'\n",
      " 'lime' 'lime' 'lime' 'lime' 'lime' 'lime' 'lime' 'lime' 'lime' 'lime'\n",
      " 'lime' 'lime' 'lime' 'lime' 'lime' 'lime' 'lime' 'lime' 'lime' 'lime'\n",
      " 'lime' 'lime' 'lime' 'lime' 'lime' 'lime' 'lime' 'lime' 'lime' 'lime'\n",
      " 'lime' 'lime' 'lime' 'lime' 'lime' 'lime' 'lime' 'lime' 'lime' 'lime'\n",
      " 'betel' 'betel' 'betel' 'betel' 'betel' 'betel' 'betel' 'betel' 'betel'\n",
      " 'betel' 'betel' 'betel' 'betel' 'betel' 'betel' 'betel' 'betel' 'betel'\n",
      " 'betel' 'betel' 'betel' 'betel' 'betel' 'betel' 'betel' 'betel' 'betel'\n",
      " 'betel' 'betel' 'betel' 'betel' 'betel' 'betel' 'betel' 'betel' 'betel'\n",
      " 'betel' 'betel' 'betel' 'betel' 'betel' 'betel' 'betel' 'betel' 'betel'\n",
      " 'betel' 'betel' 'betel' 'betel' 'betel']\n"
     ]
    }
   ],
   "source": [
    "print(labels)"
   ]
  },
  {
   "cell_type": "code",
   "execution_count": 7,
   "id": "0fc69c4c",
   "metadata": {},
   "outputs": [
    {
     "name": "stdout",
     "output_type": "stream",
     "text": [
      "[1 1 1 1 1 1 1 1 1 1 1 1 1 1 1 1 1 1 1 1 1 1 1 1 1 1 1 1 1 1 1 1 1 1 1 1 1\n",
      " 1 1 1 1 1 1 1 1 1 1 1 1 1 0 0 0 0 0 0 0 0 0 0 0 0 0 0 0 0 0 0 0 0 0 0 0 0\n",
      " 0 0 0 0 0 0 0 0 0 0 0 0 0 0 0 0 0 0 0 0 0 0 0 0 0 0]\n"
     ]
    }
   ],
   "source": [
    "# ubah nilai dari labels menjadi binary\n",
    "lb = LabelEncoder()\n",
    "labels = lb.fit_transform(labels)\n",
    "print(labels)"
   ]
  },
  {
   "cell_type": "markdown",
   "id": "7faa72d8",
   "metadata": {},
   "source": [
    "# 4. Split Dataset"
   ]
  },
  {
   "cell_type": "code",
   "execution_count": 8,
   "id": "ccfbe9d9",
   "metadata": {},
   "outputs": [],
   "source": [
    "x_train, x_test, y_train, y_test = train_test_split(data, labels, test_size=0.2, random_state=42)"
   ]
  },
  {
   "cell_type": "code",
   "execution_count": 9,
   "id": "55dc0134",
   "metadata": {},
   "outputs": [
    {
     "name": "stdout",
     "output_type": "stream",
     "text": [
      "Ukuran data train = (80, 32, 32, 3)\n",
      "Ukuran data test = (20, 32, 32, 3)\n"
     ]
    }
   ],
   "source": [
    "print('Ukuran data train =', x_train.shape)\n",
    "print('Ukuran data test =', x_test.shape)"
   ]
  },
  {
   "cell_type": "markdown",
   "id": "e0e292d6",
   "metadata": {},
   "source": [
    "# 5. Build ANN Architecture"
   ]
  },
  {
   "cell_type": "code",
   "execution_count": 10,
   "id": "912c3044",
   "metadata": {},
   "outputs": [],
   "source": [
    "model = Sequential()\n",
    "model.add(Flatten(input_shape=(32,32,3)))\n",
    "model.add(Dense(1024, activation=\"relu\"))\n",
    "model.add(Dense(1024, activation=\"relu\"))\n",
    "model.add(Dense(1, activation=\"sigmoid\"))"
   ]
  },
  {
   "cell_type": "code",
   "execution_count": 11,
   "id": "11d49093",
   "metadata": {},
   "outputs": [
    {
     "name": "stdout",
     "output_type": "stream",
     "text": [
      "Model: \"sequential\"\n",
      "_________________________________________________________________\n",
      " Layer (type)                Output Shape              Param #   \n",
      "=================================================================\n",
      " flatten (Flatten)           (None, 3072)              0         \n",
      "                                                                 \n",
      " dense (Dense)               (None, 1024)              3146752   \n",
      "                                                                 \n",
      " dense_1 (Dense)             (None, 1024)              1049600   \n",
      "                                                                 \n",
      " dense_2 (Dense)             (None, 1)                 1025      \n",
      "                                                                 \n",
      "=================================================================\n",
      "Total params: 4,197,377\n",
      "Trainable params: 4,197,377\n",
      "Non-trainable params: 0\n",
      "_________________________________________________________________\n"
     ]
    }
   ],
   "source": [
    "model.summary()"
   ]
  },
  {
   "cell_type": "code",
   "execution_count": 12,
   "id": "ac43d770",
   "metadata": {},
   "outputs": [],
   "source": [
    "# tentukan hyperparameter\n",
    "lr = 0.01\n",
    "max_epochs = 100\n",
    "opt_funct = SGD(learning_rate=lr)"
   ]
  },
  {
   "cell_type": "code",
   "execution_count": 13,
   "id": "92f79ded",
   "metadata": {},
   "outputs": [],
   "source": [
    "# compile arsitektur yang telah dibuat\n",
    "model.compile(loss = 'binary_crossentropy', \n",
    "              optimizer = opt_funct, \n",
    "              metrics = ['accuracy'])"
   ]
  },
  {
   "cell_type": "markdown",
   "id": "d2af934e",
   "metadata": {},
   "source": [
    "# 6. Train Model"
   ]
  },
  {
   "cell_type": "code",
   "execution_count": 14,
   "id": "d4e72d39",
   "metadata": {},
   "outputs": [
    {
     "name": "stdout",
     "output_type": "stream",
     "text": [
      "Epoch 1/100\n",
      "3/3 [==============================] - 1s 125ms/step - loss: 1.7300 - accuracy: 0.4500 - val_loss: 1.5224 - val_accuracy: 0.4000\n",
      "Epoch 2/100\n",
      "3/3 [==============================] - 0s 36ms/step - loss: 0.9737 - accuracy: 0.5000 - val_loss: 0.8111 - val_accuracy: 0.6000\n",
      "Epoch 3/100\n",
      "3/3 [==============================] - 0s 32ms/step - loss: 1.0557 - accuracy: 0.4500 - val_loss: 0.6390 - val_accuracy: 0.6000\n",
      "Epoch 4/100\n",
      "3/3 [==============================] - 0s 33ms/step - loss: 0.6511 - accuracy: 0.5000 - val_loss: 0.6573 - val_accuracy: 0.6000\n",
      "Epoch 5/100\n",
      "3/3 [==============================] - 0s 32ms/step - loss: 0.6057 - accuracy: 0.7500 - val_loss: 0.6019 - val_accuracy: 0.6000\n",
      "Epoch 6/100\n",
      "3/3 [==============================] - 0s 32ms/step - loss: 0.5937 - accuracy: 0.6750 - val_loss: 0.5869 - val_accuracy: 0.6000\n",
      "Epoch 7/100\n",
      "3/3 [==============================] - 0s 31ms/step - loss: 0.6237 - accuracy: 0.5750 - val_loss: 0.5854 - val_accuracy: 0.8500\n",
      "Epoch 8/100\n",
      "3/3 [==============================] - 0s 34ms/step - loss: 0.5733 - accuracy: 0.7375 - val_loss: 0.5680 - val_accuracy: 0.8500\n",
      "Epoch 9/100\n",
      "3/3 [==============================] - 0s 35ms/step - loss: 0.6734 - accuracy: 0.6500 - val_loss: 0.7771 - val_accuracy: 0.4000\n",
      "Epoch 10/100\n",
      "3/3 [==============================] - 0s 41ms/step - loss: 0.5899 - accuracy: 0.6000 - val_loss: 0.6937 - val_accuracy: 0.4500\n",
      "Epoch 11/100\n",
      "3/3 [==============================] - 0s 41ms/step - loss: 0.5277 - accuracy: 0.7750 - val_loss: 0.5390 - val_accuracy: 0.7000\n",
      "Epoch 12/100\n",
      "3/3 [==============================] - 0s 42ms/step - loss: 0.7119 - accuracy: 0.5625 - val_loss: 1.4390 - val_accuracy: 0.4000\n",
      "Epoch 13/100\n",
      "3/3 [==============================] - 0s 34ms/step - loss: 0.9203 - accuracy: 0.4500 - val_loss: 0.5656 - val_accuracy: 0.7000\n",
      "Epoch 14/100\n",
      "3/3 [==============================] - 0s 34ms/step - loss: 0.5280 - accuracy: 0.8875 - val_loss: 0.8187 - val_accuracy: 0.4000\n",
      "Epoch 15/100\n",
      "3/3 [==============================] - 0s 49ms/step - loss: 0.5671 - accuracy: 0.6750 - val_loss: 0.5397 - val_accuracy: 0.8000\n",
      "Epoch 16/100\n",
      "3/3 [==============================] - 0s 44ms/step - loss: 0.5065 - accuracy: 0.8625 - val_loss: 0.8257 - val_accuracy: 0.6000\n",
      "Epoch 17/100\n",
      "3/3 [==============================] - 0s 30ms/step - loss: 0.8008 - accuracy: 0.5125 - val_loss: 0.5465 - val_accuracy: 0.8500\n",
      "Epoch 18/100\n",
      "3/3 [==============================] - 0s 32ms/step - loss: 0.4961 - accuracy: 0.8625 - val_loss: 0.5206 - val_accuracy: 0.8500\n",
      "Epoch 19/100\n",
      "3/3 [==============================] - 0s 32ms/step - loss: 0.4642 - accuracy: 0.9000 - val_loss: 0.5338 - val_accuracy: 0.8000\n",
      "Epoch 20/100\n",
      "3/3 [==============================] - 0s 31ms/step - loss: 0.5530 - accuracy: 0.7125 - val_loss: 0.5875 - val_accuracy: 0.6000\n",
      "Epoch 21/100\n",
      "3/3 [==============================] - 0s 31ms/step - loss: 0.4963 - accuracy: 0.7375 - val_loss: 0.5569 - val_accuracy: 0.7500\n",
      "Epoch 22/100\n",
      "3/3 [==============================] - 0s 32ms/step - loss: 0.5756 - accuracy: 0.5875 - val_loss: 0.5246 - val_accuracy: 0.8000\n",
      "Epoch 23/100\n",
      "3/3 [==============================] - 0s 30ms/step - loss: 0.4367 - accuracy: 0.9125 - val_loss: 0.5111 - val_accuracy: 0.8500\n",
      "Epoch 24/100\n",
      "3/3 [==============================] - 0s 32ms/step - loss: 0.4249 - accuracy: 0.8875 - val_loss: 0.7057 - val_accuracy: 0.6000\n",
      "Epoch 25/100\n",
      "3/3 [==============================] - 0s 33ms/step - loss: 0.7632 - accuracy: 0.4500 - val_loss: 0.8105 - val_accuracy: 0.4500\n",
      "Epoch 26/100\n",
      "3/3 [==============================] - 0s 32ms/step - loss: 0.6093 - accuracy: 0.6000 - val_loss: 0.5079 - val_accuracy: 0.7000\n",
      "Epoch 27/100\n",
      "3/3 [==============================] - 0s 31ms/step - loss: 0.4893 - accuracy: 0.7000 - val_loss: 0.6364 - val_accuracy: 0.5500\n",
      "Epoch 28/100\n",
      "3/3 [==============================] - 0s 30ms/step - loss: 0.4363 - accuracy: 0.8250 - val_loss: 0.7361 - val_accuracy: 0.5000\n",
      "Epoch 29/100\n",
      "3/3 [==============================] - 0s 32ms/step - loss: 0.7947 - accuracy: 0.4625 - val_loss: 0.5520 - val_accuracy: 0.7500\n",
      "Epoch 30/100\n",
      "3/3 [==============================] - 0s 30ms/step - loss: 0.4594 - accuracy: 0.8375 - val_loss: 0.5814 - val_accuracy: 0.7500\n",
      "Epoch 31/100\n",
      "3/3 [==============================] - 0s 40ms/step - loss: 0.4105 - accuracy: 0.8750 - val_loss: 0.4943 - val_accuracy: 0.8000\n",
      "Epoch 32/100\n",
      "3/3 [==============================] - 0s 51ms/step - loss: 0.3952 - accuracy: 0.9125 - val_loss: 0.4814 - val_accuracy: 0.8500\n",
      "Epoch 33/100\n",
      "3/3 [==============================] - 0s 35ms/step - loss: 0.4413 - accuracy: 0.8500 - val_loss: 0.5701 - val_accuracy: 0.6000\n",
      "Epoch 34/100\n",
      "3/3 [==============================] - 0s 30ms/step - loss: 0.8703 - accuracy: 0.4125 - val_loss: 0.5604 - val_accuracy: 0.7500\n",
      "Epoch 35/100\n",
      "3/3 [==============================] - 0s 31ms/step - loss: 0.4859 - accuracy: 0.7625 - val_loss: 0.4707 - val_accuracy: 0.8500\n",
      "Epoch 36/100\n",
      "3/3 [==============================] - 0s 30ms/step - loss: 0.3915 - accuracy: 0.9375 - val_loss: 0.6042 - val_accuracy: 0.6000\n",
      "Epoch 37/100\n",
      "3/3 [==============================] - 0s 31ms/step - loss: 0.3768 - accuracy: 0.8750 - val_loss: 0.4842 - val_accuracy: 0.8000\n",
      "Epoch 38/100\n",
      "3/3 [==============================] - 0s 31ms/step - loss: 0.3834 - accuracy: 0.8625 - val_loss: 0.4658 - val_accuracy: 0.8000\n",
      "Epoch 39/100\n",
      "3/3 [==============================] - 0s 31ms/step - loss: 0.3823 - accuracy: 0.8500 - val_loss: 0.4349 - val_accuracy: 0.8500\n",
      "Epoch 40/100\n",
      "3/3 [==============================] - 0s 30ms/step - loss: 0.3660 - accuracy: 0.9000 - val_loss: 0.4570 - val_accuracy: 0.8000\n",
      "Epoch 41/100\n",
      "3/3 [==============================] - 0s 31ms/step - loss: 0.3504 - accuracy: 0.9000 - val_loss: 0.9683 - val_accuracy: 0.4500\n",
      "Epoch 42/100\n",
      "3/3 [==============================] - 0s 33ms/step - loss: 0.6084 - accuracy: 0.6125 - val_loss: 0.4549 - val_accuracy: 0.8000\n",
      "Epoch 43/100\n",
      "3/3 [==============================] - ETA: 0s - loss: 0.3722 - accuracy: 0.91 - 0s 46ms/step - loss: 0.3722 - accuracy: 0.9125 - val_loss: 0.4440 - val_accuracy: 0.8000\n",
      "Epoch 44/100\n",
      "3/3 [==============================] - 0s 51ms/step - loss: 0.3253 - accuracy: 0.9125 - val_loss: 0.4267 - val_accuracy: 0.8500\n",
      "Epoch 45/100\n",
      "3/3 [==============================] - 0s 37ms/step - loss: 0.3150 - accuracy: 0.9000 - val_loss: 0.4543 - val_accuracy: 0.7000\n",
      "Epoch 46/100\n",
      "3/3 [==============================] - 0s 41ms/step - loss: 0.4723 - accuracy: 0.7375 - val_loss: 0.8332 - val_accuracy: 0.5000\n",
      "Epoch 47/100\n",
      "3/3 [==============================] - 0s 35ms/step - loss: 0.4580 - accuracy: 0.7375 - val_loss: 0.4325 - val_accuracy: 0.8000\n",
      "Epoch 48/100\n",
      "3/3 [==============================] - 0s 32ms/step - loss: 0.4056 - accuracy: 0.8125 - val_loss: 0.4913 - val_accuracy: 0.8000\n",
      "Epoch 49/100\n",
      "3/3 [==============================] - 0s 30ms/step - loss: 0.3198 - accuracy: 0.9375 - val_loss: 0.4247 - val_accuracy: 0.8500\n",
      "Epoch 50/100\n",
      "3/3 [==============================] - 0s 40ms/step - loss: 0.2973 - accuracy: 0.9000 - val_loss: 0.4197 - val_accuracy: 0.8000\n",
      "Epoch 51/100\n",
      "3/3 [==============================] - 0s 54ms/step - loss: 0.2884 - accuracy: 0.9250 - val_loss: 0.4189 - val_accuracy: 0.9000\n",
      "Epoch 52/100\n",
      "3/3 [==============================] - 0s 43ms/step - loss: 0.3307 - accuracy: 0.9125 - val_loss: 0.4144 - val_accuracy: 0.8000\n",
      "Epoch 53/100\n",
      "3/3 [==============================] - 0s 41ms/step - loss: 0.2915 - accuracy: 0.9125 - val_loss: 0.5557 - val_accuracy: 0.7500\n",
      "Epoch 54/100\n",
      "3/3 [==============================] - 0s 35ms/step - loss: 0.4071 - accuracy: 0.7875 - val_loss: 0.4184 - val_accuracy: 0.8500\n",
      "Epoch 55/100\n",
      "3/3 [==============================] - 0s 30ms/step - loss: 0.4377 - accuracy: 0.7625 - val_loss: 1.0177 - val_accuracy: 0.4500\n",
      "Epoch 56/100\n",
      "3/3 [==============================] - 0s 36ms/step - loss: 0.5157 - accuracy: 0.6875 - val_loss: 0.4162 - val_accuracy: 0.8000\n",
      "Epoch 57/100\n",
      "3/3 [==============================] - 0s 31ms/step - loss: 0.2884 - accuracy: 0.9250 - val_loss: 0.4528 - val_accuracy: 0.8000\n",
      "Epoch 58/100\n",
      "3/3 [==============================] - 0s 31ms/step - loss: 0.3304 - accuracy: 0.9125 - val_loss: 0.4929 - val_accuracy: 0.7000\n"
     ]
    },
    {
     "name": "stdout",
     "output_type": "stream",
     "text": [
      "Epoch 59/100\n",
      "3/3 [==============================] - 0s 52ms/step - loss: 0.3183 - accuracy: 0.8625 - val_loss: 0.3932 - val_accuracy: 0.8500\n",
      "Epoch 60/100\n",
      "3/3 [==============================] - 0s 44ms/step - loss: 0.3553 - accuracy: 0.8500 - val_loss: 0.3908 - val_accuracy: 0.8500\n",
      "Epoch 61/100\n",
      "3/3 [==============================] - 0s 32ms/step - loss: 0.2600 - accuracy: 0.9250 - val_loss: 0.3951 - val_accuracy: 0.8500\n",
      "Epoch 62/100\n",
      "3/3 [==============================] - 0s 35ms/step - loss: 0.2953 - accuracy: 0.8875 - val_loss: 0.4779 - val_accuracy: 0.8000\n",
      "Epoch 63/100\n",
      "3/3 [==============================] - 0s 52ms/step - loss: 0.3148 - accuracy: 0.8625 - val_loss: 0.3910 - val_accuracy: 0.8000\n",
      "Epoch 64/100\n",
      "3/3 [==============================] - 0s 28ms/step - loss: 0.3879 - accuracy: 0.8000 - val_loss: 1.4363 - val_accuracy: 0.4500\n",
      "Epoch 65/100\n",
      "3/3 [==============================] - 0s 32ms/step - loss: 0.6281 - accuracy: 0.6875 - val_loss: 0.4783 - val_accuracy: 0.7000\n",
      "Epoch 66/100\n",
      "3/3 [==============================] - 0s 29ms/step - loss: 0.3464 - accuracy: 0.8500 - val_loss: 0.5773 - val_accuracy: 0.7500\n",
      "Epoch 67/100\n",
      "3/3 [==============================] - 0s 50ms/step - loss: 0.2780 - accuracy: 0.9000 - val_loss: 0.6220 - val_accuracy: 0.7500\n",
      "Epoch 68/100\n",
      "3/3 [==============================] - 0s 42ms/step - loss: 0.5575 - accuracy: 0.7250 - val_loss: 0.6312 - val_accuracy: 0.6000\n",
      "Epoch 69/100\n",
      "3/3 [==============================] - 0s 31ms/step - loss: 0.5019 - accuracy: 0.6625 - val_loss: 0.4992 - val_accuracy: 0.7500\n",
      "Epoch 70/100\n",
      "3/3 [==============================] - 0s 32ms/step - loss: 0.2936 - accuracy: 0.8875 - val_loss: 0.7696 - val_accuracy: 0.6000\n",
      "Epoch 71/100\n",
      "3/3 [==============================] - 0s 33ms/step - loss: 0.3948 - accuracy: 0.7875 - val_loss: 0.4370 - val_accuracy: 0.7000\n",
      "Epoch 72/100\n",
      "3/3 [==============================] - 0s 45ms/step - loss: 0.2758 - accuracy: 0.9375 - val_loss: 0.3840 - val_accuracy: 0.8000\n",
      "Epoch 73/100\n",
      "3/3 [==============================] - 0s 51ms/step - loss: 0.2513 - accuracy: 0.9125 - val_loss: 0.8116 - val_accuracy: 0.6000\n",
      "Epoch 74/100\n",
      "3/3 [==============================] - 0s 33ms/step - loss: 0.7182 - accuracy: 0.5750 - val_loss: 0.6000 - val_accuracy: 0.7000\n",
      "Epoch 75/100\n",
      "3/3 [==============================] - 0s 32ms/step - loss: 0.3624 - accuracy: 0.8250 - val_loss: 0.3950 - val_accuracy: 0.8500\n",
      "Epoch 76/100\n",
      "3/3 [==============================] - 0s 35ms/step - loss: 0.3127 - accuracy: 0.8875 - val_loss: 0.6161 - val_accuracy: 0.7000\n",
      "Epoch 77/100\n",
      "3/3 [==============================] - 0s 32ms/step - loss: 0.4808 - accuracy: 0.7750 - val_loss: 0.5977 - val_accuracy: 0.6000\n",
      "Epoch 78/100\n",
      "3/3 [==============================] - 0s 33ms/step - loss: 0.3037 - accuracy: 0.8500 - val_loss: 0.3995 - val_accuracy: 0.8000\n",
      "Epoch 79/100\n",
      "3/3 [==============================] - 0s 34ms/step - loss: 0.2351 - accuracy: 0.9625 - val_loss: 0.3825 - val_accuracy: 0.8500\n",
      "Epoch 80/100\n",
      "3/3 [==============================] - 0s 31ms/step - loss: 0.2635 - accuracy: 0.9125 - val_loss: 0.7692 - val_accuracy: 0.6000\n",
      "Epoch 81/100\n",
      "3/3 [==============================] - 0s 30ms/step - loss: 0.6358 - accuracy: 0.6750 - val_loss: 0.6176 - val_accuracy: 0.7000\n",
      "Epoch 82/100\n",
      "3/3 [==============================] - 0s 29ms/step - loss: 0.2640 - accuracy: 0.9250 - val_loss: 0.3955 - val_accuracy: 0.8000\n",
      "Epoch 83/100\n",
      "3/3 [==============================] - 0s 31ms/step - loss: 0.2423 - accuracy: 0.9125 - val_loss: 0.7750 - val_accuracy: 0.6000\n",
      "Epoch 84/100\n",
      "3/3 [==============================] - 0s 32ms/step - loss: 0.4263 - accuracy: 0.7750 - val_loss: 0.3840 - val_accuracy: 0.8000\n",
      "Epoch 85/100\n",
      "3/3 [==============================] - 0s 30ms/step - loss: 0.2557 - accuracy: 0.9375 - val_loss: 0.4148 - val_accuracy: 0.8000\n",
      "Epoch 86/100\n",
      "3/3 [==============================] - 0s 32ms/step - loss: 0.2820 - accuracy: 0.9125 - val_loss: 0.7553 - val_accuracy: 0.6000\n",
      "Epoch 87/100\n",
      "3/3 [==============================] - 0s 35ms/step - loss: 0.2831 - accuracy: 0.8875 - val_loss: 0.3548 - val_accuracy: 0.8500\n",
      "Epoch 88/100\n",
      "3/3 [==============================] - 0s 30ms/step - loss: 0.2068 - accuracy: 0.9375 - val_loss: 0.3550 - val_accuracy: 0.8500\n",
      "Epoch 89/100\n",
      "3/3 [==============================] - 0s 38ms/step - loss: 0.2080 - accuracy: 0.9375 - val_loss: 0.8937 - val_accuracy: 0.6000\n",
      "Epoch 90/100\n",
      "3/3 [==============================] - 0s 31ms/step - loss: 0.8364 - accuracy: 0.6125 - val_loss: 0.6561 - val_accuracy: 0.6500\n",
      "Epoch 91/100\n",
      "3/3 [==============================] - 0s 28ms/step - loss: 0.3034 - accuracy: 0.9125 - val_loss: 0.3853 - val_accuracy: 0.7500\n",
      "Epoch 92/100\n",
      "3/3 [==============================] - 0s 30ms/step - loss: 0.2699 - accuracy: 0.9000 - val_loss: 0.5251 - val_accuracy: 0.7500\n",
      "Epoch 93/100\n",
      "3/3 [==============================] - 0s 30ms/step - loss: 0.2876 - accuracy: 0.8875 - val_loss: 0.3642 - val_accuracy: 0.8500\n",
      "Epoch 94/100\n",
      "3/3 [==============================] - 0s 29ms/step - loss: 0.2324 - accuracy: 0.9375 - val_loss: 0.6363 - val_accuracy: 0.7500\n",
      "Epoch 95/100\n",
      "3/3 [==============================] - 0s 31ms/step - loss: 0.4537 - accuracy: 0.7500 - val_loss: 0.8544 - val_accuracy: 0.6000\n",
      "Epoch 96/100\n",
      "3/3 [==============================] - 0s 31ms/step - loss: 0.6290 - accuracy: 0.6000 - val_loss: 0.6680 - val_accuracy: 0.6500\n",
      "Epoch 97/100\n",
      "3/3 [==============================] - 0s 30ms/step - loss: 0.2969 - accuracy: 0.8750 - val_loss: 0.3739 - val_accuracy: 0.8500\n",
      "Epoch 98/100\n",
      "3/3 [==============================] - 0s 42ms/step - loss: 0.2310 - accuracy: 0.9125 - val_loss: 0.3997 - val_accuracy: 0.8000\n",
      "Epoch 99/100\n",
      "3/3 [==============================] - 0s 45ms/step - loss: 0.2002 - accuracy: 0.9375 - val_loss: 0.3527 - val_accuracy: 0.8500\n",
      "Epoch 100/100\n",
      "3/3 [==============================] - 0s 33ms/step - loss: 0.2033 - accuracy: 0.9375 - val_loss: 0.3825 - val_accuracy: 0.8500\n"
     ]
    }
   ],
   "source": [
    "H = model.fit(x_train, y_train, validation_data=(x_test, y_test), \n",
    "          epochs=max_epochs, batch_size=32)"
   ]
  },
  {
   "cell_type": "code",
   "execution_count": 15,
   "id": "9d240982",
   "metadata": {},
   "outputs": [
    {
     "data": {
      "image/png": "[encoded data removed]",
      "text/plain": [
       "<Figure size 432x288 with 1 Axes>"
      ]
     },
     "metadata": {},
     "output_type": "display_data"
    }
   ],
   "source": [
    "N = np.arange(0, max_epochs)\n",
    "plt.style.use(\"ggplot\")\n",
    "plt.figure()\n",
    "plt.plot(N, H.history[\"loss\"], label=\"train_loss\")\n",
    "plt.plot(N, H.history[\"val_loss\"], label=\"val_loss\")\n",
    "#plt.plot(N, H.history[\"accuracy\"], label=\"train_acc\")\n",
    "#plt.plot(N, H.history[\"val_accuracy\"], label=\"val_acc\")\n",
    "plt.xlabel(\"Epoch #\")\n",
    "plt.legend()\n",
    "plt.show()"
   ]
  },
  {
   "cell_type": "markdown",
   "id": "ff01631e",
   "metadata": {},
   "source": [
    "# 7. Evaluate the Model"
   ]
  },
  {
   "cell_type": "code",
   "execution_count": 16,
   "id": "2aa43474",
   "metadata": {},
   "outputs": [
    {
     "name": "stdout",
     "output_type": "stream",
     "text": [
      "              precision    recall  f1-score   support\n",
      "\n",
      "        lime       0.73      1.00      0.84         8\n",
      "       betel       1.00      0.75      0.86        12\n",
      "\n",
      "    accuracy                           0.85        20\n",
      "   macro avg       0.86      0.88      0.85        20\n",
      "weighted avg       0.89      0.85      0.85        20\n",
      "\n"
     ]
    },
    {
     "name": "stderr",
     "output_type": "stream",
     "text": [
      "C:\\Users\\ASUS\\AppData\\Local\\Temp/ipykernel_12580/954476436.py:3: DeprecationWarning: `np.int` is a deprecated alias for the builtin `int`. To silence this warning, use `int` by itself. Doing this will not modify any behavior and is safe. When replacing `np.int`, you may wish to use e.g. `np.int64` or `np.int32` to specify the precision. If you wish to review your current use, check the release note link for additional information.\n",
      "Deprecated in NumPy 1.20; for more details and guidance: https://numpy.org/devdocs/release/1.20.0-notes.html#deprecations\n",
      "  target = (predictions > 0.5).astype(np.int)\n"
     ]
    }
   ],
   "source": [
    "# menghitung nilai akurasi model terhadap data test\n",
    "predictions = model.predict(x_test, batch_size=32)\n",
    "target = (predictions > 0.5).astype(np.int)\n",
    "print(classification_report(y_test, target, target_names=label_list))"
   ]
  },
  {
   "cell_type": "code",
   "execution_count": 23,
   "id": "1794b44e",
   "metadata": {},
   "outputs": [
    {
     "ename": "AttributeError",
     "evalue": "'NoneType' object has no attribute 'copy'",
     "output_type": "error",
     "traceback": [
      "\u001b[1;31m---------------------------------------------------------------------------\u001b[0m",
      "\u001b[1;31mAttributeError\u001b[0m                            Traceback (most recent call last)",
      "\u001b[1;32m~\\AppData\\Local\\Temp/ipykernel_12580/3793535114.py\u001b[0m in \u001b[0;36m<module>\u001b[1;34m\u001b[0m\n\u001b[0;32m      2\u001b[0m \u001b[0mqueryPath\u001b[0m \u001b[1;33m=\u001b[0m \u001b[0mimagePaths\u001b[0m\u001b[1;33m+\u001b[0m\u001b[1;34m'query_lime.jpg'\u001b[0m\u001b[1;33m\u001b[0m\u001b[1;33m\u001b[0m\u001b[0m\n\u001b[0;32m      3\u001b[0m \u001b[0mquery\u001b[0m \u001b[1;33m=\u001b[0m \u001b[0mcv2\u001b[0m\u001b[1;33m.\u001b[0m\u001b[0mimread\u001b[0m\u001b[1;33m(\u001b[0m\u001b[0mqueryPath\u001b[0m\u001b[1;33m)\u001b[0m\u001b[1;33m\u001b[0m\u001b[1;33m\u001b[0m\u001b[0m\n\u001b[1;32m----> 4\u001b[1;33m \u001b[0moutput\u001b[0m \u001b[1;33m=\u001b[0m \u001b[0mquery\u001b[0m\u001b[1;33m.\u001b[0m\u001b[0mcopy\u001b[0m\u001b[1;33m(\u001b[0m\u001b[1;33m)\u001b[0m\u001b[1;33m\u001b[0m\u001b[1;33m\u001b[0m\u001b[0m\n\u001b[0m\u001b[0;32m      5\u001b[0m \u001b[0mquery\u001b[0m \u001b[1;33m=\u001b[0m \u001b[0mcv2\u001b[0m\u001b[1;33m.\u001b[0m\u001b[0mresize\u001b[0m\u001b[1;33m(\u001b[0m\u001b[0mquery\u001b[0m\u001b[1;33m,\u001b[0m \u001b[1;33m(\u001b[0m\u001b[1;36m32\u001b[0m\u001b[1;33m,\u001b[0m \u001b[1;36m32\u001b[0m\u001b[1;33m)\u001b[0m\u001b[1;33m)\u001b[0m\u001b[1;33m\u001b[0m\u001b[1;33m\u001b[0m\u001b[0m\n\u001b[0;32m      6\u001b[0m \u001b[0mq\u001b[0m \u001b[1;33m=\u001b[0m \u001b[1;33m[\u001b[0m\u001b[1;33m]\u001b[0m\u001b[1;33m\u001b[0m\u001b[1;33m\u001b[0m\u001b[0m\n",
      "\u001b[1;31mAttributeError\u001b[0m: 'NoneType' object has no attribute 'copy'"
     ]
    }
   ],
   "source": [
    "# uji model menggunakan image lain\n",
    "queryPath = imagePaths+'query_lime.jpg'\n",
    "query = cv2.imread(queryPath)\n",
    "output = query.copy()\n",
    "query = cv2.resize(query, (32, 32))\n",
    "q = []\n",
    "q.append(query)\n",
    "q = np.array(q, dtype='float') / 255.0\n",
    "\n",
    "q_pred = model.predict(q)\n",
    "print(q_pred)"
   ]
  },
  {
   "cell_type": "code",
   "execution_count": 24,
   "id": "99cf1ff5",
   "metadata": {},
   "outputs": [
    {
     "ename": "error",
     "evalue": "OpenCV(4.5.4) D:\\a\\opencv-python\\opencv-python\\opencv\\modules\\highgui\\src\\window_w32.cpp:1261: error: (-27:Null pointer) NULL window: 'Output' in function 'cvDestroyWindow'\n",
     "output_type": "error",
     "traceback": [
      "\u001b[1;31m---------------------------------------------------------------------------\u001b[0m",
      "\u001b[1;31merror\u001b[0m                                     Traceback (most recent call last)",
      "\u001b[1;32m~\\AppData\\Local\\Temp/ipykernel_12580/3309322524.py\u001b[0m in \u001b[0;36m<module>\u001b[1;34m\u001b[0m\n\u001b[0;32m      9\u001b[0m \u001b[0mcv2\u001b[0m\u001b[1;33m.\u001b[0m\u001b[0mimshow\u001b[0m\u001b[1;33m(\u001b[0m\u001b[1;34m'Output'\u001b[0m\u001b[1;33m,\u001b[0m \u001b[0moutput\u001b[0m\u001b[1;33m)\u001b[0m\u001b[1;33m\u001b[0m\u001b[1;33m\u001b[0m\u001b[0m\n\u001b[0;32m     10\u001b[0m \u001b[0mcv2\u001b[0m\u001b[1;33m.\u001b[0m\u001b[0mwaitKey\u001b[0m\u001b[1;33m(\u001b[0m\u001b[1;33m)\u001b[0m \u001b[1;31m# image tidak akan diclose,sebelum user menekan sembarang tombol\u001b[0m\u001b[1;33m\u001b[0m\u001b[1;33m\u001b[0m\u001b[0m\n\u001b[1;32m---> 11\u001b[1;33m \u001b[0mcv2\u001b[0m\u001b[1;33m.\u001b[0m\u001b[0mdestroyWindow\u001b[0m\u001b[1;33m(\u001b[0m\u001b[1;34m'Output'\u001b[0m\u001b[1;33m)\u001b[0m \u001b[1;31m# image akan diclose\u001b[0m\u001b[1;33m\u001b[0m\u001b[1;33m\u001b[0m\u001b[0m\n\u001b[0m",
      "\u001b[1;31merror\u001b[0m: OpenCV(4.5.4) D:\\a\\opencv-python\\opencv-python\\opencv\\modules\\highgui\\src\\window_w32.cpp:1261: error: (-27:Null pointer) NULL window: 'Output' in function 'cvDestroyWindow'\n"
     ]
    }
   ],
   "source": [
    "if q_pred<=0.5 :\n",
    "    target = \"Lime\"\n",
    "else :\n",
    "    target = \"Betel\"\n",
    "text = \"{}\".format(target)\n",
    "cv2.putText(output, text, (10, 30), cv2.FONT_HERSHEY_SIMPLEX, 0.7, (0, 0, 255), 2)\n",
    " \n",
    "# menampilkan output image\n",
    "cv2.imshow('Output', output)\n",
    "cv2.waitKey() # image tidak akan diclose,sebelum user menekan sembarang tombol\n",
    "cv2.destroyWindow('Output') # image akan diclose"
   ]
  },
  {
   "cell_type": "code",
   "execution_count": null,
   "id": "2834b4ed",
   "metadata": {},
   "outputs": [],
   "source": []
  }
 ],
 "metadata": {
  "kernelspec": {
   "display_name": "Python 3 (ipykernel)",
   "language": "python",
   "name": "python3"
  },
  "language_info": {
   "codemirror_mode": {
    "name": "ipython",
    "version": 3
   },
   "file_extension": ".py",
   "mimetype": "text/x-python",
   "name": "python",
   "nbconvert_exporter": "python",
   "pygments_lexer": "ipython3",
   "version": "3.8.2"
  }
 },
 "nbformat": 4,
 "nbformat_minor": 5
}
