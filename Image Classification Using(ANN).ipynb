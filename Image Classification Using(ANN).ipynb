{
 "cells": [
  {
   "cell_type": "markdown",
   "id": "6f2c852c",
   "metadata": {},
   "source": [
    "# 1. Import module yang dibutuhkan"
   ]
  },
  {
   "cell_type": "code",
   "execution_count": 1,
   "id": "d1863771",
   "metadata": {},
   "outputs": [],
   "source": [
    "from sklearn.model_selection import train_test_split\n",
    "from sklearn.preprocessing import LabelEncoder\n",
    "from sklearn.metrics import classification_report\n",
    "from tensorflow.keras.models import Sequential\n",
    "from tensorflow.keras.layers import Flatten, Dense\n",
    "from tensorflow.keras.optimizers import SGD\n",
    "import numpy as np\n",
    "import cv2\n",
    "import glob\n",
    "import matplotlib.pyplot as plt"
   ]
  },
  {
   "cell_type": "markdown",
   "id": "b6686338",
   "metadata": {},
   "source": [
    "# 2. Load Dataset"
   ]
  },
  {
   "cell_type": "code",
   "execution_count": 2,
   "id": "c8e7096f",
   "metadata": {},
   "outputs": [],
   "source": [
    "imagePaths = 'Dataset\\\\leaf\\\\'\n",
    "label_list = ['lime', 'betel']\n",
    "data = []\n",
    "labels = []"
   ]
  },
  {
   "cell_type": "code",
   "execution_count": 3,
   "id": "4dda8f97",
   "metadata": {},
   "outputs": [],
   "source": [
    "for label in label_list:\n",
    "    for imagePath in glob.glob(imagePaths+label+'\\\\*.jpg'):\n",
    "        #print(imagePath)\n",
    "        image = cv2.imread(imagePath)\n",
    "        image = cv2.resize(image, (32, 32))\n",
    "        data.append(image)\n",
    "        labels.append(label)"
   ]
  },
  {
   "cell_type": "code",
   "execution_count": 4,
   "id": "5b119dea",
   "metadata": {},
   "outputs": [
    {
     "data": {
      "text/plain": [
       "(100, 32, 32, 3)"
      ]
     },
     "execution_count": 4,
     "metadata": {},
     "output_type": "execute_result"
    }
   ],
   "source": [
    "np.array(data).shape"
   ]
  },
  {
   "cell_type": "markdown",
   "id": "c785bba1",
   "metadata": {},
   "source": [
    "# 3. Data Preprocessing"
   ]
  },
  {
   "cell_type": "code",
   "execution_count": 5,
   "id": "88a0dbff",
   "metadata": {},
   "outputs": [],
   "source": [
    "# ubah type data dari list menjadi array\n",
    "# ubah nilai dari tiap pixel menjadi range [0..1]\n",
    "data = np.array(data, dtype='float') / 255.0\n",
    "labels = np.array(labels)"
   ]
  },
  {
   "cell_type": "code",
   "execution_count": 6,
   "id": "f820cc59",
   "metadata": {},
   "outputs": [
    {
     "name": "stdout",
     "output_type": "stream",
     "text": [
      "['lime' 'lime' 'lime' 'lime' 'lime' 'lime' 'lime' 'lime' 'lime' 'lime'\n",
      " 'lime' 'lime' 'lime' 'lime' 'lime' 'lime' 'lime' 'lime' 'lime' 'lime'\n",
      " 'lime' 'lime' 'lime' 'lime' 'lime' 'lime' 'lime' 'lime' 'lime' 'lime'\n",
      " 'lime' 'lime' 'lime' 'lime' 'lime' 'lime' 'lime' 'lime' 'lime' 'lime'\n",
      " 'lime' 'lime' 'lime' 'lime' 'lime' 'lime' 'lime' 'lime' 'lime' 'lime'\n",
      " 'betel' 'betel' 'betel' 'betel' 'betel' 'betel' 'betel' 'betel' 'betel'\n",
      " 'betel' 'betel' 'betel' 'betel' 'betel' 'betel' 'betel' 'betel' 'betel'\n",
      " 'betel' 'betel' 'betel' 'betel' 'betel' 'betel' 'betel' 'betel' 'betel'\n",
      " 'betel' 'betel' 'betel' 'betel' 'betel' 'betel' 'betel' 'betel' 'betel'\n",
      " 'betel' 'betel' 'betel' 'betel' 'betel' 'betel' 'betel' 'betel' 'betel'\n",
      " 'betel' 'betel' 'betel' 'betel' 'betel']\n"
     ]
    }
   ],
   "source": [
    "print(labels)"
   ]
  },
  {
   "cell_type": "code",
   "execution_count": 7,
   "id": "0fc69c4c",
   "metadata": {},
   "outputs": [
    {
     "name": "stdout",
     "output_type": "stream",
     "text": [
      "[1 1 1 1 1 1 1 1 1 1 1 1 1 1 1 1 1 1 1 1 1 1 1 1 1 1 1 1 1 1 1 1 1 1 1 1 1\n",
      " 1 1 1 1 1 1 1 1 1 1 1 1 1 0 0 0 0 0 0 0 0 0 0 0 0 0 0 0 0 0 0 0 0 0 0 0 0\n",
      " 0 0 0 0 0 0 0 0 0 0 0 0 0 0 0 0 0 0 0 0 0 0 0 0 0 0]\n"
     ]
    }
   ],
   "source": [
    "# ubah nilai dari labels menjadi binary\n",
    "lb = LabelEncoder()\n",
    "labels = lb.fit_transform(labels)\n",
    "print(labels)"
   ]
  },
  {
   "cell_type": "markdown",
   "id": "7faa72d8",
   "metadata": {},
   "source": [
    "# 4. Split Dataset"
   ]
  },
  {
   "cell_type": "code",
   "execution_count": 8,
   "id": "ccfbe9d9",
   "metadata": {},
   "outputs": [],
   "source": [
    "x_train, x_test, y_train, y_test = train_test_split(data, labels, test_size=0.2, random_state=42)"
   ]
  },
  {
   "cell_type": "code",
   "execution_count": 9,
   "id": "55dc0134",
   "metadata": {},
   "outputs": [
    {
     "name": "stdout",
     "output_type": "stream",
     "text": [
      "Ukuran data train = (80, 32, 32, 3)\n",
      "Ukuran data test = (20, 32, 32, 3)\n"
     ]
    }
   ],
   "source": [
    "print('Ukuran data train =', x_train.shape)\n",
    "print('Ukuran data test =', x_test.shape)"
   ]
  },
  {
   "cell_type": "markdown",
   "id": "e0e292d6",
   "metadata": {},
   "source": [
    "# 5. Build ANN Architecture"
   ]
  },
  {
   "cell_type": "code",
   "execution_count": 10,
   "id": "912c3044",
   "metadata": {},
   "outputs": [],
   "source": [
    "model = Sequential()\n",
    "model.add(Flatten(input_shape=(32,32,3)))\n",
    "model.add(Dense(1024, activation=\"relu\"))\n",
    "model.add(Dense(1024, activation=\"relu\"))\n",
    "model.add(Dense(1, activation=\"sigmoid\"))"
   ]
  },
  {
   "cell_type": "code",
   "execution_count": 11,
   "id": "11d49093",
   "metadata": {},
   "outputs": [
    {
     "name": "stdout",
     "output_type": "stream",
     "text": [
      "Model: \"sequential\"\n",
      "_________________________________________________________________\n",
      " Layer (type)                Output Shape              Param #   \n",
      "=================================================================\n",
      " flatten (Flatten)           (None, 3072)              0         \n",
      "                                                                 \n",
      " dense (Dense)               (None, 1024)              3146752   \n",
      "                                                                 \n",
      " dense_1 (Dense)             (None, 1024)              1049600   \n",
      "                                                                 \n",
      " dense_2 (Dense)             (None, 1)                 1025      \n",
      "                                                                 \n",
      "=================================================================\n",
      "Total params: 4,197,377\n",
      "Trainable params: 4,197,377\n",
      "Non-trainable params: 0\n",
      "_________________________________________________________________\n"
     ]
    }
   ],
   "source": [
    "model.summary()"
   ]
  },
  {
   "cell_type": "code",
   "execution_count": 12,
   "id": "ac43d770",
   "metadata": {},
   "outputs": [],
   "source": [
    "# tentukan hyperparameter\n",
    "lr = 0.01\n",
    "max_epochs = 100\n",
    "opt_funct = SGD(learning_rate=lr)"
   ]
  },
  {
   "cell_type": "code",
   "execution_count": 13,
   "id": "92f79ded",
   "metadata": {},
   "outputs": [],
   "source": [
    "# compile arsitektur yang telah dibuat\n",
    "model.compile(loss = 'binary_crossentropy', \n",
    "              optimizer = opt_funct, \n",
    "              metrics = ['accuracy'])"
   ]
  },
  {
   "cell_type": "markdown",
   "id": "d2af934e",
   "metadata": {},
   "source": [
    "# 6. Train Model"
   ]
  },
  {
   "cell_type": "code",
   "execution_count": 14,
   "id": "d4e72d39",
   "metadata": {},
   "outputs": [
    {
     "name": "stdout",
     "output_type": "stream",
     "text": [
      "Epoch 1/100\n",
      "3/3 [==============================] - 1s 116ms/step - loss: 1.9998 - accuracy: 0.4000 - val_loss: 1.0231 - val_accuracy: 0.6000\n",
      "Epoch 2/100\n",
      "3/3 [==============================] - 0s 39ms/step - loss: 0.8962 - accuracy: 0.5500 - val_loss: 0.6385 - val_accuracy: 0.7500\n",
      "Epoch 3/100\n",
      "3/3 [==============================] - 0s 33ms/step - loss: 0.6281 - accuracy: 0.6125 - val_loss: 0.6890 - val_accuracy: 0.4500\n",
      "Epoch 4/100\n",
      "3/3 [==============================] - 0s 33ms/step - loss: 0.6302 - accuracy: 0.5875 - val_loss: 0.6940 - val_accuracy: 0.6000\n",
      "Epoch 5/100\n",
      "3/3 [==============================] - 0s 43ms/step - loss: 0.9936 - accuracy: 0.3750 - val_loss: 1.2994 - val_accuracy: 0.4000\n",
      "Epoch 6/100\n",
      "3/3 [==============================] - 0s 32ms/step - loss: 0.7258 - accuracy: 0.6750 - val_loss: 0.6248 - val_accuracy: 0.6000\n",
      "Epoch 7/100\n",
      "3/3 [==============================] - 0s 32ms/step - loss: 0.6169 - accuracy: 0.6250 - val_loss: 0.6052 - val_accuracy: 0.6000\n",
      "Epoch 8/100\n",
      "3/3 [==============================] - 0s 31ms/step - loss: 0.5975 - accuracy: 0.6500 - val_loss: 0.5773 - val_accuracy: 0.8000\n",
      "Epoch 9/100\n",
      "3/3 [==============================] - 0s 29ms/step - loss: 0.6174 - accuracy: 0.7375 - val_loss: 0.6458 - val_accuracy: 0.6000\n",
      "Epoch 10/100\n",
      "3/3 [==============================] - 0s 31ms/step - loss: 0.5686 - accuracy: 0.7125 - val_loss: 0.7606 - val_accuracy: 0.4500\n",
      "Epoch 11/100\n",
      "3/3 [==============================] - 0s 31ms/step - loss: 0.5375 - accuracy: 0.8125 - val_loss: 0.5548 - val_accuracy: 0.8000\n",
      "Epoch 12/100\n",
      "3/3 [==============================] - 0s 32ms/step - loss: 0.5607 - accuracy: 0.7250 - val_loss: 0.6087 - val_accuracy: 0.6000\n",
      "Epoch 13/100\n",
      "3/3 [==============================] - 0s 29ms/step - loss: 0.5114 - accuracy: 0.7375 - val_loss: 0.5486 - val_accuracy: 0.8000\n",
      "Epoch 14/100\n",
      "3/3 [==============================] - 0s 32ms/step - loss: 0.5120 - accuracy: 0.7500 - val_loss: 0.5757 - val_accuracy: 0.7500\n",
      "Epoch 15/100\n",
      "3/3 [==============================] - 0s 34ms/step - loss: 0.8446 - accuracy: 0.5000 - val_loss: 0.6083 - val_accuracy: 0.6000\n",
      "Epoch 16/100\n",
      "3/3 [==============================] - 0s 30ms/step - loss: 0.5429 - accuracy: 0.7875 - val_loss: 0.8743 - val_accuracy: 0.4000\n",
      "Epoch 17/100\n",
      "3/3 [==============================] - 0s 32ms/step - loss: 0.8152 - accuracy: 0.3750 - val_loss: 0.5500 - val_accuracy: 0.7500\n",
      "Epoch 18/100\n",
      "3/3 [==============================] - 0s 44ms/step - loss: 0.5851 - accuracy: 0.6500 - val_loss: 0.7356 - val_accuracy: 0.4500\n",
      "Epoch 19/100\n",
      "3/3 [==============================] - 0s 55ms/step - loss: 0.5196 - accuracy: 0.7875 - val_loss: 0.6362 - val_accuracy: 0.6500\n",
      "Epoch 20/100\n",
      "3/3 [==============================] - 0s 41ms/step - loss: 0.5251 - accuracy: 0.7625 - val_loss: 0.6499 - val_accuracy: 0.6000\n",
      "Epoch 21/100\n",
      "3/3 [==============================] - 0s 43ms/step - loss: 0.4829 - accuracy: 0.7875 - val_loss: 0.5971 - val_accuracy: 0.6500\n",
      "Epoch 22/100\n",
      "3/3 [==============================] - 0s 59ms/step - loss: 0.4642 - accuracy: 0.8875 - val_loss: 0.5250 - val_accuracy: 0.8000\n",
      "Epoch 23/100\n",
      "3/3 [==============================] - 0s 51ms/step - loss: 0.5128 - accuracy: 0.7875 - val_loss: 0.8405 - val_accuracy: 0.6000\n",
      "Epoch 24/100\n",
      "3/3 [==============================] - 0s 54ms/step - loss: 1.0224 - accuracy: 0.3750 - val_loss: 0.6635 - val_accuracy: 0.5500\n",
      "Epoch 25/100\n",
      "3/3 [==============================] - 0s 34ms/step - loss: 0.4913 - accuracy: 0.8000 - val_loss: 0.5931 - val_accuracy: 0.6500\n",
      "Epoch 26/100\n",
      "3/3 [==============================] - 0s 34ms/step - loss: 0.4574 - accuracy: 0.8750 - val_loss: 0.6629 - val_accuracy: 0.5500\n",
      "Epoch 27/100\n",
      "3/3 [==============================] - 0s 32ms/step - loss: 0.4896 - accuracy: 0.7625 - val_loss: 0.5378 - val_accuracy: 0.7500\n",
      "Epoch 28/100\n",
      "3/3 [==============================] - 0s 29ms/step - loss: 0.4592 - accuracy: 0.8500 - val_loss: 0.5146 - val_accuracy: 0.7000\n",
      "Epoch 29/100\n",
      "3/3 [==============================] - 0s 31ms/step - loss: 0.4308 - accuracy: 0.8250 - val_loss: 0.5737 - val_accuracy: 0.6000\n",
      "Epoch 30/100\n",
      "3/3 [==============================] - 0s 31ms/step - loss: 0.5237 - accuracy: 0.6375 - val_loss: 0.6602 - val_accuracy: 0.5500\n",
      "Epoch 31/100\n",
      "3/3 [==============================] - 0s 30ms/step - loss: 0.5344 - accuracy: 0.6250 - val_loss: 0.5055 - val_accuracy: 0.7500\n",
      "Epoch 32/100\n",
      "3/3 [==============================] - 0s 32ms/step - loss: 0.4021 - accuracy: 0.9125 - val_loss: 0.5021 - val_accuracy: 0.7500\n",
      "Epoch 33/100\n",
      "3/3 [==============================] - 0s 34ms/step - loss: 0.4176 - accuracy: 0.8750 - val_loss: 1.1261 - val_accuracy: 0.4000\n",
      "Epoch 34/100\n",
      "3/3 [==============================] - 0s 34ms/step - loss: 0.5673 - accuracy: 0.7625 - val_loss: 0.6710 - val_accuracy: 0.6000\n",
      "Epoch 35/100\n",
      "3/3 [==============================] - 0s 33ms/step - loss: 0.5738 - accuracy: 0.6125 - val_loss: 0.4858 - val_accuracy: 0.8000\n",
      "Epoch 36/100\n",
      "3/3 [==============================] - 0s 31ms/step - loss: 0.3778 - accuracy: 0.9000 - val_loss: 0.4650 - val_accuracy: 0.8000\n",
      "Epoch 37/100\n",
      "3/3 [==============================] - 0s 56ms/step - loss: 0.3863 - accuracy: 0.8875 - val_loss: 0.6913 - val_accuracy: 0.6000\n",
      "Epoch 38/100\n",
      "3/3 [==============================] - 0s 54ms/step - loss: 0.6801 - accuracy: 0.5375 - val_loss: 0.5201 - val_accuracy: 0.6000\n",
      "Epoch 39/100\n",
      "3/3 [==============================] - 0s 31ms/step - loss: 0.4606 - accuracy: 0.7375 - val_loss: 0.5195 - val_accuracy: 0.6500\n",
      "Epoch 40/100\n",
      "3/3 [==============================] - 0s 30ms/step - loss: 0.3871 - accuracy: 0.8500 - val_loss: 0.4868 - val_accuracy: 0.7500\n",
      "Epoch 41/100\n",
      "3/3 [==============================] - 0s 33ms/step - loss: 0.3943 - accuracy: 0.8750 - val_loss: 0.4935 - val_accuracy: 0.7000\n",
      "Epoch 42/100\n",
      "3/3 [==============================] - 0s 33ms/step - loss: 0.4041 - accuracy: 0.8375 - val_loss: 0.6166 - val_accuracy: 0.6500\n",
      "Epoch 43/100\n",
      "3/3 [==============================] - 0s 31ms/step - loss: 0.5070 - accuracy: 0.6500 - val_loss: 0.4639 - val_accuracy: 0.7500\n",
      "Epoch 44/100\n",
      "3/3 [==============================] - 0s 31ms/step - loss: 0.3515 - accuracy: 0.9125 - val_loss: 0.4449 - val_accuracy: 0.8500\n",
      "Epoch 45/100\n",
      "3/3 [==============================] - 0s 31ms/step - loss: 0.3489 - accuracy: 0.8875 - val_loss: 0.7385 - val_accuracy: 0.6000\n",
      "Epoch 46/100\n",
      "3/3 [==============================] - 0s 51ms/step - loss: 0.4848 - accuracy: 0.7125 - val_loss: 0.6957 - val_accuracy: 0.6000\n",
      "Epoch 47/100\n",
      "3/3 [==============================] - 0s 47ms/step - loss: 0.7125 - accuracy: 0.4750 - val_loss: 0.7637 - val_accuracy: 0.5000\n",
      "Epoch 48/100\n",
      "3/3 [==============================] - 0s 32ms/step - loss: 0.3953 - accuracy: 0.8375 - val_loss: 0.4342 - val_accuracy: 0.8000\n",
      "Epoch 49/100\n",
      "3/3 [==============================] - 0s 33ms/step - loss: 0.3277 - accuracy: 0.9500 - val_loss: 0.4603 - val_accuracy: 0.8000\n",
      "Epoch 50/100\n",
      "3/3 [==============================] - 0s 33ms/step - loss: 0.3316 - accuracy: 0.9250 - val_loss: 0.5093 - val_accuracy: 0.8000\n",
      "Epoch 51/100\n",
      "3/3 [==============================] - 0s 30ms/step - loss: 0.3662 - accuracy: 0.8500 - val_loss: 0.5807 - val_accuracy: 0.6000\n",
      "Epoch 52/100\n",
      "3/3 [==============================] - 0s 35ms/step - loss: 0.4238 - accuracy: 0.7875 - val_loss: 0.4266 - val_accuracy: 0.8000\n",
      "Epoch 53/100\n",
      "3/3 [==============================] - 0s 33ms/step - loss: 0.2970 - accuracy: 0.9250 - val_loss: 0.4715 - val_accuracy: 0.7500\n",
      "Epoch 54/100\n",
      "3/3 [==============================] - 0s 29ms/step - loss: 0.3001 - accuracy: 0.9125 - val_loss: 0.5169 - val_accuracy: 0.8000\n",
      "Epoch 55/100\n",
      "3/3 [==============================] - 0s 30ms/step - loss: 0.3136 - accuracy: 0.9125 - val_loss: 0.4107 - val_accuracy: 0.8500\n",
      "Epoch 56/100\n",
      "3/3 [==============================] - 0s 27ms/step - loss: 0.3215 - accuracy: 0.9125 - val_loss: 0.8602 - val_accuracy: 0.6000\n",
      "Epoch 57/100\n",
      "3/3 [==============================] - 0s 29ms/step - loss: 0.8241 - accuracy: 0.4875 - val_loss: 0.8299 - val_accuracy: 0.5000\n",
      "Epoch 58/100\n",
      "3/3 [==============================] - 0s 29ms/step - loss: 0.3747 - accuracy: 0.8625 - val_loss: 0.4356 - val_accuracy: 0.9000\n",
      "Epoch 59/100\n"
     ]
    },
    {
     "name": "stdout",
     "output_type": "stream",
     "text": [
      "3/3 [==============================] - 0s 30ms/step - loss: 0.4131 - accuracy: 0.8250 - val_loss: 0.8216 - val_accuracy: 0.5500\n",
      "Epoch 60/100\n",
      "3/3 [==============================] - 0s 31ms/step - loss: 0.4278 - accuracy: 0.7750 - val_loss: 0.4302 - val_accuracy: 0.8000\n",
      "Epoch 61/100\n",
      "3/3 [==============================] - 0s 61ms/step - loss: 0.3712 - accuracy: 0.8750 - val_loss: 0.9940 - val_accuracy: 0.5000\n",
      "Epoch 62/100\n",
      "3/3 [==============================] - 0s 40ms/step - loss: 0.7250 - accuracy: 0.5250 - val_loss: 0.4384 - val_accuracy: 0.8000\n",
      "Epoch 63/100\n",
      "3/3 [==============================] - 0s 42ms/step - loss: 0.3204 - accuracy: 0.9000 - val_loss: 0.4349 - val_accuracy: 0.8500\n",
      "Epoch 64/100\n",
      "3/3 [==============================] - 0s 56ms/step - loss: 0.3012 - accuracy: 0.9375 - val_loss: 0.4138 - val_accuracy: 0.8500\n",
      "Epoch 65/100\n",
      "3/3 [==============================] - 0s 30ms/step - loss: 0.2700 - accuracy: 0.9250 - val_loss: 0.4455 - val_accuracy: 0.7500\n",
      "Epoch 66/100\n",
      "3/3 [==============================] - 0s 30ms/step - loss: 0.2761 - accuracy: 0.9500 - val_loss: 0.7257 - val_accuracy: 0.6000\n",
      "Epoch 67/100\n",
      "3/3 [==============================] - 0s 29ms/step - loss: 0.3588 - accuracy: 0.8750 - val_loss: 0.4738 - val_accuracy: 0.7000\n",
      "Epoch 68/100\n",
      "3/3 [==============================] - 0s 31ms/step - loss: 0.4312 - accuracy: 0.8000 - val_loss: 0.7671 - val_accuracy: 0.6000\n",
      "Epoch 69/100\n",
      "3/3 [==============================] - 0s 31ms/step - loss: 0.3419 - accuracy: 0.8250 - val_loss: 1.0877 - val_accuracy: 0.5000\n",
      "Epoch 70/100\n",
      "3/3 [==============================] - 0s 30ms/step - loss: 0.7551 - accuracy: 0.5125 - val_loss: 0.4624 - val_accuracy: 0.8000\n",
      "Epoch 71/100\n",
      "3/3 [==============================] - 0s 28ms/step - loss: 0.3427 - accuracy: 0.9250 - val_loss: 0.4815 - val_accuracy: 0.7500\n",
      "Epoch 72/100\n",
      "3/3 [==============================] - 0s 34ms/step - loss: 0.2643 - accuracy: 0.9375 - val_loss: 0.3973 - val_accuracy: 0.8000\n",
      "Epoch 73/100\n",
      "3/3 [==============================] - 0s 30ms/step - loss: 0.2519 - accuracy: 0.9500 - val_loss: 0.3885 - val_accuracy: 0.8500\n",
      "Epoch 74/100\n",
      "3/3 [==============================] - 0s 29ms/step - loss: 0.2412 - accuracy: 0.9250 - val_loss: 0.3878 - val_accuracy: 0.8000\n",
      "Epoch 75/100\n",
      "3/3 [==============================] - 0s 29ms/step - loss: 0.3247 - accuracy: 0.8500 - val_loss: 1.2692 - val_accuracy: 0.4500\n",
      "Epoch 76/100\n",
      "3/3 [==============================] - 0s 30ms/step - loss: 0.6598 - accuracy: 0.6625 - val_loss: 0.4772 - val_accuracy: 0.7000\n",
      "Epoch 77/100\n",
      "3/3 [==============================] - 0s 29ms/step - loss: 0.3484 - accuracy: 0.8625 - val_loss: 0.8157 - val_accuracy: 0.6000\n",
      "Epoch 78/100\n",
      "3/3 [==============================] - 0s 27ms/step - loss: 0.3245 - accuracy: 0.8750 - val_loss: 0.4277 - val_accuracy: 0.8500\n",
      "Epoch 79/100\n",
      "3/3 [==============================] - 0s 30ms/step - loss: 0.2581 - accuracy: 0.9625 - val_loss: 0.4232 - val_accuracy: 0.7500\n",
      "Epoch 80/100\n",
      "3/3 [==============================] - 0s 29ms/step - loss: 0.2298 - accuracy: 0.9375 - val_loss: 0.3985 - val_accuracy: 0.7500\n",
      "Epoch 81/100\n",
      "3/3 [==============================] - 0s 32ms/step - loss: 0.2258 - accuracy: 0.9375 - val_loss: 0.4362 - val_accuracy: 0.7500\n",
      "Epoch 82/100\n",
      "3/3 [==============================] - 0s 30ms/step - loss: 0.2160 - accuracy: 0.9500 - val_loss: 0.4009 - val_accuracy: 0.9000\n",
      "Epoch 83/100\n",
      "3/3 [==============================] - 0s 32ms/step - loss: 0.2510 - accuracy: 0.9375 - val_loss: 0.3782 - val_accuracy: 0.8500\n",
      "Epoch 84/100\n",
      "3/3 [==============================] - 0s 29ms/step - loss: 0.2527 - accuracy: 0.9125 - val_loss: 0.6396 - val_accuracy: 0.6500\n",
      "Epoch 85/100\n",
      "3/3 [==============================] - 0s 33ms/step - loss: 0.4279 - accuracy: 0.7500 - val_loss: 0.3716 - val_accuracy: 0.8500\n",
      "Epoch 86/100\n",
      "3/3 [==============================] - 0s 31ms/step - loss: 0.2645 - accuracy: 0.9000 - val_loss: 0.7537 - val_accuracy: 0.6000\n",
      "Epoch 87/100\n",
      "3/3 [==============================] - 0s 29ms/step - loss: 0.4416 - accuracy: 0.7125 - val_loss: 0.4116 - val_accuracy: 0.7500\n",
      "Epoch 88/100\n",
      "3/3 [==============================] - 0s 31ms/step - loss: 0.2274 - accuracy: 0.9250 - val_loss: 0.3684 - val_accuracy: 0.8500\n",
      "Epoch 89/100\n",
      "3/3 [==============================] - 0s 29ms/step - loss: 0.2143 - accuracy: 0.9250 - val_loss: 0.5319 - val_accuracy: 0.6500\n",
      "Epoch 90/100\n",
      "3/3 [==============================] - 0s 40ms/step - loss: 0.5371 - accuracy: 0.7000 - val_loss: 1.0509 - val_accuracy: 0.5000\n",
      "Epoch 91/100\n",
      "3/3 [==============================] - 0s 53ms/step - loss: 0.4787 - accuracy: 0.8250 - val_loss: 0.4945 - val_accuracy: 0.8000\n",
      "Epoch 92/100\n",
      "3/3 [==============================] - 0s 40ms/step - loss: 0.4618 - accuracy: 0.7125 - val_loss: 0.4062 - val_accuracy: 0.8000\n",
      "Epoch 93/100\n",
      "3/3 [==============================] - 0s 30ms/step - loss: 0.2724 - accuracy: 0.9125 - val_loss: 0.4007 - val_accuracy: 0.8500\n",
      "Epoch 94/100\n",
      "3/3 [==============================] - 0s 34ms/step - loss: 0.2383 - accuracy: 0.9250 - val_loss: 0.4171 - val_accuracy: 0.9000\n",
      "Epoch 95/100\n",
      "3/3 [==============================] - 0s 50ms/step - loss: 0.2481 - accuracy: 0.9375 - val_loss: 0.4618 - val_accuracy: 0.7500\n",
      "Epoch 96/100\n",
      "3/3 [==============================] - 0s 42ms/step - loss: 0.3228 - accuracy: 0.9000 - val_loss: 0.4814 - val_accuracy: 0.7000\n",
      "Epoch 97/100\n",
      "3/3 [==============================] - 0s 31ms/step - loss: 0.5470 - accuracy: 0.7000 - val_loss: 0.8658 - val_accuracy: 0.5500\n",
      "Epoch 98/100\n",
      "3/3 [==============================] - 0s 29ms/step - loss: 0.3444 - accuracy: 0.8125 - val_loss: 0.3868 - val_accuracy: 0.8000\n",
      "Epoch 99/100\n",
      "3/3 [==============================] - 0s 28ms/step - loss: 0.2109 - accuracy: 0.9375 - val_loss: 0.4128 - val_accuracy: 0.7500\n",
      "Epoch 100/100\n",
      "3/3 [==============================] - 0s 29ms/step - loss: 0.1928 - accuracy: 0.9375 - val_loss: 0.3830 - val_accuracy: 0.9000\n"
     ]
    }
   ],
   "source": [
    "H = model.fit(x_train, y_train, validation_data=(x_test, y_test), \n",
    "          epochs=max_epochs, batch_size=32)"
   ]
  },
  {
   "cell_type": "code",
   "execution_count": 15,
   "id": "9d240982",
   "metadata": {},
   "outputs": [
    {
     "data": {
      "image/png": "[encoded data removed]",
      "text/plain": [
       "<Figure size 432x288 with 1 Axes>"
      ]
     },
     "metadata": {},
     "output_type": "display_data"
    }
   ],
   "source": [
    "N = np.arange(0, max_epochs)\n",
    "plt.style.use(\"ggplot\")\n",
    "plt.figure()\n",
    "plt.plot(N, H.history[\"loss\"], label=\"train_loss\")\n",
    "plt.plot(N, H.history[\"val_loss\"], label=\"val_loss\")\n",
    "#plt.plot(N, H.history[\"accuracy\"], label=\"train_acc\")\n",
    "#plt.plot(N, H.history[\"val_accuracy\"], label=\"val_acc\")\n",
    "plt.xlabel(\"Epoch #\")\n",
    "plt.legend()\n",
    "plt.show()"
   ]
  },
  {
   "cell_type": "markdown",
   "id": "ff01631e",
   "metadata": {},
   "source": [
    "# 7. Evaluate the Model"
   ]
  },
  {
   "cell_type": "code",
   "execution_count": 16,
   "id": "2aa43474",
   "metadata": {},
   "outputs": [
    {
     "name": "stdout",
     "output_type": "stream",
     "text": [
      "              precision    recall  f1-score   support\n",
      "\n",
      "        lime       1.00      0.75      0.86         8\n",
      "       betel       0.86      1.00      0.92        12\n",
      "\n",
      "    accuracy                           0.90        20\n",
      "   macro avg       0.93      0.88      0.89        20\n",
      "weighted avg       0.91      0.90      0.90        20\n",
      "\n"
     ]
    },
    {
     "name": "stderr",
     "output_type": "stream",
     "text": [
      "C:\\Users\\ASUS\\AppData\\Local\\Temp/ipykernel_20240/954476436.py:3: DeprecationWarning: `np.int` is a deprecated alias for the builtin `int`. To silence this warning, use `int` by itself. Doing this will not modify any behavior and is safe. When replacing `np.int`, you may wish to use e.g. `np.int64` or `np.int32` to specify the precision. If you wish to review your current use, check the release note link for additional information.\n",
      "Deprecated in NumPy 1.20; for more details and guidance: https://numpy.org/devdocs/release/1.20.0-notes.html#deprecations\n",
      "  target = (predictions > 0.5).astype(np.int)\n"
     ]
    }
   ],
   "source": [
    "# menghitung nilai akurasi model terhadap data test\n",
    "predictions = model.predict(x_test, batch_size=32)\n",
    "target = (predictions > 0.5).astype(np.int)\n",
    "print(classification_report(y_test, target, target_names=label_list))"
   ]
  },
  {
   "cell_type": "code",
   "execution_count": 19,
   "id": "1794b44e",
   "metadata": {},
   "outputs": [
    {
     "name": "stdout",
     "output_type": "stream",
     "text": [
      "[[0.17204624]]\n"
     ]
    }
   ],
   "source": [
    "# uji model menggunakan image lain\n",
    "queryPath = imagePaths+'query_betel.jpg'\n",
    "query = cv2.imread(queryPath)\n",
    "output = query.copy()\n",
    "query = cv2.resize(query, (32, 32))\n",
    "q = []\n",
    "q.append(query)\n",
    "q = np.array(q, dtype='float') / 255.0\n",
    "\n",
    "q_pred = model.predict(q)\n",
    "print(q_pred)"
   ]
  },
  {
   "cell_type": "code",
   "execution_count": 20,
   "id": "99cf1ff5",
   "metadata": {},
   "outputs": [
    {
     "ename": "error",
     "evalue": "OpenCV(4.5.4) D:\\a\\opencv-python\\opencv-python\\opencv\\modules\\highgui\\src\\window_w32.cpp:1261: error: (-27:Null pointer) NULL window: 'Output' in function 'cvDestroyWindow'\n",
     "output_type": "error",
     "traceback": [
      "\u001b[1;31m---------------------------------------------------------------------------\u001b[0m",
      "\u001b[1;31merror\u001b[0m                                     Traceback (most recent call last)",
      "\u001b[1;32m~\\AppData\\Local\\Temp/ipykernel_20240/3309322524.py\u001b[0m in \u001b[0;36m<module>\u001b[1;34m\u001b[0m\n\u001b[0;32m      9\u001b[0m \u001b[0mcv2\u001b[0m\u001b[1;33m.\u001b[0m\u001b[0mimshow\u001b[0m\u001b[1;33m(\u001b[0m\u001b[1;34m'Output'\u001b[0m\u001b[1;33m,\u001b[0m \u001b[0moutput\u001b[0m\u001b[1;33m)\u001b[0m\u001b[1;33m\u001b[0m\u001b[1;33m\u001b[0m\u001b[0m\n\u001b[0;32m     10\u001b[0m \u001b[0mcv2\u001b[0m\u001b[1;33m.\u001b[0m\u001b[0mwaitKey\u001b[0m\u001b[1;33m(\u001b[0m\u001b[1;33m)\u001b[0m \u001b[1;31m# image tidak akan diclose,sebelum user menekan sembarang tombol\u001b[0m\u001b[1;33m\u001b[0m\u001b[1;33m\u001b[0m\u001b[0m\n\u001b[1;32m---> 11\u001b[1;33m \u001b[0mcv2\u001b[0m\u001b[1;33m.\u001b[0m\u001b[0mdestroyWindow\u001b[0m\u001b[1;33m(\u001b[0m\u001b[1;34m'Output'\u001b[0m\u001b[1;33m)\u001b[0m \u001b[1;31m# image akan diclose\u001b[0m\u001b[1;33m\u001b[0m\u001b[1;33m\u001b[0m\u001b[0m\n\u001b[0m",
      "\u001b[1;31merror\u001b[0m: OpenCV(4.5.4) D:\\a\\opencv-python\\opencv-python\\opencv\\modules\\highgui\\src\\window_w32.cpp:1261: error: (-27:Null pointer) NULL window: 'Output' in function 'cvDestroyWindow'\n"
     ]
    }
   ],
   "source": [
    "if q_pred<=0.5 :\n",
    "    target = \"Lime\"\n",
    "else :\n",
    "    target = \"Betel\"\n",
    "text = \"{}\".format(target)\n",
    "cv2.putText(output, text, (10, 30), cv2.FONT_HERSHEY_SIMPLEX, 0.7, (0, 0, 255), 2)\n",
    " \n",
    "# menampilkan output image\n",
    "cv2.imshow('Output', output)\n",
    "cv2.waitKey() # image tidak akan diclose,sebelum user menekan sembarang tombol\n",
    "cv2.destroyWindow('Output') # image akan diclose"
   ]
  },
  {
   "cell_type": "code",
   "execution_count": null,
   "id": "2834b4ed",
   "metadata": {},
   "outputs": [],
   "source": []
  }
 ],
 "metadata": {
  "kernelspec": {
   "display_name": "Python 3 (ipykernel)",
   "language": "python",
   "name": "python3"
  },
  "language_info": {
   "codemirror_mode": {
    "name": "ipython",
    "version": 3
   },
   "file_extension": ".py",
   "mimetype": "text/x-python",
   "name": "python",
   "nbconvert_exporter": "python",
   "pygments_lexer": "ipython3",
   "version": "3.8.2"
  }
 },
 "nbformat": 4,
 "nbformat_minor": 5
}
