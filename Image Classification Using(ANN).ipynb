{
 "cells": [
  {
   "cell_type": "markdown",
   "id": "6f2c852c",
   "metadata": {},
   "source": [
    "# 1. Import module yang dibutuhkan"
   ]
  },
  {
   "cell_type": "code",
   "execution_count": 1,
   "id": "d1863771",
   "metadata": {},
   "outputs": [],
   "source": [
    "from sklearn.model_selection import train_test_split\n",
    "from sklearn.preprocessing import LabelEncoder\n",
    "from sklearn.metrics import classification_report\n",
    "from tensorflow.keras.models import Sequential\n",
    "from tensorflow.keras.layers import Flatten, Dense\n",
    "from tensorflow.keras.optimizers import SGD\n",
    "import numpy as np\n",
    "import cv2\n",
    "import glob\n",
    "import matplotlib.pyplot as plt"
   ]
  },
  {
   "cell_type": "markdown",
   "id": "b6686338",
   "metadata": {},
   "source": [
    "# 2. Load Dataset"
   ]
  },
  {
   "cell_type": "code",
   "execution_count": 2,
   "id": "c8e7096f",
   "metadata": {},
   "outputs": [],
   "source": [
    "imagePaths = 'Dataset\\\\'\n",
    "label_list = ['NIPIS', 'SIRIH']\n",
    "data = []\n",
    "labels = []"
   ]
  },
  {
   "cell_type": "code",
   "execution_count": 3,
   "id": "4dda8f97",
   "metadata": {},
   "outputs": [],
   "source": [
    "for label in label_list:\n",
    "    for imagePath in glob.glob(imagePaths+label+'\\\\*.jpg'):\n",
    "        #print(imagePath)\n",
    "        image = cv2.imread(imagePath)\n",
    "        image = cv2.resize(image, (32, 32))\n",
    "        data.append(image)\n",
    "        labels.append(label)"
   ]
  },
  {
   "cell_type": "code",
   "execution_count": 4,
   "id": "5b119dea",
   "metadata": {},
   "outputs": [
    {
     "data": {
      "text/plain": [
       "(100, 32, 32, 3)"
      ]
     },
     "execution_count": 4,
     "metadata": {},
     "output_type": "execute_result"
    }
   ],
   "source": [
    "np.array(data).shape"
   ]
  },
  {
   "cell_type": "markdown",
   "id": "c785bba1",
   "metadata": {},
   "source": [
    "# 3. Data Preprocessing"
   ]
  },
  {
   "cell_type": "code",
   "execution_count": 5,
   "id": "88a0dbff",
   "metadata": {},
   "outputs": [],
   "source": [
    "# ubah type data dari list menjadi array\n",
    "# ubah nilai dari tiap pixel menjadi range [0..1]\n",
    "data = np.array(data, dtype='float') / 255.0\n",
    "labels = np.array(labels)"
   ]
  },
  {
   "cell_type": "code",
   "execution_count": 6,
   "id": "f820cc59",
   "metadata": {},
   "outputs": [
    {
     "name": "stdout",
     "output_type": "stream",
     "text": [
      "['NIPIS' 'NIPIS' 'NIPIS' 'NIPIS' 'NIPIS' 'NIPIS' 'NIPIS' 'NIPIS' 'NIPIS'\n",
      " 'NIPIS' 'NIPIS' 'NIPIS' 'NIPIS' 'NIPIS' 'NIPIS' 'NIPIS' 'NIPIS' 'NIPIS'\n",
      " 'NIPIS' 'NIPIS' 'NIPIS' 'NIPIS' 'NIPIS' 'NIPIS' 'NIPIS' 'NIPIS' 'NIPIS'\n",
      " 'NIPIS' 'NIPIS' 'NIPIS' 'NIPIS' 'NIPIS' 'NIPIS' 'NIPIS' 'NIPIS' 'NIPIS'\n",
      " 'NIPIS' 'NIPIS' 'NIPIS' 'NIPIS' 'NIPIS' 'NIPIS' 'NIPIS' 'NIPIS' 'NIPIS'\n",
      " 'NIPIS' 'NIPIS' 'NIPIS' 'NIPIS' 'NIPIS' 'SIRIH' 'SIRIH' 'SIRIH' 'SIRIH'\n",
      " 'SIRIH' 'SIRIH' 'SIRIH' 'SIRIH' 'SIRIH' 'SIRIH' 'SIRIH' 'SIRIH' 'SIRIH'\n",
      " 'SIRIH' 'SIRIH' 'SIRIH' 'SIRIH' 'SIRIH' 'SIRIH' 'SIRIH' 'SIRIH' 'SIRIH'\n",
      " 'SIRIH' 'SIRIH' 'SIRIH' 'SIRIH' 'SIRIH' 'SIRIH' 'SIRIH' 'SIRIH' 'SIRIH'\n",
      " 'SIRIH' 'SIRIH' 'SIRIH' 'SIRIH' 'SIRIH' 'SIRIH' 'SIRIH' 'SIRIH' 'SIRIH'\n",
      " 'SIRIH' 'SIRIH' 'SIRIH' 'SIRIH' 'SIRIH' 'SIRIH' 'SIRIH' 'SIRIH' 'SIRIH'\n",
      " 'SIRIH']\n"
     ]
    }
   ],
   "source": [
    "print(labels)"
   ]
  },
  {
   "cell_type": "code",
   "execution_count": 7,
   "id": "0fc69c4c",
   "metadata": {},
   "outputs": [
    {
     "name": "stdout",
     "output_type": "stream",
     "text": [
      "[0 0 0 0 0 0 0 0 0 0 0 0 0 0 0 0 0 0 0 0 0 0 0 0 0 0 0 0 0 0 0 0 0 0 0 0 0\n",
      " 0 0 0 0 0 0 0 0 0 0 0 0 0 1 1 1 1 1 1 1 1 1 1 1 1 1 1 1 1 1 1 1 1 1 1 1 1\n",
      " 1 1 1 1 1 1 1 1 1 1 1 1 1 1 1 1 1 1 1 1 1 1 1 1 1 1]\n"
     ]
    }
   ],
   "source": [
    "# ubah nilai dari labels menjadi binary\n",
    "lb = LabelEncoder()\n",
    "labels = lb.fit_transform(labels)\n",
    "print(labels)"
   ]
  },
  {
   "cell_type": "markdown",
   "id": "7faa72d8",
   "metadata": {},
   "source": [
    "# 4. Split Dataset"
   ]
  },
  {
   "cell_type": "code",
   "execution_count": 8,
   "id": "ccfbe9d9",
   "metadata": {},
   "outputs": [],
   "source": [
    "x_train, x_test, y_train, y_test = train_test_split(data, labels, test_size=0.2, random_state=42)"
   ]
  },
  {
   "cell_type": "code",
   "execution_count": 9,
   "id": "55dc0134",
   "metadata": {},
   "outputs": [
    {
     "name": "stdout",
     "output_type": "stream",
     "text": [
      "Ukuran data train = (80, 32, 32, 3)\n",
      "Ukuran data test = (20, 32, 32, 3)\n"
     ]
    }
   ],
   "source": [
    "print('Ukuran data train =', x_train.shape)\n",
    "print('Ukuran data test =', x_test.shape)"
   ]
  },
  {
   "cell_type": "markdown",
   "id": "e0e292d6",
   "metadata": {},
   "source": [
    "# 5. Build ANN Architecture"
   ]
  },
  {
   "cell_type": "code",
   "execution_count": 10,
   "id": "912c3044",
   "metadata": {},
   "outputs": [],
   "source": [
    "model = Sequential()\n",
    "model.add(Flatten(input_shape=(32,32,3)))\n",
    "model.add(Dense(1024, activation=\"relu\"))\n",
    "model.add(Dense(1024, activation=\"relu\"))\n",
    "model.add(Dense(1, activation=\"sigmoid\"))"
   ]
  },
  {
   "cell_type": "code",
   "execution_count": 11,
   "id": "11d49093",
   "metadata": {},
   "outputs": [
    {
     "name": "stdout",
     "output_type": "stream",
     "text": [
      "Model: \"sequential\"\n",
      "_________________________________________________________________\n",
      " Layer (type)                Output Shape              Param #   \n",
      "=================================================================\n",
      " flatten (Flatten)           (None, 3072)              0         \n",
      "                                                                 \n",
      " dense (Dense)               (None, 1024)              3146752   \n",
      "                                                                 \n",
      " dense_1 (Dense)             (None, 1024)              1049600   \n",
      "                                                                 \n",
      " dense_2 (Dense)             (None, 1)                 1025      \n",
      "                                                                 \n",
      "=================================================================\n",
      "Total params: 4,197,377\n",
      "Trainable params: 4,197,377\n",
      "Non-trainable params: 0\n",
      "_________________________________________________________________\n"
     ]
    }
   ],
   "source": [
    "model.summary()"
   ]
  },
  {
   "cell_type": "code",
   "execution_count": 12,
   "id": "ac43d770",
   "metadata": {},
   "outputs": [],
   "source": [
    "# tentukan hyperparameter\n",
    "lr = 0.01\n",
    "max_epochs = 100\n",
    "opt_funct = SGD(learning_rate=lr)"
   ]
  },
  {
   "cell_type": "code",
   "execution_count": 13,
   "id": "92f79ded",
   "metadata": {},
   "outputs": [],
   "source": [
    "# compile arsitektur yang telah dibuat\n",
    "model.compile(loss = 'binary_crossentropy', \n",
    "              optimizer = opt_funct, \n",
    "              metrics = ['accuracy'])"
   ]
  },
  {
   "cell_type": "markdown",
   "id": "d2af934e",
   "metadata": {},
   "source": [
    "# 6. Train Model"
   ]
  },
  {
   "cell_type": "code",
   "execution_count": 14,
   "id": "d4e72d39",
   "metadata": {},
   "outputs": [
    {
     "name": "stdout",
     "output_type": "stream",
     "text": [
      "Epoch 1/100\n",
      "3/3 [==============================] - 1s 91ms/step - loss: 2.2316 - accuracy: 0.3125 - val_loss: 0.9217 - val_accuracy: 0.4000\n",
      "Epoch 2/100\n",
      "3/3 [==============================] - 0s 35ms/step - loss: 0.7795 - accuracy: 0.5250 - val_loss: 0.7887 - val_accuracy: 0.4000\n",
      "Epoch 3/100\n",
      "3/3 [==============================] - 0s 33ms/step - loss: 0.6697 - accuracy: 0.5125 - val_loss: 0.6417 - val_accuracy: 0.6000\n",
      "Epoch 4/100\n",
      "3/3 [==============================] - 0s 29ms/step - loss: 0.7317 - accuracy: 0.4500 - val_loss: 1.1974 - val_accuracy: 0.4000\n",
      "Epoch 5/100\n",
      "3/3 [==============================] - 0s 31ms/step - loss: 0.8422 - accuracy: 0.4750 - val_loss: 0.6061 - val_accuracy: 0.6000\n",
      "Epoch 6/100\n",
      "3/3 [==============================] - 0s 33ms/step - loss: 0.7354 - accuracy: 0.4375 - val_loss: 0.7860 - val_accuracy: 0.4000\n",
      "Epoch 7/100\n",
      "3/3 [==============================] - 0s 40ms/step - loss: 0.5950 - accuracy: 0.7125 - val_loss: 0.5924 - val_accuracy: 0.8500\n",
      "Epoch 8/100\n",
      "3/3 [==============================] - 0s 32ms/step - loss: 0.6117 - accuracy: 0.6875 - val_loss: 0.7123 - val_accuracy: 0.4500\n",
      "Epoch 9/100\n",
      "3/3 [==============================] - 0s 37ms/step - loss: 0.5735 - accuracy: 0.7500 - val_loss: 0.6357 - val_accuracy: 0.6000\n",
      "Epoch 10/100\n",
      "3/3 [==============================] - 0s 34ms/step - loss: 0.8729 - accuracy: 0.4250 - val_loss: 0.5728 - val_accuracy: 0.7000\n",
      "Epoch 11/100\n",
      "3/3 [==============================] - 0s 36ms/step - loss: 0.5563 - accuracy: 0.7250 - val_loss: 0.6132 - val_accuracy: 0.6000\n",
      "Epoch 12/100\n",
      "3/3 [==============================] - 0s 38ms/step - loss: 0.5784 - accuracy: 0.6500 - val_loss: 0.5719 - val_accuracy: 0.6000\n",
      "Epoch 13/100\n",
      "3/3 [==============================] - 0s 33ms/step - loss: 0.5500 - accuracy: 0.6750 - val_loss: 0.5908 - val_accuracy: 0.6000\n",
      "Epoch 14/100\n",
      "3/3 [==============================] - 0s 34ms/step - loss: 0.6064 - accuracy: 0.5125 - val_loss: 0.9075 - val_accuracy: 0.4000\n",
      "Epoch 15/100\n",
      "3/3 [==============================] - 0s 36ms/step - loss: 0.6717 - accuracy: 0.5125 - val_loss: 0.5842 - val_accuracy: 0.7000\n",
      "Epoch 16/100\n",
      "3/3 [==============================] - 0s 36ms/step - loss: 0.5800 - accuracy: 0.7625 - val_loss: 0.7848 - val_accuracy: 0.6000\n",
      "Epoch 17/100\n",
      "3/3 [==============================] - 0s 36ms/step - loss: 0.7384 - accuracy: 0.5625 - val_loss: 0.5639 - val_accuracy: 0.8500\n",
      "Epoch 18/100\n",
      "3/3 [==============================] - 0s 34ms/step - loss: 0.5078 - accuracy: 0.8375 - val_loss: 0.6843 - val_accuracy: 0.5500\n",
      "Epoch 19/100\n",
      "3/3 [==============================] - 0s 56ms/step - loss: 0.4988 - accuracy: 0.8250 - val_loss: 0.5512 - val_accuracy: 0.8000\n",
      "Epoch 20/100\n",
      "3/3 [==============================] - 0s 43ms/step - loss: 0.5411 - accuracy: 0.7375 - val_loss: 0.8050 - val_accuracy: 0.4500\n",
      "Epoch 21/100\n",
      "3/3 [==============================] - 0s 32ms/step - loss: 0.5226 - accuracy: 0.7125 - val_loss: 1.0304 - val_accuracy: 0.4000\n",
      "Epoch 22/100\n",
      "3/3 [==============================] - 0s 30ms/step - loss: 0.5670 - accuracy: 0.7875 - val_loss: 0.5094 - val_accuracy: 0.7000\n",
      "Epoch 23/100\n",
      "3/3 [==============================] - 0s 31ms/step - loss: 0.5131 - accuracy: 0.7000 - val_loss: 0.7304 - val_accuracy: 0.4500\n",
      "Epoch 24/100\n",
      "3/3 [==============================] - 0s 34ms/step - loss: 0.6036 - accuracy: 0.5750 - val_loss: 0.5083 - val_accuracy: 0.7000\n",
      "Epoch 25/100\n",
      "3/3 [==============================] - 0s 37ms/step - loss: 0.6171 - accuracy: 0.6125 - val_loss: 0.9913 - val_accuracy: 0.4000\n",
      "Epoch 26/100\n",
      "3/3 [==============================] - 0s 38ms/step - loss: 0.5267 - accuracy: 0.7625 - val_loss: 0.5094 - val_accuracy: 0.8000\n",
      "Epoch 27/100\n",
      "3/3 [==============================] - 0s 34ms/step - loss: 0.4598 - accuracy: 0.8625 - val_loss: 0.5240 - val_accuracy: 0.6500\n",
      "Epoch 28/100\n",
      "3/3 [==============================] - 0s 33ms/step - loss: 0.4904 - accuracy: 0.7625 - val_loss: 0.8137 - val_accuracy: 0.4500\n",
      "Epoch 29/100\n",
      "3/3 [==============================] - 0s 43ms/step - loss: 0.4238 - accuracy: 0.8375 - val_loss: 0.6289 - val_accuracy: 0.6000\n",
      "Epoch 30/100\n",
      "3/3 [==============================] - 0s 57ms/step - loss: 0.4780 - accuracy: 0.7250 - val_loss: 0.9370 - val_accuracy: 0.4500\n",
      "Epoch 31/100\n",
      "3/3 [==============================] - 0s 42ms/step - loss: 0.6054 - accuracy: 0.5750 - val_loss: 0.5269 - val_accuracy: 0.6000\n",
      "Epoch 32/100\n",
      "3/3 [==============================] - 0s 34ms/step - loss: 0.4326 - accuracy: 0.8125 - val_loss: 0.4851 - val_accuracy: 0.7500\n",
      "Epoch 33/100\n",
      "3/3 [==============================] - 0s 32ms/step - loss: 0.3828 - accuracy: 0.9125 - val_loss: 0.6846 - val_accuracy: 0.5500\n",
      "Epoch 34/100\n",
      "3/3 [==============================] - 0s 33ms/step - loss: 0.4467 - accuracy: 0.8125 - val_loss: 0.6424 - val_accuracy: 0.6000\n",
      "Epoch 35/100\n",
      "3/3 [==============================] - 0s 36ms/step - loss: 0.4293 - accuracy: 0.8000 - val_loss: 0.5162 - val_accuracy: 0.7500\n",
      "Epoch 36/100\n",
      "3/3 [==============================] - 0s 38ms/step - loss: 0.3663 - accuracy: 0.9000 - val_loss: 0.4832 - val_accuracy: 0.7000\n",
      "Epoch 37/100\n",
      "3/3 [==============================] - 0s 35ms/step - loss: 0.3844 - accuracy: 0.8625 - val_loss: 0.4486 - val_accuracy: 0.8000\n",
      "Epoch 38/100\n",
      "3/3 [==============================] - 0s 34ms/step - loss: 0.4338 - accuracy: 0.7875 - val_loss: 0.7005 - val_accuracy: 0.5500\n",
      "Epoch 39/100\n",
      "3/3 [==============================] - 0s 32ms/step - loss: 0.7948 - accuracy: 0.5500 - val_loss: 0.7324 - val_accuracy: 0.5000\n",
      "Epoch 40/100\n",
      "3/3 [==============================] - 0s 32ms/step - loss: 0.5440 - accuracy: 0.6250 - val_loss: 0.4777 - val_accuracy: 0.8500\n",
      "Epoch 41/100\n",
      "3/3 [==============================] - 0s 30ms/step - loss: 0.3780 - accuracy: 0.9500 - val_loss: 0.5289 - val_accuracy: 0.7500\n",
      "Epoch 42/100\n",
      "3/3 [==============================] - 0s 32ms/step - loss: 0.4010 - accuracy: 0.8125 - val_loss: 0.4727 - val_accuracy: 0.7500\n",
      "Epoch 43/100\n",
      "3/3 [==============================] - 0s 30ms/step - loss: 0.4310 - accuracy: 0.8000 - val_loss: 0.5817 - val_accuracy: 0.6500\n",
      "Epoch 44/100\n",
      "3/3 [==============================] - 0s 32ms/step - loss: 0.3908 - accuracy: 0.8125 - val_loss: 0.4812 - val_accuracy: 0.7000\n",
      "Epoch 45/100\n",
      "3/3 [==============================] - 0s 32ms/step - loss: 0.4875 - accuracy: 0.7500 - val_loss: 0.5415 - val_accuracy: 0.6000\n",
      "Epoch 46/100\n",
      "3/3 [==============================] - 0s 31ms/step - loss: 0.5040 - accuracy: 0.6875 - val_loss: 1.0922 - val_accuracy: 0.4500\n",
      "Epoch 47/100\n",
      "3/3 [==============================] - 0s 52ms/step - loss: 0.4402 - accuracy: 0.8375 - val_loss: 0.4801 - val_accuracy: 0.8000\n",
      "Epoch 48/100\n",
      "3/3 [==============================] - 0s 44ms/step - loss: 0.3735 - accuracy: 0.8625 - val_loss: 0.4330 - val_accuracy: 0.8500\n",
      "Epoch 49/100\n",
      "3/3 [==============================] - 0s 36ms/step - loss: 0.3213 - accuracy: 0.9375 - val_loss: 0.4384 - val_accuracy: 0.8000\n",
      "Epoch 50/100\n",
      "3/3 [==============================] - 0s 33ms/step - loss: 0.3177 - accuracy: 0.9125 - val_loss: 0.4140 - val_accuracy: 0.8500\n",
      "Epoch 51/100\n",
      "3/3 [==============================] - 0s 32ms/step - loss: 0.3014 - accuracy: 0.9375 - val_loss: 0.5069 - val_accuracy: 0.7500\n",
      "Epoch 52/100\n",
      "3/3 [==============================] - 0s 34ms/step - loss: 0.3798 - accuracy: 0.7625 - val_loss: 0.4477 - val_accuracy: 0.8000\n",
      "Epoch 53/100\n",
      "3/3 [==============================] - 0s 35ms/step - loss: 0.5872 - accuracy: 0.6375 - val_loss: 0.4624 - val_accuracy: 0.7500\n",
      "Epoch 54/100\n",
      "3/3 [==============================] - 0s 32ms/step - loss: 0.3402 - accuracy: 0.8750 - val_loss: 0.5512 - val_accuracy: 0.7500\n",
      "Epoch 55/100\n",
      "3/3 [==============================] - 0s 30ms/step - loss: 0.4028 - accuracy: 0.8250 - val_loss: 0.7033 - val_accuracy: 0.6000\n",
      "Epoch 56/100\n",
      "3/3 [==============================] - 0s 29ms/step - loss: 0.7555 - accuracy: 0.4875 - val_loss: 0.7282 - val_accuracy: 0.5500\n",
      "Epoch 57/100\n",
      "3/3 [==============================] - 0s 28ms/step - loss: 0.3858 - accuracy: 0.8500 - val_loss: 0.5193 - val_accuracy: 0.6000\n",
      "Epoch 58/100\n",
      "3/3 [==============================] - 0s 27ms/step - loss: 0.4745 - accuracy: 0.7375 - val_loss: 0.4422 - val_accuracy: 0.8000\n",
      "Epoch 59/100\n"
     ]
    },
    {
     "name": "stdout",
     "output_type": "stream",
     "text": [
      "3/3 [==============================] - 0s 27ms/step - loss: 0.3691 - accuracy: 0.8500 - val_loss: 0.4788 - val_accuracy: 0.7000\n",
      "Epoch 60/100\n",
      "3/3 [==============================] - 0s 28ms/step - loss: 0.3942 - accuracy: 0.7750 - val_loss: 0.8940 - val_accuracy: 0.5000\n",
      "Epoch 61/100\n",
      "3/3 [==============================] - 0s 31ms/step - loss: 0.4621 - accuracy: 0.7750 - val_loss: 0.6106 - val_accuracy: 0.6000\n",
      "Epoch 62/100\n",
      "3/3 [==============================] - 0s 31ms/step - loss: 0.4006 - accuracy: 0.7625 - val_loss: 0.4159 - val_accuracy: 0.8000\n",
      "Epoch 63/100\n",
      "3/3 [==============================] - 0s 32ms/step - loss: 0.2981 - accuracy: 0.8750 - val_loss: 0.4115 - val_accuracy: 0.8000\n",
      "Epoch 64/100\n",
      "3/3 [==============================] - 0s 30ms/step - loss: 0.2805 - accuracy: 0.9500 - val_loss: 0.4327 - val_accuracy: 0.8000\n",
      "Epoch 65/100\n",
      "3/3 [==============================] - 0s 31ms/step - loss: 0.3124 - accuracy: 0.8625 - val_loss: 0.5478 - val_accuracy: 0.6000\n",
      "Epoch 66/100\n",
      "3/3 [==============================] - 0s 30ms/step - loss: 0.6993 - accuracy: 0.5875 - val_loss: 0.9528 - val_accuracy: 0.4500\n",
      "Epoch 67/100\n",
      "3/3 [==============================] - 0s 31ms/step - loss: 0.5109 - accuracy: 0.7875 - val_loss: 0.4248 - val_accuracy: 0.8000\n",
      "Epoch 68/100\n",
      "3/3 [==============================] - 0s 32ms/step - loss: 0.3011 - accuracy: 0.9375 - val_loss: 0.3915 - val_accuracy: 0.8500\n",
      "Epoch 69/100\n",
      "3/3 [==============================] - 0s 30ms/step - loss: 0.3165 - accuracy: 0.9000 - val_loss: 0.6644 - val_accuracy: 0.6000\n",
      "Epoch 70/100\n",
      "3/3 [==============================] - 0s 31ms/step - loss: 0.4246 - accuracy: 0.8125 - val_loss: 0.5369 - val_accuracy: 0.6000\n",
      "Epoch 71/100\n",
      "3/3 [==============================] - 0s 32ms/step - loss: 0.3497 - accuracy: 0.8125 - val_loss: 0.3907 - val_accuracy: 0.8500\n",
      "Epoch 72/100\n",
      "3/3 [==============================] - 0s 28ms/step - loss: 0.2718 - accuracy: 0.9625 - val_loss: 0.4537 - val_accuracy: 0.8000\n",
      "Epoch 73/100\n",
      "3/3 [==============================] - 0s 34ms/step - loss: 0.3525 - accuracy: 0.8875 - val_loss: 0.4601 - val_accuracy: 0.7000\n",
      "Epoch 74/100\n",
      "3/3 [==============================] - 0s 34ms/step - loss: 0.3736 - accuracy: 0.8625 - val_loss: 1.4233 - val_accuracy: 0.4500\n",
      "Epoch 75/100\n",
      "3/3 [==============================] - 0s 53ms/step - loss: 0.8685 - accuracy: 0.5375 - val_loss: 0.4419 - val_accuracy: 0.8000\n",
      "Epoch 76/100\n",
      "3/3 [==============================] - 0s 34ms/step - loss: 0.3296 - accuracy: 0.9250 - val_loss: 0.3902 - val_accuracy: 0.8500\n",
      "Epoch 77/100\n",
      "3/3 [==============================] - 0s 34ms/step - loss: 0.2611 - accuracy: 0.9500 - val_loss: 0.3959 - val_accuracy: 0.8000\n",
      "Epoch 78/100\n",
      "3/3 [==============================] - 0s 44ms/step - loss: 0.2510 - accuracy: 0.9375 - val_loss: 0.3726 - val_accuracy: 0.9000\n",
      "Epoch 79/100\n",
      "3/3 [==============================] - 0s 32ms/step - loss: 0.2511 - accuracy: 0.9125 - val_loss: 0.4580 - val_accuracy: 0.8000\n",
      "Epoch 80/100\n",
      "3/3 [==============================] - 0s 29ms/step - loss: 0.2967 - accuracy: 0.9250 - val_loss: 0.3977 - val_accuracy: 0.8000\n",
      "Epoch 81/100\n",
      "3/3 [==============================] - 0s 28ms/step - loss: 0.2799 - accuracy: 0.9375 - val_loss: 0.4157 - val_accuracy: 0.8000\n",
      "Epoch 82/100\n",
      "3/3 [==============================] - 0s 53ms/step - loss: 0.2178 - accuracy: 0.9500 - val_loss: 0.4669 - val_accuracy: 0.7000\n",
      "Epoch 83/100\n",
      "3/3 [==============================] - 0s 38ms/step - loss: 0.3360 - accuracy: 0.8750 - val_loss: 0.7224 - val_accuracy: 0.6000\n",
      "Epoch 84/100\n",
      "3/3 [==============================] - 0s 33ms/step - loss: 0.5233 - accuracy: 0.7625 - val_loss: 0.4502 - val_accuracy: 0.7000\n",
      "Epoch 85/100\n",
      "3/3 [==============================] - 0s 34ms/step - loss: 0.5430 - accuracy: 0.7250 - val_loss: 0.8019 - val_accuracy: 0.5500\n",
      "Epoch 86/100\n",
      "3/3 [==============================] - 0s 53ms/step - loss: 0.4664 - accuracy: 0.7625 - val_loss: 0.4228 - val_accuracy: 0.8000\n",
      "Epoch 87/100\n",
      "3/3 [==============================] - 0s 32ms/step - loss: 0.2414 - accuracy: 0.9500 - val_loss: 0.3891 - val_accuracy: 0.8500\n",
      "Epoch 88/100\n",
      "3/3 [==============================] - 0s 31ms/step - loss: 0.2424 - accuracy: 0.9500 - val_loss: 0.4145 - val_accuracy: 0.8000\n",
      "Epoch 89/100\n",
      "3/3 [==============================] - 0s 31ms/step - loss: 0.2240 - accuracy: 0.9375 - val_loss: 0.4606 - val_accuracy: 0.8000\n",
      "Epoch 90/100\n",
      "3/3 [==============================] - 0s 35ms/step - loss: 0.2714 - accuracy: 0.9000 - val_loss: 0.3721 - val_accuracy: 0.9000\n",
      "Epoch 91/100\n",
      "3/3 [==============================] - 0s 31ms/step - loss: 0.2278 - accuracy: 0.9500 - val_loss: 0.3503 - val_accuracy: 0.8000\n",
      "Epoch 92/100\n",
      "3/3 [==============================] - 0s 31ms/step - loss: 0.2074 - accuracy: 0.9375 - val_loss: 0.3452 - val_accuracy: 0.8500\n",
      "Epoch 93/100\n",
      "3/3 [==============================] - 0s 31ms/step - loss: 0.3020 - accuracy: 0.9000 - val_loss: 0.6133 - val_accuracy: 0.6000\n",
      "Epoch 94/100\n",
      "3/3 [==============================] - 0s 28ms/step - loss: 0.2645 - accuracy: 0.8500 - val_loss: 0.6354 - val_accuracy: 0.7000\n",
      "Epoch 95/100\n",
      "3/3 [==============================] - 0s 32ms/step - loss: 0.3127 - accuracy: 0.8750 - val_loss: 0.6546 - val_accuracy: 0.6000\n",
      "Epoch 96/100\n",
      "3/3 [==============================] - 0s 27ms/step - loss: 0.8823 - accuracy: 0.5000 - val_loss: 0.9224 - val_accuracy: 0.5000\n",
      "Epoch 97/100\n",
      "3/3 [==============================] - 0s 28ms/step - loss: 0.4158 - accuracy: 0.8000 - val_loss: 0.3829 - val_accuracy: 0.8500\n",
      "Epoch 98/100\n",
      "3/3 [==============================] - 0s 31ms/step - loss: 0.2391 - accuracy: 0.9625 - val_loss: 0.4479 - val_accuracy: 0.8000\n",
      "Epoch 99/100\n",
      "3/3 [==============================] - 0s 31ms/step - loss: 0.2550 - accuracy: 0.9125 - val_loss: 0.6038 - val_accuracy: 0.6000\n",
      "Epoch 100/100\n",
      "3/3 [==============================] - 0s 31ms/step - loss: 0.3812 - accuracy: 0.8125 - val_loss: 0.6049 - val_accuracy: 0.7000\n"
     ]
    }
   ],
   "source": [
    "H = model.fit(x_train, y_train, validation_data=(x_test, y_test), \n",
    "          epochs=max_epochs, batch_size=32)"
   ]
  },
  {
   "cell_type": "code",
   "execution_count": 15,
   "id": "9d240982",
   "metadata": {},
   "outputs": [
    {
     "data": {
      "image/png": "[encoded data removed]",
      "text/plain": [
       "<Figure size 432x288 with 1 Axes>"
      ]
     },
     "metadata": {},
     "output_type": "display_data"
    }
   ],
   "source": [
    "N = np.arange(0, max_epochs)\n",
    "plt.style.use(\"ggplot\")\n",
    "plt.figure()\n",
    "plt.plot(N, H.history[\"loss\"], label=\"train_loss\")\n",
    "plt.plot(N, H.history[\"val_loss\"], label=\"val_loss\")\n",
    "#plt.plot(N, H.history[\"accuracy\"], label=\"train_acc\")\n",
    "#plt.plot(N, H.history[\"val_accuracy\"], label=\"val_acc\")\n",
    "plt.xlabel(\"Epoch #\")\n",
    "plt.legend()\n",
    "plt.show()"
   ]
  },
  {
   "cell_type": "markdown",
   "id": "ff01631e",
   "metadata": {},
   "source": [
    "# 7. Evaluate the Model"
   ]
  },
  {
   "cell_type": "code",
   "execution_count": 16,
   "id": "2aa43474",
   "metadata": {},
   "outputs": [
    {
     "name": "stdout",
     "output_type": "stream",
     "text": [
      "              precision    recall  f1-score   support\n",
      "\n",
      "       NIPIS       1.00      0.50      0.67        12\n",
      "       SIRIH       0.57      1.00      0.73         8\n",
      "\n",
      "    accuracy                           0.70        20\n",
      "   macro avg       0.79      0.75      0.70        20\n",
      "weighted avg       0.83      0.70      0.69        20\n",
      "\n"
     ]
    },
    {
     "name": "stderr",
     "output_type": "stream",
     "text": [
      "C:\\Users\\ASUS\\AppData\\Local\\Temp/ipykernel_5964/954476436.py:3: DeprecationWarning: `np.int` is a deprecated alias for the builtin `int`. To silence this warning, use `int` by itself. Doing this will not modify any behavior and is safe. When replacing `np.int`, you may wish to use e.g. `np.int64` or `np.int32` to specify the precision. If you wish to review your current use, check the release note link for additional information.\n",
      "Deprecated in NumPy 1.20; for more details and guidance: https://numpy.org/devdocs/release/1.20.0-notes.html#deprecations\n",
      "  target = (predictions > 0.5).astype(np.int)\n"
     ]
    }
   ],
   "source": [
    "# menghitung nilai akurasi model terhadap data test\n",
    "predictions = model.predict(x_test, batch_size=32)\n",
    "target = (predictions > 0.5).astype(np.int)\n",
    "print(classification_report(y_test, target, target_names=label_list))"
   ]
  },
  {
   "cell_type": "code",
   "execution_count": 17,
   "id": "1794b44e",
   "metadata": {},
   "outputs": [
    {
     "name": "stdout",
     "output_type": "stream",
     "text": [
      "[[0.93643236]]\n"
     ]
    }
   ],
   "source": [
    "# uji model menggunakan image lain\n",
    "queryPath = imagePaths+'query_sirih.jpg'\n",
    "query = cv2.imread(queryPath)\n",
    "output = query.copy()\n",
    "query = cv2.resize(query, (32, 32))\n",
    "q = []\n",
    "q.append(query)\n",
    "q = np.array(q, dtype='float') / 255.0\n",
    "\n",
    "q_pred = model.predict(q)\n",
    "print(q_pred)"
   ]
  },
  {
   "cell_type": "code",
   "execution_count": 18,
   "id": "99cf1ff5",
   "metadata": {},
   "outputs": [
    {
     "ename": "error",
     "evalue": "OpenCV(4.5.4) D:\\a\\opencv-python\\opencv-python\\opencv\\modules\\highgui\\src\\window_w32.cpp:1261: error: (-27:Null pointer) NULL window: 'Output' in function 'cvDestroyWindow'\n",
     "output_type": "error",
     "traceback": [
      "\u001b[1;31m---------------------------------------------------------------------------\u001b[0m",
      "\u001b[1;31merror\u001b[0m                                     Traceback (most recent call last)",
      "\u001b[1;32m~\\AppData\\Local\\Temp/ipykernel_5964/296987098.py\u001b[0m in \u001b[0;36m<module>\u001b[1;34m\u001b[0m\n\u001b[0;32m      9\u001b[0m \u001b[0mcv2\u001b[0m\u001b[1;33m.\u001b[0m\u001b[0mimshow\u001b[0m\u001b[1;33m(\u001b[0m\u001b[1;34m'Output'\u001b[0m\u001b[1;33m,\u001b[0m \u001b[0moutput\u001b[0m\u001b[1;33m)\u001b[0m\u001b[1;33m\u001b[0m\u001b[1;33m\u001b[0m\u001b[0m\n\u001b[0;32m     10\u001b[0m \u001b[0mcv2\u001b[0m\u001b[1;33m.\u001b[0m\u001b[0mwaitKey\u001b[0m\u001b[1;33m(\u001b[0m\u001b[1;33m)\u001b[0m \u001b[1;31m# image tidak akan diclose,sebelum user menekan sembarang tombol\u001b[0m\u001b[1;33m\u001b[0m\u001b[1;33m\u001b[0m\u001b[0m\n\u001b[1;32m---> 11\u001b[1;33m \u001b[0mcv2\u001b[0m\u001b[1;33m.\u001b[0m\u001b[0mdestroyWindow\u001b[0m\u001b[1;33m(\u001b[0m\u001b[1;34m'Output'\u001b[0m\u001b[1;33m)\u001b[0m \u001b[1;31m# image akan diclose\u001b[0m\u001b[1;33m\u001b[0m\u001b[1;33m\u001b[0m\u001b[0m\n\u001b[0m",
      "\u001b[1;31merror\u001b[0m: OpenCV(4.5.4) D:\\a\\opencv-python\\opencv-python\\opencv\\modules\\highgui\\src\\window_w32.cpp:1261: error: (-27:Null pointer) NULL window: 'Output' in function 'cvDestroyWindow'\n"
     ]
    }
   ],
   "source": [
    "if q_pred<=0.5 :\n",
    "    target = \"DAUN NIPIS\"\n",
    "else :\n",
    "    target = \"DAUN SIRIH\"\n",
    "text = \"{}\".format(target)\n",
    "cv2.putText(output, text, (10, 30), cv2.FONT_HERSHEY_SIMPLEX, 0.7, (0, 0, 255), 2)\n",
    " \n",
    "# menampilkan output image\n",
    "cv2.imshow('Output', output)\n",
    "cv2.waitKey() # image tidak akan diclose,sebelum user menekan sembarang tombol\n",
    "cv2.destroyWindow('Output') # image akan diclose"
   ]
  },
  {
   "cell_type": "code",
   "execution_count": null,
   "id": "2834b4ed",
   "metadata": {},
   "outputs": [],
   "source": []
  }
 ],
 "metadata": {
  "kernelspec": {
   "display_name": "Python 3 (ipykernel)",
   "language": "python",
   "name": "python3"
  },
  "language_info": {
   "codemirror_mode": {
    "name": "ipython",
    "version": 3
   },
   "file_extension": ".py",
   "mimetype": "text/x-python",
   "name": "python",
   "nbconvert_exporter": "python",
   "pygments_lexer": "ipython3",
   "version": "3.8.2"
  }
 },
 "nbformat": 4,
 "nbformat_minor": 5
}
