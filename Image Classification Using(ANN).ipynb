{
 "cells": [
  {
   "cell_type": "markdown",
   "id": "6f2c852c",
   "metadata": {},
   "source": [
    "# 1. Import module yang dibutuhkan"
   ]
  },
  {
   "cell_type": "code",
   "execution_count": 1,
   "id": "d1863771",
   "metadata": {},
   "outputs": [],
   "source": [
    "from sklearn.model_selection import train_test_split\n",
    "from sklearn.preprocessing import LabelEncoder\n",
    "from sklearn.metrics import classification_report\n",
    "from tensorflow.keras.models import Sequential\n",
    "from tensorflow.keras.layers import Flatten, Dense\n",
    "from tensorflow.keras.optimizers import SGD\n",
    "import numpy as np\n",
    "import cv2\n",
    "import glob\n",
    "import matplotlib.pyplot as plt"
   ]
  },
  {
   "cell_type": "markdown",
   "id": "b6686338",
   "metadata": {},
   "source": [
    "# 2. Load Dataset"
   ]
  },
  {
   "cell_type": "code",
   "execution_count": 2,
   "id": "c8e7096f",
   "metadata": {},
   "outputs": [],
   "source": [
    "imagePaths = 'Dataset\\\\'\n",
    "label_list = ['NIPIS', 'SIRIH']\n",
    "data = []\n",
    "labels = []"
   ]
  },
  {
   "cell_type": "code",
   "execution_count": 3,
   "id": "4dda8f97",
   "metadata": {},
   "outputs": [],
   "source": [
    "for label in label_list:\n",
    "    for imagePath in glob.glob(imagePaths+label+'\\\\*.jpg'):\n",
    "        #print(imagePath)\n",
    "        image = cv2.imread(imagePath)\n",
    "        image = cv2.resize(image, (32, 32))\n",
    "        data.append(image)\n",
    "        labels.append(label)"
   ]
  },
  {
   "cell_type": "code",
   "execution_count": 4,
   "id": "5b119dea",
   "metadata": {},
   "outputs": [
    {
     "data": {
      "text/plain": [
       "(100, 32, 32, 3)"
      ]
     },
     "execution_count": 4,
     "metadata": {},
     "output_type": "execute_result"
    }
   ],
   "source": [
    "np.array(data).shape"
   ]
  },
  {
   "cell_type": "markdown",
   "id": "c785bba1",
   "metadata": {},
   "source": [
    "# 3. Data Preprocessing"
   ]
  },
  {
   "cell_type": "code",
   "execution_count": 5,
   "id": "88a0dbff",
   "metadata": {},
   "outputs": [],
   "source": [
    "# ubah type data dari list menjadi array\n",
    "# ubah nilai dari tiap pixel menjadi range [0..1]\n",
    "data = np.array(data, dtype='float') / 255.0\n",
    "labels = np.array(labels)"
   ]
  },
  {
   "cell_type": "code",
   "execution_count": 6,
   "id": "f820cc59",
   "metadata": {},
   "outputs": [
    {
     "name": "stdout",
     "output_type": "stream",
     "text": [
      "['NIPIS' 'NIPIS' 'NIPIS' 'NIPIS' 'NIPIS' 'NIPIS' 'NIPIS' 'NIPIS' 'NIPIS'\n",
      " 'NIPIS' 'NIPIS' 'NIPIS' 'NIPIS' 'NIPIS' 'NIPIS' 'NIPIS' 'NIPIS' 'NIPIS'\n",
      " 'NIPIS' 'NIPIS' 'NIPIS' 'NIPIS' 'NIPIS' 'NIPIS' 'NIPIS' 'NIPIS' 'NIPIS'\n",
      " 'NIPIS' 'NIPIS' 'NIPIS' 'NIPIS' 'NIPIS' 'NIPIS' 'NIPIS' 'NIPIS' 'NIPIS'\n",
      " 'NIPIS' 'NIPIS' 'NIPIS' 'NIPIS' 'NIPIS' 'NIPIS' 'NIPIS' 'NIPIS' 'NIPIS'\n",
      " 'NIPIS' 'NIPIS' 'NIPIS' 'NIPIS' 'NIPIS' 'SIRIH' 'SIRIH' 'SIRIH' 'SIRIH'\n",
      " 'SIRIH' 'SIRIH' 'SIRIH' 'SIRIH' 'SIRIH' 'SIRIH' 'SIRIH' 'SIRIH' 'SIRIH'\n",
      " 'SIRIH' 'SIRIH' 'SIRIH' 'SIRIH' 'SIRIH' 'SIRIH' 'SIRIH' 'SIRIH' 'SIRIH'\n",
      " 'SIRIH' 'SIRIH' 'SIRIH' 'SIRIH' 'SIRIH' 'SIRIH' 'SIRIH' 'SIRIH' 'SIRIH'\n",
      " 'SIRIH' 'SIRIH' 'SIRIH' 'SIRIH' 'SIRIH' 'SIRIH' 'SIRIH' 'SIRIH' 'SIRIH'\n",
      " 'SIRIH' 'SIRIH' 'SIRIH' 'SIRIH' 'SIRIH' 'SIRIH' 'SIRIH' 'SIRIH' 'SIRIH'\n",
      " 'SIRIH']\n"
     ]
    }
   ],
   "source": [
    "print(labels)"
   ]
  },
  {
   "cell_type": "code",
   "execution_count": 7,
   "id": "0fc69c4c",
   "metadata": {},
   "outputs": [
    {
     "name": "stdout",
     "output_type": "stream",
     "text": [
      "[0 0 0 0 0 0 0 0 0 0 0 0 0 0 0 0 0 0 0 0 0 0 0 0 0 0 0 0 0 0 0 0 0 0 0 0 0\n",
      " 0 0 0 0 0 0 0 0 0 0 0 0 0 1 1 1 1 1 1 1 1 1 1 1 1 1 1 1 1 1 1 1 1 1 1 1 1\n",
      " 1 1 1 1 1 1 1 1 1 1 1 1 1 1 1 1 1 1 1 1 1 1 1 1 1 1]\n"
     ]
    }
   ],
   "source": [
    "# ubah nilai dari labels menjadi binary\n",
    "lb = LabelEncoder()\n",
    "labels = lb.fit_transform(labels)\n",
    "print(labels)"
   ]
  },
  {
   "cell_type": "markdown",
   "id": "7faa72d8",
   "metadata": {},
   "source": [
    "# 4. Split Dataset"
   ]
  },
  {
   "cell_type": "code",
   "execution_count": 8,
   "id": "ccfbe9d9",
   "metadata": {},
   "outputs": [],
   "source": [
    "x_train, x_test, y_train, y_test = train_test_split(data, labels, test_size=0.2, random_state=42)"
   ]
  },
  {
   "cell_type": "code",
   "execution_count": 9,
   "id": "55dc0134",
   "metadata": {},
   "outputs": [
    {
     "name": "stdout",
     "output_type": "stream",
     "text": [
      "Ukuran data train = (80, 32, 32, 3)\n",
      "Ukuran data test = (20, 32, 32, 3)\n"
     ]
    }
   ],
   "source": [
    "print('Ukuran data train =', x_train.shape)\n",
    "print('Ukuran data test =', x_test.shape)"
   ]
  },
  {
   "cell_type": "markdown",
   "id": "e0e292d6",
   "metadata": {},
   "source": [
    "# 5. Build ANN Architecture"
   ]
  },
  {
   "cell_type": "code",
   "execution_count": 10,
   "id": "912c3044",
   "metadata": {},
   "outputs": [],
   "source": [
    "model = Sequential()\n",
    "model.add(Flatten(input_shape=(32,32,3)))\n",
    "model.add(Dense(1024, activation=\"relu\"))\n",
    "model.add(Dense(1024, activation=\"relu\"))\n",
    "model.add(Dense(1, activation=\"sigmoid\"))"
   ]
  },
  {
   "cell_type": "code",
   "execution_count": 11,
   "id": "11d49093",
   "metadata": {},
   "outputs": [
    {
     "name": "stdout",
     "output_type": "stream",
     "text": [
      "Model: \"sequential\"\n",
      "_________________________________________________________________\n",
      " Layer (type)                Output Shape              Param #   \n",
      "=================================================================\n",
      " flatten (Flatten)           (None, 3072)              0         \n",
      "                                                                 \n",
      " dense (Dense)               (None, 1024)              3146752   \n",
      "                                                                 \n",
      " dense_1 (Dense)             (None, 1024)              1049600   \n",
      "                                                                 \n",
      " dense_2 (Dense)             (None, 1)                 1025      \n",
      "                                                                 \n",
      "=================================================================\n",
      "Total params: 4,197,377\n",
      "Trainable params: 4,197,377\n",
      "Non-trainable params: 0\n",
      "_________________________________________________________________\n"
     ]
    }
   ],
   "source": [
    "model.summary()"
   ]
  },
  {
   "cell_type": "code",
   "execution_count": 12,
   "id": "ac43d770",
   "metadata": {},
   "outputs": [],
   "source": [
    "# tentukan hyperparameter\n",
    "lr = 0.01\n",
    "max_epochs = 100\n",
    "opt_funct = SGD(learning_rate=lr)"
   ]
  },
  {
   "cell_type": "code",
   "execution_count": 13,
   "id": "92f79ded",
   "metadata": {},
   "outputs": [],
   "source": [
    "# compile arsitektur yang telah dibuat\n",
    "model.compile(loss = 'binary_crossentropy', \n",
    "              optimizer = opt_funct, \n",
    "              metrics = ['accuracy'])"
   ]
  },
  {
   "cell_type": "markdown",
   "id": "d2af934e",
   "metadata": {},
   "source": [
    "# 6. Train Model"
   ]
  },
  {
   "cell_type": "code",
   "execution_count": 14,
   "id": "d4e72d39",
   "metadata": {},
   "outputs": [
    {
     "name": "stdout",
     "output_type": "stream",
     "text": [
      "Epoch 1/100\n",
      "3/3 [==============================] - 1s 89ms/step - loss: 1.1061 - accuracy: 0.5000 - val_loss: 1.8807 - val_accuracy: 0.6000\n",
      "Epoch 2/100\n",
      "3/3 [==============================] - 0s 30ms/step - loss: 1.8805 - accuracy: 0.4500 - val_loss: 0.7454 - val_accuracy: 0.4000\n",
      "Epoch 3/100\n",
      "3/3 [==============================] - 0s 33ms/step - loss: 0.7440 - accuracy: 0.4500 - val_loss: 0.6557 - val_accuracy: 0.6000\n",
      "Epoch 4/100\n",
      "3/3 [==============================] - 0s 32ms/step - loss: 0.6628 - accuracy: 0.5250 - val_loss: 0.7650 - val_accuracy: 0.4000\n",
      "Epoch 5/100\n",
      "3/3 [==============================] - 0s 36ms/step - loss: 0.6518 - accuracy: 0.5000 - val_loss: 0.6042 - val_accuracy: 0.7500\n",
      "Epoch 6/100\n",
      "3/3 [==============================] - 0s 60ms/step - loss: 0.5852 - accuracy: 0.7000 - val_loss: 0.5755 - val_accuracy: 0.7000\n",
      "Epoch 7/100\n",
      "3/3 [==============================] - 0s 40ms/step - loss: 0.5791 - accuracy: 0.7125 - val_loss: 0.9339 - val_accuracy: 0.4000\n",
      "Epoch 8/100\n",
      "3/3 [==============================] - 0s 38ms/step - loss: 0.7035 - accuracy: 0.4750 - val_loss: 0.8457 - val_accuracy: 0.6000\n",
      "Epoch 9/100\n",
      "3/3 [==============================] - 0s 43ms/step - loss: 0.8578 - accuracy: 0.4750 - val_loss: 0.6388 - val_accuracy: 0.5500\n",
      "Epoch 10/100\n",
      "3/3 [==============================] - 0s 39ms/step - loss: 0.5652 - accuracy: 0.8000 - val_loss: 0.5929 - val_accuracy: 0.6000\n",
      "Epoch 11/100\n",
      "3/3 [==============================] - 0s 51ms/step - loss: 0.5367 - accuracy: 0.7125 - val_loss: 0.6079 - val_accuracy: 0.6500\n",
      "Epoch 12/100\n",
      "3/3 [==============================] - 0s 34ms/step - loss: 0.5168 - accuracy: 0.8500 - val_loss: 0.9853 - val_accuracy: 0.4000\n",
      "Epoch 13/100\n",
      "3/3 [==============================] - 0s 52ms/step - loss: 0.8658 - accuracy: 0.4500 - val_loss: 0.5693 - val_accuracy: 0.7000\n",
      "Epoch 14/100\n",
      "3/3 [==============================] - 0s 56ms/step - loss: 0.5257 - accuracy: 0.8375 - val_loss: 0.6107 - val_accuracy: 0.6000\n",
      "Epoch 15/100\n",
      "3/3 [==============================] - 0s 33ms/step - loss: 0.7053 - accuracy: 0.4250 - val_loss: 1.1257 - val_accuracy: 0.4000\n",
      "Epoch 16/100\n",
      "3/3 [==============================] - 0s 32ms/step - loss: 0.6242 - accuracy: 0.7125 - val_loss: 0.6905 - val_accuracy: 0.6000\n",
      "Epoch 17/100\n",
      "3/3 [==============================] - 0s 37ms/step - loss: 0.7328 - accuracy: 0.4875 - val_loss: 0.6369 - val_accuracy: 0.5500\n",
      "Epoch 18/100\n",
      "3/3 [==============================] - 0s 37ms/step - loss: 0.4903 - accuracy: 0.8375 - val_loss: 0.5635 - val_accuracy: 0.8000\n",
      "Epoch 19/100\n",
      "3/3 [==============================] - 0s 35ms/step - loss: 0.4654 - accuracy: 0.8875 - val_loss: 0.5921 - val_accuracy: 0.7000\n",
      "Epoch 20/100\n",
      "3/3 [==============================] - 0s 35ms/step - loss: 0.4938 - accuracy: 0.8250 - val_loss: 0.5460 - val_accuracy: 0.6500\n",
      "Epoch 21/100\n",
      "3/3 [==============================] - 0s 32ms/step - loss: 0.4723 - accuracy: 0.8000 - val_loss: 0.5228 - val_accuracy: 0.7000\n",
      "Epoch 22/100\n",
      "3/3 [==============================] - 0s 39ms/step - loss: 0.4543 - accuracy: 0.8500 - val_loss: 0.6272 - val_accuracy: 0.6000\n",
      "Epoch 23/100\n",
      "3/3 [==============================] - 0s 53ms/step - loss: 0.4493 - accuracy: 0.8500 - val_loss: 0.6965 - val_accuracy: 0.6000\n",
      "Epoch 24/100\n",
      "3/3 [==============================] - 0s 35ms/step - loss: 0.5107 - accuracy: 0.7000 - val_loss: 0.5799 - val_accuracy: 0.7000\n",
      "Epoch 25/100\n",
      "3/3 [==============================] - 0s 35ms/step - loss: 0.4114 - accuracy: 0.8625 - val_loss: 0.5332 - val_accuracy: 0.8000\n",
      "Epoch 26/100\n",
      "3/3 [==============================] - 0s 40ms/step - loss: 0.4402 - accuracy: 0.8125 - val_loss: 0.7344 - val_accuracy: 0.5000\n",
      "Epoch 27/100\n",
      "3/3 [==============================] - 0s 36ms/step - loss: 0.4136 - accuracy: 0.8125 - val_loss: 0.4856 - val_accuracy: 0.8000\n",
      "Epoch 28/100\n",
      "3/3 [==============================] - 0s 48ms/step - loss: 0.5129 - accuracy: 0.7625 - val_loss: 1.4640 - val_accuracy: 0.4000\n",
      "Epoch 29/100\n",
      "3/3 [==============================] - 0s 39ms/step - loss: 0.7768 - accuracy: 0.5750 - val_loss: 0.5162 - val_accuracy: 0.8000\n",
      "Epoch 30/100\n",
      "3/3 [==============================] - 0s 35ms/step - loss: 0.4068 - accuracy: 0.8625 - val_loss: 0.5023 - val_accuracy: 0.7000\n",
      "Epoch 31/100\n",
      "3/3 [==============================] - 0s 36ms/step - loss: 0.4272 - accuracy: 0.8250 - val_loss: 0.4663 - val_accuracy: 0.8500\n",
      "Epoch 32/100\n",
      "3/3 [==============================] - 0s 39ms/step - loss: 0.3740 - accuracy: 0.9250 - val_loss: 0.4723 - val_accuracy: 0.8000\n",
      "Epoch 33/100\n",
      "3/3 [==============================] - 0s 45ms/step - loss: 0.5985 - accuracy: 0.6875 - val_loss: 0.5662 - val_accuracy: 0.6000\n",
      "Epoch 34/100\n",
      "3/3 [==============================] - 0s 35ms/step - loss: 0.5142 - accuracy: 0.6375 - val_loss: 0.7941 - val_accuracy: 0.5000\n",
      "Epoch 35/100\n",
      "3/3 [==============================] - 0s 35ms/step - loss: 0.6283 - accuracy: 0.5375 - val_loss: 0.4797 - val_accuracy: 0.8000\n",
      "Epoch 36/100\n",
      "3/3 [==============================] - 0s 35ms/step - loss: 0.3834 - accuracy: 0.9375 - val_loss: 0.4531 - val_accuracy: 0.8500\n",
      "Epoch 37/100\n",
      "3/3 [==============================] - 0s 45ms/step - loss: 0.3781 - accuracy: 0.9125 - val_loss: 0.7438 - val_accuracy: 0.5000\n",
      "Epoch 38/100\n",
      "3/3 [==============================] - 0s 36ms/step - loss: 0.5472 - accuracy: 0.6000 - val_loss: 0.5397 - val_accuracy: 0.7500\n",
      "Epoch 39/100\n",
      "3/3 [==============================] - 0s 38ms/step - loss: 0.4297 - accuracy: 0.8375 - val_loss: 0.5921 - val_accuracy: 0.6000\n",
      "Epoch 40/100\n",
      "3/3 [==============================] - 0s 38ms/step - loss: 0.5882 - accuracy: 0.5500 - val_loss: 0.6362 - val_accuracy: 0.6000\n",
      "Epoch 41/100\n",
      "3/3 [==============================] - 0s 37ms/step - loss: 0.4817 - accuracy: 0.7375 - val_loss: 0.4739 - val_accuracy: 0.7000\n",
      "Epoch 42/100\n",
      "3/3 [==============================] - 0s 38ms/step - loss: 0.3411 - accuracy: 0.9500 - val_loss: 0.5955 - val_accuracy: 0.6000\n",
      "Epoch 43/100\n",
      "3/3 [==============================] - 0s 35ms/step - loss: 0.4418 - accuracy: 0.7125 - val_loss: 0.5060 - val_accuracy: 0.8000\n",
      "Epoch 44/100\n",
      "3/3 [==============================] - 0s 44ms/step - loss: 0.3859 - accuracy: 0.8250 - val_loss: 0.5069 - val_accuracy: 0.8000\n",
      "Epoch 45/100\n",
      "3/3 [==============================] - 0s 33ms/step - loss: 0.4236 - accuracy: 0.7500 - val_loss: 1.5185 - val_accuracy: 0.4000\n",
      "Epoch 46/100\n",
      "3/3 [==============================] - 0s 33ms/step - loss: 0.7633 - accuracy: 0.7000 - val_loss: 0.4595 - val_accuracy: 0.8000\n",
      "Epoch 47/100\n",
      "3/3 [==============================] - 0s 36ms/step - loss: 0.3530 - accuracy: 0.9000 - val_loss: 0.4535 - val_accuracy: 0.8000\n",
      "Epoch 48/100\n",
      "3/3 [==============================] - 0s 41ms/step - loss: 0.3431 - accuracy: 0.9000 - val_loss: 0.4270 - val_accuracy: 0.8500\n",
      "Epoch 49/100\n",
      "3/3 [==============================] - 0s 29ms/step - loss: 0.3635 - accuracy: 0.8750 - val_loss: 1.1544 - val_accuracy: 0.4500\n",
      "Epoch 50/100\n",
      "3/3 [==============================] - 0s 33ms/step - loss: 0.6036 - accuracy: 0.6625 - val_loss: 0.4838 - val_accuracy: 0.8000\n",
      "Epoch 51/100\n",
      "3/3 [==============================] - 0s 41ms/step - loss: 0.3583 - accuracy: 0.8500 - val_loss: 0.8662 - val_accuracy: 0.5000\n",
      "Epoch 52/100\n",
      "3/3 [==============================] - 0s 31ms/step - loss: 0.4183 - accuracy: 0.8250 - val_loss: 0.4339 - val_accuracy: 0.7500\n",
      "Epoch 53/100\n",
      "3/3 [==============================] - 0s 34ms/step - loss: 0.3337 - accuracy: 0.8750 - val_loss: 0.7380 - val_accuracy: 0.5500\n",
      "Epoch 54/100\n",
      "3/3 [==============================] - 0s 37ms/step - loss: 0.3249 - accuracy: 0.9000 - val_loss: 0.4115 - val_accuracy: 0.8500\n",
      "Epoch 55/100\n",
      "3/3 [==============================] - 0s 40ms/step - loss: 0.3565 - accuracy: 0.8125 - val_loss: 0.6433 - val_accuracy: 0.6000\n",
      "Epoch 56/100\n",
      "3/3 [==============================] - 0s 38ms/step - loss: 0.4140 - accuracy: 0.8375 - val_loss: 0.6345 - val_accuracy: 0.6000\n",
      "Epoch 57/100\n",
      "3/3 [==============================] - 0s 41ms/step - loss: 0.5187 - accuracy: 0.6750 - val_loss: 0.7065 - val_accuracy: 0.6000\n",
      "Epoch 58/100\n",
      "3/3 [==============================] - 0s 38ms/step - loss: 0.3191 - accuracy: 0.8875 - val_loss: 0.4183 - val_accuracy: 0.8500\n",
      "Epoch 59/100\n",
      "3/3 [==============================] - 0s 40ms/step - loss: 0.2947 - accuracy: 0.9125 - val_loss: 0.8499 - val_accuracy: 0.5000\n",
      "Epoch 60/100\n",
      "3/3 [==============================] - 0s 36ms/step - loss: 0.9493 - accuracy: 0.4500 - val_loss: 0.4790 - val_accuracy: 0.8500\n",
      "Epoch 61/100\n",
      "3/3 [==============================] - 0s 34ms/step - loss: 0.3918 - accuracy: 0.9125 - val_loss: 0.5718 - val_accuracy: 0.7500\n",
      "Epoch 62/100\n",
      "3/3 [==============================] - 0s 37ms/step - loss: 0.3674 - accuracy: 0.8750 - val_loss: 0.4584 - val_accuracy: 0.8000\n",
      "Epoch 63/100\n",
      "3/3 [==============================] - 0s 45ms/step - loss: 0.2899 - accuracy: 0.9375 - val_loss: 0.4416 - val_accuracy: 0.8000\n",
      "Epoch 64/100\n",
      "3/3 [==============================] - 0s 48ms/step - loss: 0.3184 - accuracy: 0.9000 - val_loss: 0.4952 - val_accuracy: 0.7000\n",
      "Epoch 65/100\n",
      "3/3 [==============================] - 0s 43ms/step - loss: 0.2997 - accuracy: 0.9125 - val_loss: 0.4436 - val_accuracy: 0.8000\n",
      "Epoch 66/100\n",
      "3/3 [==============================] - 0s 34ms/step - loss: 0.2591 - accuracy: 0.9375 - val_loss: 0.4091 - val_accuracy: 0.8000\n",
      "Epoch 67/100\n",
      "3/3 [==============================] - 0s 31ms/step - loss: 0.2767 - accuracy: 0.9125 - val_loss: 0.4286 - val_accuracy: 0.8000\n",
      "Epoch 68/100\n",
      "3/3 [==============================] - 0s 36ms/step - loss: 0.2658 - accuracy: 0.9000 - val_loss: 0.6147 - val_accuracy: 0.6000\n",
      "Epoch 69/100\n",
      "3/3 [==============================] - 0s 41ms/step - loss: 0.5659 - accuracy: 0.6375 - val_loss: 1.1978 - val_accuracy: 0.4500\n",
      "Epoch 70/100\n",
      "3/3 [==============================] - 0s 32ms/step - loss: 0.4651 - accuracy: 0.8375 - val_loss: 0.9589 - val_accuracy: 0.5000\n",
      "Epoch 71/100\n",
      "3/3 [==============================] - 0s 36ms/step - loss: 0.4085 - accuracy: 0.8250 - val_loss: 0.4032 - val_accuracy: 0.8000\n",
      "Epoch 72/100\n",
      "3/3 [==============================] - 0s 36ms/step - loss: 0.2764 - accuracy: 0.9250 - val_loss: 0.3954 - val_accuracy: 0.8500\n",
      "Epoch 73/100\n",
      "3/3 [==============================] - 0s 38ms/step - loss: 0.3679 - accuracy: 0.8000 - val_loss: 1.1199 - val_accuracy: 0.5000\n",
      "Epoch 74/100\n",
      "3/3 [==============================] - 0s 33ms/step - loss: 0.3898 - accuracy: 0.8000 - val_loss: 0.4091 - val_accuracy: 0.8000\n",
      "Epoch 75/100\n",
      "3/3 [==============================] - 0s 40ms/step - loss: 0.2463 - accuracy: 0.9500 - val_loss: 0.4033 - val_accuracy: 0.8000\n",
      "Epoch 76/100\n",
      "3/3 [==============================] - 0s 40ms/step - loss: 0.2374 - accuracy: 0.9250 - val_loss: 0.4485 - val_accuracy: 0.8000\n",
      "Epoch 77/100\n",
      "3/3 [==============================] - 0s 35ms/step - loss: 0.2669 - accuracy: 0.9375 - val_loss: 0.3810 - val_accuracy: 0.8500\n",
      "Epoch 78/100\n",
      "3/3 [==============================] - 0s 31ms/step - loss: 0.3901 - accuracy: 0.7875 - val_loss: 0.8992 - val_accuracy: 0.5000\n",
      "Epoch 79/100\n",
      "3/3 [==============================] - 0s 39ms/step - loss: 0.3526 - accuracy: 0.8125 - val_loss: 0.3708 - val_accuracy: 0.8500\n",
      "Epoch 80/100\n",
      "3/3 [==============================] - 0s 35ms/step - loss: 0.2301 - accuracy: 0.9625 - val_loss: 0.3782 - val_accuracy: 0.8500\n",
      "Epoch 81/100\n",
      "3/3 [==============================] - 0s 34ms/step - loss: 0.2274 - accuracy: 0.9375 - val_loss: 0.4093 - val_accuracy: 0.8500\n",
      "Epoch 82/100\n",
      "3/3 [==============================] - 0s 36ms/step - loss: 0.2149 - accuracy: 0.9500 - val_loss: 0.4392 - val_accuracy: 0.8000\n",
      "Epoch 83/100\n",
      "3/3 [==============================] - 0s 37ms/step - loss: 0.2666 - accuracy: 0.9250 - val_loss: 0.4333 - val_accuracy: 0.7500\n",
      "Epoch 84/100\n",
      "3/3 [==============================] - 0s 47ms/step - loss: 0.2253 - accuracy: 0.9625 - val_loss: 0.3790 - val_accuracy: 0.8000\n",
      "Epoch 85/100\n",
      "3/3 [==============================] - 0s 37ms/step - loss: 0.2441 - accuracy: 0.9125 - val_loss: 0.8423 - val_accuracy: 0.6000\n",
      "Epoch 86/100\n",
      "3/3 [==============================] - 0s 35ms/step - loss: 0.8911 - accuracy: 0.5375 - val_loss: 0.8047 - val_accuracy: 0.6000\n",
      "Epoch 87/100\n",
      "3/3 [==============================] - 0s 40ms/step - loss: 0.4318 - accuracy: 0.7625 - val_loss: 0.4531 - val_accuracy: 0.8000\n",
      "Epoch 88/100\n",
      "3/3 [==============================] - 0s 40ms/step - loss: 0.2644 - accuracy: 0.9375 - val_loss: 0.4356 - val_accuracy: 0.8000\n",
      "Epoch 89/100\n",
      "3/3 [==============================] - 0s 37ms/step - loss: 0.2249 - accuracy: 0.9125 - val_loss: 0.3698 - val_accuracy: 0.8500\n",
      "Epoch 90/100\n",
      "3/3 [==============================] - 0s 38ms/step - loss: 0.2214 - accuracy: 0.9375 - val_loss: 0.3842 - val_accuracy: 0.8500\n",
      "Epoch 91/100\n",
      "3/3 [==============================] - 0s 39ms/step - loss: 0.3375 - accuracy: 0.8375 - val_loss: 1.0042 - val_accuracy: 0.5000\n",
      "Epoch 92/100\n",
      "3/3 [==============================] - 0s 41ms/step - loss: 0.4745 - accuracy: 0.7750 - val_loss: 0.4182 - val_accuracy: 0.8000\n",
      "Epoch 93/100\n",
      "3/3 [==============================] - 0s 32ms/step - loss: 0.2586 - accuracy: 0.9250 - val_loss: 0.3569 - val_accuracy: 0.8500\n",
      "Epoch 94/100\n",
      "3/3 [==============================] - 0s 35ms/step - loss: 0.2034 - accuracy: 0.9500 - val_loss: 0.4891 - val_accuracy: 0.8000\n",
      "Epoch 95/100\n",
      "3/3 [==============================] - 0s 34ms/step - loss: 0.2170 - accuracy: 0.9250 - val_loss: 0.4394 - val_accuracy: 0.8000\n",
      "Epoch 96/100\n",
      "3/3 [==============================] - 0s 29ms/step - loss: 0.2064 - accuracy: 0.9500 - val_loss: 0.4228 - val_accuracy: 0.8000\n",
      "Epoch 97/100\n",
      "3/3 [==============================] - 0s 34ms/step - loss: 0.3269 - accuracy: 0.8500 - val_loss: 1.4770 - val_accuracy: 0.4500\n",
      "Epoch 98/100\n",
      "3/3 [==============================] - 0s 35ms/step - loss: 0.7147 - accuracy: 0.6500 - val_loss: 0.3872 - val_accuracy: 0.8000\n",
      "Epoch 99/100\n",
      "3/3 [==============================] - 0s 31ms/step - loss: 0.2148 - accuracy: 0.9500 - val_loss: 0.4009 - val_accuracy: 0.8500\n",
      "Epoch 100/100\n",
      "3/3 [==============================] - 0s 33ms/step - loss: 0.2048 - accuracy: 0.9125 - val_loss: 0.3958 - val_accuracy: 0.8500\n"
     ]
    }
   ],
   "source": [
    "H = model.fit(x_train, y_train, validation_data=(x_test, y_test), \n",
    "          epochs=max_epochs, batch_size=32)"
   ]
  },
  {
   "cell_type": "code",
   "execution_count": 15,
   "id": "9d240982",
   "metadata": {},
   "outputs": [
    {
     "data": {
      "image/png": "[encoded data removed]",
      "text/plain": [
       "<Figure size 432x288 with 1 Axes>"
      ]
     },
     "metadata": {},
     "output_type": "display_data"
    }
   ],
   "source": [
    "N = np.arange(0, max_epochs)\n",
    "plt.style.use(\"ggplot\")\n",
    "plt.figure()\n",
    "plt.plot(N, H.history[\"loss\"], label=\"train_loss\")\n",
    "plt.plot(N, H.history[\"val_loss\"], label=\"val_loss\")\n",
    "#plt.plot(N, H.history[\"accuracy\"], label=\"train_acc\")\n",
    "#plt.plot(N, H.history[\"val_accuracy\"], label=\"val_acc\")\n",
    "plt.xlabel(\"Epoch #\")\n",
    "plt.legend()\n",
    "plt.show()"
   ]
  },
  {
   "cell_type": "markdown",
   "id": "ff01631e",
   "metadata": {},
   "source": [
    "# 7. Evaluate the Model"
   ]
  },
  {
   "cell_type": "code",
   "execution_count": 16,
   "id": "2aa43474",
   "metadata": {},
   "outputs": [
    {
     "name": "stdout",
     "output_type": "stream",
     "text": [
      "              precision    recall  f1-score   support\n",
      "\n",
      "       NIPIS       1.00      0.75      0.86        12\n",
      "       SIRIH       0.73      1.00      0.84         8\n",
      "\n",
      "    accuracy                           0.85        20\n",
      "   macro avg       0.86      0.88      0.85        20\n",
      "weighted avg       0.89      0.85      0.85        20\n",
      "\n"
     ]
    },
    {
     "name": "stderr",
     "output_type": "stream",
     "text": [
      "C:\\Users\\ASUS\\AppData\\Local\\Temp/ipykernel_6188/954476436.py:3: DeprecationWarning: `np.int` is a deprecated alias for the builtin `int`. To silence this warning, use `int` by itself. Doing this will not modify any behavior and is safe. When replacing `np.int`, you may wish to use e.g. `np.int64` or `np.int32` to specify the precision. If you wish to review your current use, check the release note link for additional information.\n",
      "Deprecated in NumPy 1.20; for more details and guidance: https://numpy.org/devdocs/release/1.20.0-notes.html#deprecations\n",
      "  target = (predictions > 0.5).astype(np.int)\n"
     ]
    }
   ],
   "source": [
    "# menghitung nilai akurasi model terhadap data test\n",
    "predictions = model.predict(x_test, batch_size=32)\n",
    "target = (predictions > 0.5).astype(np.int)\n",
    "print(classification_report(y_test, target, target_names=label_list))"
   ]
  },
  {
   "cell_type": "code",
   "execution_count": 17,
   "id": "1794b44e",
   "metadata": {},
   "outputs": [
    {
     "name": "stdout",
     "output_type": "stream",
     "text": [
      "[[0.9287485]]\n"
     ]
    }
   ],
   "source": [
    "# uji model menggunakan image lain\n",
    "queryPath = imagePaths+'query_sirih.jpg'\n",
    "query = cv2.imread(queryPath)\n",
    "output = query.copy()\n",
    "query = cv2.resize(query, (32, 32))\n",
    "q = []\n",
    "q.append(query)\n",
    "q = np.array(q, dtype='float') / 255.0\n",
    "\n",
    "q_pred = model.predict(q)\n",
    "print(q_pred)"
   ]
  },
  {
   "cell_type": "code",
   "execution_count": 18,
   "id": "99cf1ff5",
   "metadata": {},
   "outputs": [
    {
     "ename": "error",
     "evalue": "OpenCV(4.5.4) D:\\a\\opencv-python\\opencv-python\\opencv\\modules\\highgui\\src\\window_w32.cpp:1261: error: (-27:Null pointer) NULL window: 'Output' in function 'cvDestroyWindow'\n",
     "output_type": "error",
     "traceback": [
      "\u001b[1;31m---------------------------------------------------------------------------\u001b[0m",
      "\u001b[1;31merror\u001b[0m                                     Traceback (most recent call last)",
      "\u001b[1;32m~\\AppData\\Local\\Temp/ipykernel_6188/2083164285.py\u001b[0m in \u001b[0;36m<module>\u001b[1;34m\u001b[0m\n\u001b[0;32m      9\u001b[0m \u001b[0mcv2\u001b[0m\u001b[1;33m.\u001b[0m\u001b[0mimshow\u001b[0m\u001b[1;33m(\u001b[0m\u001b[1;34m'Output'\u001b[0m\u001b[1;33m,\u001b[0m \u001b[0moutput\u001b[0m\u001b[1;33m)\u001b[0m\u001b[1;33m\u001b[0m\u001b[1;33m\u001b[0m\u001b[0m\n\u001b[0;32m     10\u001b[0m \u001b[0mcv2\u001b[0m\u001b[1;33m.\u001b[0m\u001b[0mwaitKey\u001b[0m\u001b[1;33m(\u001b[0m\u001b[1;33m)\u001b[0m \u001b[1;31m# image tidak akan diclose,sebelum user menekan sembarang tombol\u001b[0m\u001b[1;33m\u001b[0m\u001b[1;33m\u001b[0m\u001b[0m\n\u001b[1;32m---> 11\u001b[1;33m \u001b[0mcv2\u001b[0m\u001b[1;33m.\u001b[0m\u001b[0mdestroyWindow\u001b[0m\u001b[1;33m(\u001b[0m\u001b[1;34m'Output'\u001b[0m\u001b[1;33m)\u001b[0m \u001b[1;31m# image akan diclose\u001b[0m\u001b[1;33m\u001b[0m\u001b[1;33m\u001b[0m\u001b[0m\n\u001b[0m",
      "\u001b[1;31merror\u001b[0m: OpenCV(4.5.4) D:\\a\\opencv-python\\opencv-python\\opencv\\modules\\highgui\\src\\window_w32.cpp:1261: error: (-27:Null pointer) NULL window: 'Output' in function 'cvDestroyWindow'\n"
     ]
    }
   ],
   "source": [
    "if q_pred<=0.5 :\n",
    "    target = \"Jeruk Nipis\"\n",
    "else :\n",
    "    target = \"Sirih\"\n",
    "text = \"{}\".format(target)\n",
    "cv2.putText(output, text, (10, 30), cv2.FONT_HERSHEY_SIMPLEX, 0.7, (0, 0, 255), 2)\n",
    " \n",
    "# menampilkan output image\n",
    "cv2.imshow('Output', output)\n",
    "cv2.waitKey() # image tidak akan diclose,sebelum user menekan sembarang tombol\n",
    "cv2.destroyWindow('Output') # image akan diclose"
   ]
  },
  {
   "cell_type": "code",
   "execution_count": null,
   "id": "2834b4ed",
   "metadata": {},
   "outputs": [],
   "source": []
  }
 ],
 "metadata": {
  "kernelspec": {
   "display_name": "Python 3 (ipykernel)",
   "language": "python",
   "name": "python3"
  },
  "language_info": {
   "codemirror_mode": {
    "name": "ipython",
    "version": 3
   },
   "file_extension": ".py",
   "mimetype": "text/x-python",
   "name": "python",
   "nbconvert_exporter": "python",
   "pygments_lexer": "ipython3",
   "version": "3.8.2"
  }
 },
 "nbformat": 4,
 "nbformat_minor": 5
}
