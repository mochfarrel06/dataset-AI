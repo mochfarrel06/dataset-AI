{
 "cells": [
  {
   "cell_type": "markdown",
   "id": "6f2c852c",
   "metadata": {},
   "source": [
    "# 1. Import module yang dibutuhkan"
   ]
  },
  {
   "cell_type": "code",
   "execution_count": 19,
   "id": "d1863771",
   "metadata": {},
   "outputs": [],
   "source": [
    "from sklearn.model_selection import train_test_split\n",
    "from sklearn.preprocessing import LabelEncoder\n",
    "from sklearn.metrics import classification_report\n",
    "from tensorflow.keras.models import Sequential\n",
    "from tensorflow.keras.layers import Flatten, Dense\n",
    "from tensorflow.keras.optimizers import SGD\n",
    "import numpy as np\n",
    "import cv2\n",
    "import glob\n",
    "import matplotlib.pyplot as plt"
   ]
  },
  {
   "cell_type": "markdown",
   "id": "b6686338",
   "metadata": {},
   "source": [
    "# 2. Load Dataset"
   ]
  },
  {
   "cell_type": "code",
   "execution_count": 20,
   "id": "c8e7096f",
   "metadata": {},
   "outputs": [],
   "source": [
    "imagePaths = 'Dataset\\\\'\n",
    "label_list = ['NIPIS', 'SIRIH']\n",
    "data = []\n",
    "labels = []"
   ]
  },
  {
   "cell_type": "code",
   "execution_count": 21,
   "id": "4dda8f97",
   "metadata": {},
   "outputs": [],
   "source": [
    "for label in label_list:\n",
    "    for imagePath in glob.glob(imagePaths+label+'\\\\*.jpg'):\n",
    "        #print(imagePath)\n",
    "        image = cv2.imread(imagePath)\n",
    "        image = cv2.resize(image, (32, 32))\n",
    "        data.append(image)\n",
    "        labels.append(label)"
   ]
  },
  {
   "cell_type": "code",
   "execution_count": 22,
   "id": "5b119dea",
   "metadata": {},
   "outputs": [
    {
     "data": {
      "text/plain": [
       "(100, 32, 32, 3)"
      ]
     },
     "execution_count": 22,
     "metadata": {},
     "output_type": "execute_result"
    }
   ],
   "source": [
    "np.array(data).shape"
   ]
  },
  {
   "cell_type": "markdown",
   "id": "c785bba1",
   "metadata": {},
   "source": [
    "# 3. Data Preprocessing"
   ]
  },
  {
   "cell_type": "code",
   "execution_count": 23,
   "id": "88a0dbff",
   "metadata": {},
   "outputs": [],
   "source": [
    "# ubah type data dari list menjadi array\n",
    "# ubah nilai dari tiap pixel menjadi range [0..1]\n",
    "data = np.array(data, dtype='float') / 255.0\n",
    "labels = np.array(labels)"
   ]
  },
  {
   "cell_type": "code",
   "execution_count": 24,
   "id": "f820cc59",
   "metadata": {},
   "outputs": [
    {
     "name": "stdout",
     "output_type": "stream",
     "text": [
      "['NIPIS' 'NIPIS' 'NIPIS' 'NIPIS' 'NIPIS' 'NIPIS' 'NIPIS' 'NIPIS' 'NIPIS'\n",
      " 'NIPIS' 'NIPIS' 'NIPIS' 'NIPIS' 'NIPIS' 'NIPIS' 'NIPIS' 'NIPIS' 'NIPIS'\n",
      " 'NIPIS' 'NIPIS' 'NIPIS' 'NIPIS' 'NIPIS' 'NIPIS' 'NIPIS' 'NIPIS' 'NIPIS'\n",
      " 'NIPIS' 'NIPIS' 'NIPIS' 'NIPIS' 'NIPIS' 'NIPIS' 'NIPIS' 'NIPIS' 'NIPIS'\n",
      " 'NIPIS' 'NIPIS' 'NIPIS' 'NIPIS' 'NIPIS' 'NIPIS' 'NIPIS' 'NIPIS' 'NIPIS'\n",
      " 'NIPIS' 'NIPIS' 'NIPIS' 'NIPIS' 'NIPIS' 'SIRIH' 'SIRIH' 'SIRIH' 'SIRIH'\n",
      " 'SIRIH' 'SIRIH' 'SIRIH' 'SIRIH' 'SIRIH' 'SIRIH' 'SIRIH' 'SIRIH' 'SIRIH'\n",
      " 'SIRIH' 'SIRIH' 'SIRIH' 'SIRIH' 'SIRIH' 'SIRIH' 'SIRIH' 'SIRIH' 'SIRIH'\n",
      " 'SIRIH' 'SIRIH' 'SIRIH' 'SIRIH' 'SIRIH' 'SIRIH' 'SIRIH' 'SIRIH' 'SIRIH'\n",
      " 'SIRIH' 'SIRIH' 'SIRIH' 'SIRIH' 'SIRIH' 'SIRIH' 'SIRIH' 'SIRIH' 'SIRIH'\n",
      " 'SIRIH' 'SIRIH' 'SIRIH' 'SIRIH' 'SIRIH' 'SIRIH' 'SIRIH' 'SIRIH' 'SIRIH'\n",
      " 'SIRIH']\n"
     ]
    }
   ],
   "source": [
    "print(labels)"
   ]
  },
  {
   "cell_type": "code",
   "execution_count": 25,
   "id": "0fc69c4c",
   "metadata": {},
   "outputs": [
    {
     "name": "stdout",
     "output_type": "stream",
     "text": [
      "[0 0 0 0 0 0 0 0 0 0 0 0 0 0 0 0 0 0 0 0 0 0 0 0 0 0 0 0 0 0 0 0 0 0 0 0 0\n",
      " 0 0 0 0 0 0 0 0 0 0 0 0 0 1 1 1 1 1 1 1 1 1 1 1 1 1 1 1 1 1 1 1 1 1 1 1 1\n",
      " 1 1 1 1 1 1 1 1 1 1 1 1 1 1 1 1 1 1 1 1 1 1 1 1 1 1]\n"
     ]
    }
   ],
   "source": [
    "# ubah nilai dari labels menjadi binary\n",
    "lb = LabelEncoder()\n",
    "labels = lb.fit_transform(labels)\n",
    "print(labels)"
   ]
  },
  {
   "cell_type": "markdown",
   "id": "7faa72d8",
   "metadata": {},
   "source": [
    "# 4. Split Dataset"
   ]
  },
  {
   "cell_type": "code",
   "execution_count": 26,
   "id": "ccfbe9d9",
   "metadata": {},
   "outputs": [],
   "source": [
    "x_train, x_test, y_train, y_test = train_test_split(data, labels, test_size=0.2, random_state=42)"
   ]
  },
  {
   "cell_type": "code",
   "execution_count": 27,
   "id": "55dc0134",
   "metadata": {},
   "outputs": [
    {
     "name": "stdout",
     "output_type": "stream",
     "text": [
      "Ukuran data train = (80, 32, 32, 3)\n",
      "Ukuran data test = (20, 32, 32, 3)\n"
     ]
    }
   ],
   "source": [
    "print('Ukuran data train =', x_train.shape)\n",
    "print('Ukuran data test =', x_test.shape)"
   ]
  },
  {
   "cell_type": "markdown",
   "id": "e0e292d6",
   "metadata": {},
   "source": [
    "# 5. Build ANN Architecture"
   ]
  },
  {
   "cell_type": "code",
   "execution_count": 28,
   "id": "912c3044",
   "metadata": {},
   "outputs": [],
   "source": [
    "model = Sequential()\n",
    "model.add(Flatten(input_shape=(32,32,3)))\n",
    "model.add(Dense(1024, activation=\"relu\"))\n",
    "model.add(Dense(1024, activation=\"relu\"))\n",
    "model.add(Dense(1, activation=\"sigmoid\"))"
   ]
  },
  {
   "cell_type": "code",
   "execution_count": 29,
   "id": "11d49093",
   "metadata": {},
   "outputs": [
    {
     "name": "stdout",
     "output_type": "stream",
     "text": [
      "Model: \"sequential_1\"\n",
      "_________________________________________________________________\n",
      " Layer (type)                Output Shape              Param #   \n",
      "=================================================================\n",
      " flatten_1 (Flatten)         (None, 3072)              0         \n",
      "                                                                 \n",
      " dense_3 (Dense)             (None, 1024)              3146752   \n",
      "                                                                 \n",
      " dense_4 (Dense)             (None, 1024)              1049600   \n",
      "                                                                 \n",
      " dense_5 (Dense)             (None, 1)                 1025      \n",
      "                                                                 \n",
      "=================================================================\n",
      "Total params: 4,197,377\n",
      "Trainable params: 4,197,377\n",
      "Non-trainable params: 0\n",
      "_________________________________________________________________\n"
     ]
    }
   ],
   "source": [
    "model.summary()"
   ]
  },
  {
   "cell_type": "code",
   "execution_count": 30,
   "id": "ac43d770",
   "metadata": {},
   "outputs": [],
   "source": [
    "# tentukan hyperparameter\n",
    "lr = 0.01\n",
    "max_epochs = 100\n",
    "opt_funct = SGD(learning_rate=lr)"
   ]
  },
  {
   "cell_type": "code",
   "execution_count": 31,
   "id": "92f79ded",
   "metadata": {},
   "outputs": [],
   "source": [
    "# compile arsitektur yang telah dibuat\n",
    "model.compile(loss = 'binary_crossentropy', \n",
    "              optimizer = opt_funct, \n",
    "              metrics = ['accuracy'])"
   ]
  },
  {
   "cell_type": "markdown",
   "id": "d2af934e",
   "metadata": {},
   "source": [
    "# 6. Train Model"
   ]
  },
  {
   "cell_type": "code",
   "execution_count": 32,
   "id": "d4e72d39",
   "metadata": {},
   "outputs": [
    {
     "name": "stdout",
     "output_type": "stream",
     "text": [
      "Epoch 1/100\n",
      "3/3 [==============================] - 0s 73ms/step - loss: 1.4164 - accuracy: 0.4375 - val_loss: 0.6929 - val_accuracy: 0.6000\n",
      "Epoch 2/100\n",
      "3/3 [==============================] - 0s 32ms/step - loss: 0.8193 - accuracy: 0.5500 - val_loss: 1.0591 - val_accuracy: 0.4000\n",
      "Epoch 3/100\n",
      "3/3 [==============================] - 0s 32ms/step - loss: 0.6219 - accuracy: 0.6000 - val_loss: 0.7856 - val_accuracy: 0.4000\n",
      "Epoch 4/100\n",
      "3/3 [==============================] - 0s 33ms/step - loss: 0.7255 - accuracy: 0.5000 - val_loss: 1.2539 - val_accuracy: 0.6000\n",
      "Epoch 5/100\n",
      "3/3 [==============================] - 0s 32ms/step - loss: 1.2198 - accuracy: 0.5000 - val_loss: 0.6601 - val_accuracy: 0.6000\n",
      "Epoch 6/100\n",
      "3/3 [==============================] - 0s 32ms/step - loss: 0.5868 - accuracy: 0.6500 - val_loss: 0.6272 - val_accuracy: 0.6500\n",
      "Epoch 7/100\n",
      "3/3 [==============================] - 0s 36ms/step - loss: 0.5815 - accuracy: 0.7375 - val_loss: 0.9192 - val_accuracy: 0.4000\n",
      "Epoch 8/100\n",
      "3/3 [==============================] - 0s 34ms/step - loss: 0.5828 - accuracy: 0.7000 - val_loss: 0.7262 - val_accuracy: 0.6000\n",
      "Epoch 9/100\n",
      "3/3 [==============================] - 0s 34ms/step - loss: 0.9498 - accuracy: 0.4500 - val_loss: 1.0258 - val_accuracy: 0.4000\n",
      "Epoch 10/100\n",
      "3/3 [==============================] - 0s 34ms/step - loss: 0.6050 - accuracy: 0.7750 - val_loss: 0.5789 - val_accuracy: 0.8000\n",
      "Epoch 11/100\n",
      "3/3 [==============================] - 0s 34ms/step - loss: 0.5257 - accuracy: 0.8500 - val_loss: 0.5674 - val_accuracy: 0.9000\n",
      "Epoch 12/100\n",
      "3/3 [==============================] - 0s 34ms/step - loss: 0.5067 - accuracy: 0.8375 - val_loss: 0.5798 - val_accuracy: 0.6000\n",
      "Epoch 13/100\n",
      "3/3 [==============================] - 0s 33ms/step - loss: 0.6570 - accuracy: 0.5250 - val_loss: 1.2661 - val_accuracy: 0.4000\n",
      "Epoch 14/100\n",
      "3/3 [==============================] - 0s 34ms/step - loss: 0.6082 - accuracy: 0.8125 - val_loss: 0.5835 - val_accuracy: 0.6500\n",
      "Epoch 15/100\n",
      "3/3 [==============================] - 0s 32ms/step - loss: 0.4867 - accuracy: 0.9000 - val_loss: 0.8012 - val_accuracy: 0.4500\n",
      "Epoch 16/100\n",
      "3/3 [==============================] - 0s 37ms/step - loss: 0.6481 - accuracy: 0.5250 - val_loss: 0.5508 - val_accuracy: 0.6500\n",
      "Epoch 17/100\n",
      "3/3 [==============================] - 0s 33ms/step - loss: 0.5682 - accuracy: 0.6625 - val_loss: 1.0261 - val_accuracy: 0.4000\n",
      "Epoch 18/100\n",
      "3/3 [==============================] - 0s 34ms/step - loss: 0.8132 - accuracy: 0.4750 - val_loss: 0.5929 - val_accuracy: 0.7000\n",
      "Epoch 19/100\n",
      "3/3 [==============================] - 0s 32ms/step - loss: 0.5133 - accuracy: 0.8500 - val_loss: 0.6525 - val_accuracy: 0.6000\n",
      "Epoch 20/100\n",
      "3/3 [==============================] - 0s 34ms/step - loss: 0.6393 - accuracy: 0.5250 - val_loss: 0.7067 - val_accuracy: 0.5500\n",
      "Epoch 21/100\n",
      "3/3 [==============================] - 0s 33ms/step - loss: 0.5567 - accuracy: 0.5750 - val_loss: 0.5267 - val_accuracy: 0.8000\n",
      "Epoch 22/100\n",
      "3/3 [==============================] - 0s 36ms/step - loss: 0.4575 - accuracy: 0.8750 - val_loss: 0.5152 - val_accuracy: 0.8000\n",
      "Epoch 23/100\n",
      "3/3 [==============================] - 0s 37ms/step - loss: 0.4289 - accuracy: 0.8750 - val_loss: 0.5075 - val_accuracy: 0.8000\n",
      "Epoch 24/100\n",
      "3/3 [==============================] - 0s 39ms/step - loss: 0.4264 - accuracy: 0.9000 - val_loss: 0.5303 - val_accuracy: 0.6000\n",
      "Epoch 25/100\n",
      "3/3 [==============================] - 0s 34ms/step - loss: 0.4252 - accuracy: 0.7875 - val_loss: 0.5946 - val_accuracy: 0.6000\n",
      "Epoch 26/100\n",
      "3/3 [==============================] - 0s 36ms/step - loss: 0.5247 - accuracy: 0.6625 - val_loss: 0.5741 - val_accuracy: 0.6000\n",
      "Epoch 27/100\n",
      "3/3 [==============================] - 0s 39ms/step - loss: 0.4842 - accuracy: 0.6750 - val_loss: 0.5717 - val_accuracy: 0.7000\n",
      "Epoch 28/100\n",
      "3/3 [==============================] - 0s 33ms/step - loss: 0.4726 - accuracy: 0.7750 - val_loss: 0.4891 - val_accuracy: 0.8500\n",
      "Epoch 29/100\n",
      "3/3 [==============================] - 0s 33ms/step - loss: 0.6995 - accuracy: 0.6250 - val_loss: 1.3141 - val_accuracy: 0.4000\n",
      "Epoch 30/100\n",
      "3/3 [==============================] - 0s 35ms/step - loss: 0.5810 - accuracy: 0.7750 - val_loss: 0.5029 - val_accuracy: 0.7000\n",
      "Epoch 31/100\n",
      "3/3 [==============================] - 0s 35ms/step - loss: 0.4136 - accuracy: 0.9250 - val_loss: 0.4963 - val_accuracy: 0.7000\n",
      "Epoch 32/100\n",
      "3/3 [==============================] - 0s 34ms/step - loss: 0.4306 - accuracy: 0.8375 - val_loss: 0.4894 - val_accuracy: 0.7000\n",
      "Epoch 33/100\n",
      "3/3 [==============================] - 0s 35ms/step - loss: 0.4421 - accuracy: 0.8125 - val_loss: 0.5118 - val_accuracy: 0.7000\n",
      "Epoch 34/100\n",
      "3/3 [==============================] - 0s 37ms/step - loss: 0.3627 - accuracy: 0.9000 - val_loss: 0.4641 - val_accuracy: 0.9000\n",
      "Epoch 35/100\n",
      "3/3 [==============================] - 0s 40ms/step - loss: 0.3569 - accuracy: 0.9250 - val_loss: 0.5168 - val_accuracy: 0.6500\n",
      "Epoch 36/100\n",
      "3/3 [==============================] - 0s 38ms/step - loss: 0.7925 - accuracy: 0.5750 - val_loss: 1.2982 - val_accuracy: 0.4000\n",
      "Epoch 37/100\n",
      "3/3 [==============================] - 0s 38ms/step - loss: 0.6578 - accuracy: 0.6875 - val_loss: 0.4902 - val_accuracy: 0.7500\n",
      "Epoch 38/100\n",
      "3/3 [==============================] - 0s 46ms/step - loss: 0.3931 - accuracy: 0.9125 - val_loss: 0.4790 - val_accuracy: 0.7000\n",
      "Epoch 39/100\n",
      "3/3 [==============================] - 0s 37ms/step - loss: 0.3751 - accuracy: 0.9250 - val_loss: 0.4532 - val_accuracy: 0.8500\n",
      "Epoch 40/100\n",
      "3/3 [==============================] - 0s 41ms/step - loss: 0.3453 - accuracy: 0.9000 - val_loss: 0.5900 - val_accuracy: 0.6000\n",
      "Epoch 41/100\n",
      "3/3 [==============================] - 0s 47ms/step - loss: 0.5417 - accuracy: 0.5875 - val_loss: 0.7260 - val_accuracy: 0.5500\n",
      "Epoch 42/100\n",
      "3/3 [==============================] - 0s 49ms/step - loss: 0.6324 - accuracy: 0.6000 - val_loss: 0.5505 - val_accuracy: 0.6000\n",
      "Epoch 43/100\n",
      "3/3 [==============================] - 0s 46ms/step - loss: 0.3709 - accuracy: 0.8625 - val_loss: 0.6964 - val_accuracy: 0.5500\n",
      "Epoch 44/100\n",
      "3/3 [==============================] - 0s 39ms/step - loss: 0.4860 - accuracy: 0.7125 - val_loss: 0.4485 - val_accuracy: 0.8500\n",
      "Epoch 45/100\n",
      "3/3 [==============================] - 0s 38ms/step - loss: 0.3419 - accuracy: 0.9250 - val_loss: 0.6674 - val_accuracy: 0.6000\n",
      "Epoch 46/100\n",
      "3/3 [==============================] - 0s 41ms/step - loss: 0.4545 - accuracy: 0.7250 - val_loss: 0.4477 - val_accuracy: 0.8500\n",
      "Epoch 47/100\n",
      "3/3 [==============================] - 0s 38ms/step - loss: 0.3404 - accuracy: 0.9125 - val_loss: 1.1217 - val_accuracy: 0.4500\n",
      "Epoch 48/100\n",
      "3/3 [==============================] - 0s 42ms/step - loss: 0.5055 - accuracy: 0.7500 - val_loss: 0.4789 - val_accuracy: 0.7000\n",
      "Epoch 49/100\n",
      "3/3 [==============================] - 0s 36ms/step - loss: 0.4181 - accuracy: 0.8000 - val_loss: 0.4650 - val_accuracy: 0.7000\n",
      "Epoch 50/100\n",
      "3/3 [==============================] - 0s 36ms/step - loss: 0.3760 - accuracy: 0.8625 - val_loss: 0.9825 - val_accuracy: 0.4500\n",
      "Epoch 51/100\n",
      "3/3 [==============================] - 0s 35ms/step - loss: 0.4547 - accuracy: 0.8125 - val_loss: 0.4292 - val_accuracy: 0.8500\n",
      "Epoch 52/100\n",
      "3/3 [==============================] - 0s 41ms/step - loss: 0.3322 - accuracy: 0.9125 - val_loss: 0.4331 - val_accuracy: 0.7500\n",
      "Epoch 53/100\n",
      "3/3 [==============================] - 0s 40ms/step - loss: 0.2893 - accuracy: 0.9250 - val_loss: 0.6509 - val_accuracy: 0.6000\n",
      "Epoch 54/100\n",
      "3/3 [==============================] - 0s 41ms/step - loss: 0.5072 - accuracy: 0.7250 - val_loss: 0.5104 - val_accuracy: 0.6500\n",
      "Epoch 55/100\n",
      "3/3 [==============================] - 0s 39ms/step - loss: 0.3387 - accuracy: 0.8375 - val_loss: 0.4215 - val_accuracy: 0.8500\n",
      "Epoch 56/100\n",
      "3/3 [==============================] - 0s 44ms/step - loss: 0.3423 - accuracy: 0.8625 - val_loss: 0.9192 - val_accuracy: 0.5000\n",
      "Epoch 57/100\n",
      "3/3 [==============================] - 0s 55ms/step - loss: 0.4005 - accuracy: 0.8375 - val_loss: 0.4287 - val_accuracy: 0.7500\n",
      "Epoch 58/100\n",
      "3/3 [==============================] - 0s 40ms/step - loss: 0.2966 - accuracy: 0.9250 - val_loss: 0.4162 - val_accuracy: 0.9000\n",
      "Epoch 59/100\n"
     ]
    },
    {
     "name": "stdout",
     "output_type": "stream",
     "text": [
      "3/3 [==============================] - 0s 33ms/step - loss: 0.3328 - accuracy: 0.9000 - val_loss: 0.5502 - val_accuracy: 0.7000\n",
      "Epoch 60/100\n",
      "3/3 [==============================] - 0s 30ms/step - loss: 0.4210 - accuracy: 0.7500 - val_loss: 0.4189 - val_accuracy: 0.8500\n",
      "Epoch 61/100\n",
      "3/3 [==============================] - 0s 38ms/step - loss: 0.2795 - accuracy: 0.9375 - val_loss: 0.4555 - val_accuracy: 0.7500\n",
      "Epoch 62/100\n",
      "3/3 [==============================] - 0s 38ms/step - loss: 0.2783 - accuracy: 0.9000 - val_loss: 0.4166 - val_accuracy: 0.9000\n",
      "Epoch 63/100\n",
      "3/3 [==============================] - 0s 34ms/step - loss: 0.3429 - accuracy: 0.8625 - val_loss: 0.5278 - val_accuracy: 0.7500\n",
      "Epoch 64/100\n",
      "3/3 [==============================] - 0s 37ms/step - loss: 0.3586 - accuracy: 0.8875 - val_loss: 0.6479 - val_accuracy: 0.6000\n",
      "Epoch 65/100\n",
      "3/3 [==============================] - 0s 35ms/step - loss: 0.8283 - accuracy: 0.5250 - val_loss: 0.5010 - val_accuracy: 0.7500\n",
      "Epoch 66/100\n",
      "3/3 [==============================] - 0s 35ms/step - loss: 0.2841 - accuracy: 0.9250 - val_loss: 0.3959 - val_accuracy: 0.8500\n",
      "Epoch 67/100\n",
      "3/3 [==============================] - 0s 38ms/step - loss: 0.2851 - accuracy: 0.9375 - val_loss: 0.7119 - val_accuracy: 0.6000\n",
      "Epoch 68/100\n",
      "3/3 [==============================] - 0s 34ms/step - loss: 0.2884 - accuracy: 0.8750 - val_loss: 0.4013 - val_accuracy: 0.8000\n",
      "Epoch 69/100\n",
      "3/3 [==============================] - 0s 35ms/step - loss: 0.2440 - accuracy: 0.9500 - val_loss: 0.3869 - val_accuracy: 0.8000\n",
      "Epoch 70/100\n",
      "3/3 [==============================] - 0s 36ms/step - loss: 0.2349 - accuracy: 0.9125 - val_loss: 0.4212 - val_accuracy: 0.7500\n",
      "Epoch 71/100\n",
      "3/3 [==============================] - 0s 39ms/step - loss: 0.2349 - accuracy: 0.9375 - val_loss: 0.4297 - val_accuracy: 0.8000\n",
      "Epoch 72/100\n",
      "3/3 [==============================] - 0s 33ms/step - loss: 0.3183 - accuracy: 0.8500 - val_loss: 0.3698 - val_accuracy: 0.8500\n",
      "Epoch 73/100\n",
      "3/3 [==============================] - 0s 31ms/step - loss: 0.4052 - accuracy: 0.7750 - val_loss: 1.8142 - val_accuracy: 0.4500\n",
      "Epoch 74/100\n",
      "3/3 [==============================] - 0s 34ms/step - loss: 0.7057 - accuracy: 0.7500 - val_loss: 0.4741 - val_accuracy: 0.7500\n",
      "Epoch 75/100\n",
      "3/3 [==============================] - 0s 35ms/step - loss: 0.3006 - accuracy: 0.9125 - val_loss: 0.4660 - val_accuracy: 0.7500\n",
      "Epoch 76/100\n",
      "3/3 [==============================] - 0s 33ms/step - loss: 0.3627 - accuracy: 0.8625 - val_loss: 0.4484 - val_accuracy: 0.7500\n",
      "Epoch 77/100\n",
      "3/3 [==============================] - 0s 30ms/step - loss: 0.4938 - accuracy: 0.7375 - val_loss: 0.4503 - val_accuracy: 0.8000\n",
      "Epoch 78/100\n",
      "3/3 [==============================] - 0s 30ms/step - loss: 0.2435 - accuracy: 0.9500 - val_loss: 0.3661 - val_accuracy: 0.8500\n",
      "Epoch 79/100\n",
      "3/3 [==============================] - 0s 28ms/step - loss: 0.2412 - accuracy: 0.9375 - val_loss: 0.3829 - val_accuracy: 0.8000\n",
      "Epoch 80/100\n",
      "3/3 [==============================] - 0s 35ms/step - loss: 0.2237 - accuracy: 0.9375 - val_loss: 0.3962 - val_accuracy: 0.9000\n",
      "Epoch 81/100\n",
      "3/3 [==============================] - 0s 34ms/step - loss: 0.3628 - accuracy: 0.8375 - val_loss: 1.2070 - val_accuracy: 0.5000\n",
      "Epoch 82/100\n",
      "3/3 [==============================] - 0s 32ms/step - loss: 0.8875 - accuracy: 0.5125 - val_loss: 0.4288 - val_accuracy: 0.8000\n",
      "Epoch 83/100\n",
      "3/3 [==============================] - 0s 33ms/step - loss: 0.2747 - accuracy: 0.9375 - val_loss: 0.3934 - val_accuracy: 0.8500\n",
      "Epoch 84/100\n",
      "3/3 [==============================] - 0s 37ms/step - loss: 0.2400 - accuracy: 0.9250 - val_loss: 0.4206 - val_accuracy: 0.8500\n",
      "Epoch 85/100\n",
      "3/3 [==============================] - 0s 33ms/step - loss: 0.3388 - accuracy: 0.9000 - val_loss: 0.6845 - val_accuracy: 0.6000\n",
      "Epoch 86/100\n",
      "3/3 [==============================] - 0s 34ms/step - loss: 0.5930 - accuracy: 0.6500 - val_loss: 0.4139 - val_accuracy: 0.8000\n",
      "Epoch 87/100\n",
      "3/3 [==============================] - 0s 33ms/step - loss: 0.2740 - accuracy: 0.9375 - val_loss: 0.4776 - val_accuracy: 0.7500\n",
      "Epoch 88/100\n",
      "3/3 [==============================] - 0s 28ms/step - loss: 0.2442 - accuracy: 0.9250 - val_loss: 0.3693 - val_accuracy: 0.8500\n",
      "Epoch 89/100\n",
      "3/3 [==============================] - 0s 29ms/step - loss: 0.2390 - accuracy: 0.9250 - val_loss: 0.7654 - val_accuracy: 0.6000\n",
      "Epoch 90/100\n",
      "3/3 [==============================] - 0s 29ms/step - loss: 0.5319 - accuracy: 0.6875 - val_loss: 0.5880 - val_accuracy: 0.6000\n",
      "Epoch 91/100\n",
      "3/3 [==============================] - 0s 30ms/step - loss: 0.4603 - accuracy: 0.7500 - val_loss: 0.4520 - val_accuracy: 0.8000\n",
      "Epoch 92/100\n",
      "3/3 [==============================] - 0s 31ms/step - loss: 0.3013 - accuracy: 0.8750 - val_loss: 0.3774 - val_accuracy: 0.8500\n",
      "Epoch 93/100\n",
      "3/3 [==============================] - 0s 34ms/step - loss: 0.2530 - accuracy: 0.9250 - val_loss: 0.5522 - val_accuracy: 0.7500\n",
      "Epoch 94/100\n",
      "3/3 [==============================] - 0s 35ms/step - loss: 0.2412 - accuracy: 0.9000 - val_loss: 0.4908 - val_accuracy: 0.7500\n",
      "Epoch 95/100\n",
      "3/3 [==============================] - 0s 34ms/step - loss: 0.2118 - accuracy: 0.9625 - val_loss: 0.3560 - val_accuracy: 0.8500\n",
      "Epoch 96/100\n",
      "3/3 [==============================] - 0s 39ms/step - loss: 0.1963 - accuracy: 0.9500 - val_loss: 0.3548 - val_accuracy: 0.8500\n",
      "Epoch 97/100\n",
      "3/3 [==============================] - 0s 34ms/step - loss: 0.1915 - accuracy: 0.9375 - val_loss: 0.5332 - val_accuracy: 0.7500\n",
      "Epoch 98/100\n",
      "3/3 [==============================] - 0s 33ms/step - loss: 0.3278 - accuracy: 0.8500 - val_loss: 0.4006 - val_accuracy: 0.9000\n",
      "Epoch 99/100\n",
      "3/3 [==============================] - 0s 32ms/step - loss: 0.2810 - accuracy: 0.9250 - val_loss: 0.9834 - val_accuracy: 0.5000\n",
      "Epoch 100/100\n",
      "3/3 [==============================] - 0s 30ms/step - loss: 0.4566 - accuracy: 0.7625 - val_loss: 0.4504 - val_accuracy: 0.8500\n"
     ]
    }
   ],
   "source": [
    "H = model.fit(x_train, y_train, validation_data=(x_test, y_test), \n",
    "          epochs=max_epochs, batch_size=32)"
   ]
  },
  {
   "cell_type": "code",
   "execution_count": 33,
   "id": "9d240982",
   "metadata": {},
   "outputs": [
    {
     "data": {
      "image/png": "[encoded data removed]",
      "text/plain": [
       "<Figure size 432x288 with 1 Axes>"
      ]
     },
     "metadata": {},
     "output_type": "display_data"
    }
   ],
   "source": [
    "N = np.arange(0, max_epochs)\n",
    "plt.style.use(\"ggplot\")\n",
    "plt.figure()\n",
    "plt.plot(N, H.history[\"loss\"], label=\"train_loss\")\n",
    "plt.plot(N, H.history[\"val_loss\"], label=\"val_loss\")\n",
    "#plt.plot(N, H.history[\"accuracy\"], label=\"train_acc\")\n",
    "#plt.plot(N, H.history[\"val_accuracy\"], label=\"val_acc\")\n",
    "plt.xlabel(\"Epoch #\")\n",
    "plt.legend()\n",
    "plt.show()"
   ]
  },
  {
   "cell_type": "markdown",
   "id": "ff01631e",
   "metadata": {},
   "source": [
    "# 7. Evaluate the Model"
   ]
  },
  {
   "cell_type": "code",
   "execution_count": 34,
   "id": "2aa43474",
   "metadata": {},
   "outputs": [
    {
     "name": "stdout",
     "output_type": "stream",
     "text": [
      "              precision    recall  f1-score   support\n",
      "\n",
      "       NIPIS       0.80      1.00      0.89        12\n",
      "       SIRIH       1.00      0.62      0.77         8\n",
      "\n",
      "    accuracy                           0.85        20\n",
      "   macro avg       0.90      0.81      0.83        20\n",
      "weighted avg       0.88      0.85      0.84        20\n",
      "\n"
     ]
    },
    {
     "name": "stderr",
     "output_type": "stream",
     "text": [
      "C:\\Users\\ASUS\\AppData\\Local\\Temp/ipykernel_5964/954476436.py:3: DeprecationWarning: `np.int` is a deprecated alias for the builtin `int`. To silence this warning, use `int` by itself. Doing this will not modify any behavior and is safe. When replacing `np.int`, you may wish to use e.g. `np.int64` or `np.int32` to specify the precision. If you wish to review your current use, check the release note link for additional information.\n",
      "Deprecated in NumPy 1.20; for more details and guidance: https://numpy.org/devdocs/release/1.20.0-notes.html#deprecations\n",
      "  target = (predictions > 0.5).astype(np.int)\n"
     ]
    }
   ],
   "source": [
    "# menghitung nilai akurasi model terhadap data test\n",
    "predictions = model.predict(x_test, batch_size=32)\n",
    "target = (predictions > 0.5).astype(np.int)\n",
    "print(classification_report(y_test, target, target_names=label_list))"
   ]
  },
  {
   "cell_type": "code",
   "execution_count": 35,
   "id": "1794b44e",
   "metadata": {},
   "outputs": [
    {
     "name": "stdout",
     "output_type": "stream",
     "text": [
      "[[0.76163214]]\n"
     ]
    }
   ],
   "source": [
    "# uji model menggunakan image lain\n",
    "queryPath = imagePaths+'query_sirih.jpg'\n",
    "query = cv2.imread(queryPath)\n",
    "output = query.copy()\n",
    "query = cv2.resize(query, (32, 32))\n",
    "q = []\n",
    "q.append(query)\n",
    "q = np.array(q, dtype='float') / 255.0\n",
    "\n",
    "q_pred = model.predict(q)\n",
    "print(q_pred)"
   ]
  },
  {
   "cell_type": "code",
   "execution_count": 36,
   "id": "99cf1ff5",
   "metadata": {},
   "outputs": [
    {
     "ename": "error",
     "evalue": "OpenCV(4.5.4) D:\\a\\opencv-python\\opencv-python\\opencv\\modules\\highgui\\src\\window_w32.cpp:1261: error: (-27:Null pointer) NULL window: 'Output' in function 'cvDestroyWindow'\n",
     "output_type": "error",
     "traceback": [
      "\u001b[1;31m---------------------------------------------------------------------------\u001b[0m",
      "\u001b[1;31merror\u001b[0m                                     Traceback (most recent call last)",
      "\u001b[1;32m~\\AppData\\Local\\Temp/ipykernel_5964/296987098.py\u001b[0m in \u001b[0;36m<module>\u001b[1;34m\u001b[0m\n\u001b[0;32m      9\u001b[0m \u001b[0mcv2\u001b[0m\u001b[1;33m.\u001b[0m\u001b[0mimshow\u001b[0m\u001b[1;33m(\u001b[0m\u001b[1;34m'Output'\u001b[0m\u001b[1;33m,\u001b[0m \u001b[0moutput\u001b[0m\u001b[1;33m)\u001b[0m\u001b[1;33m\u001b[0m\u001b[1;33m\u001b[0m\u001b[0m\n\u001b[0;32m     10\u001b[0m \u001b[0mcv2\u001b[0m\u001b[1;33m.\u001b[0m\u001b[0mwaitKey\u001b[0m\u001b[1;33m(\u001b[0m\u001b[1;33m)\u001b[0m \u001b[1;31m# image tidak akan diclose,sebelum user menekan sembarang tombol\u001b[0m\u001b[1;33m\u001b[0m\u001b[1;33m\u001b[0m\u001b[0m\n\u001b[1;32m---> 11\u001b[1;33m \u001b[0mcv2\u001b[0m\u001b[1;33m.\u001b[0m\u001b[0mdestroyWindow\u001b[0m\u001b[1;33m(\u001b[0m\u001b[1;34m'Output'\u001b[0m\u001b[1;33m)\u001b[0m \u001b[1;31m# image akan diclose\u001b[0m\u001b[1;33m\u001b[0m\u001b[1;33m\u001b[0m\u001b[0m\n\u001b[0m",
      "\u001b[1;31merror\u001b[0m: OpenCV(4.5.4) D:\\a\\opencv-python\\opencv-python\\opencv\\modules\\highgui\\src\\window_w32.cpp:1261: error: (-27:Null pointer) NULL window: 'Output' in function 'cvDestroyWindow'\n"
     ]
    }
   ],
   "source": [
    "if q_pred<=0.5 :\n",
    "    target = \"DAUN NIPIS\"\n",
    "else :\n",
    "    target = \"DAUN SIRIH\"\n",
    "text = \"{}\".format(target)\n",
    "cv2.putText(output, text, (10, 30), cv2.FONT_HERSHEY_SIMPLEX, 0.7, (0, 0, 255), 2)\n",
    " \n",
    "# menampilkan output image\n",
    "cv2.imshow('Output', output)\n",
    "cv2.waitKey() # image tidak akan diclose,sebelum user menekan sembarang tombol\n",
    "cv2.destroyWindow('Output') # image akan diclose"
   ]
  },
  {
   "cell_type": "code",
   "execution_count": null,
   "id": "2834b4ed",
   "metadata": {},
   "outputs": [],
   "source": []
  }
 ],
 "metadata": {
  "kernelspec": {
   "display_name": "Python 3 (ipykernel)",
   "language": "python",
   "name": "python3"
  },
  "language_info": {
   "codemirror_mode": {
    "name": "ipython",
    "version": 3
   },
   "file_extension": ".py",
   "mimetype": "text/x-python",
   "name": "python",
   "nbconvert_exporter": "python",
   "pygments_lexer": "ipython3",
   "version": "3.8.2"
  }
 },
 "nbformat": 4,
 "nbformat_minor": 5
}
