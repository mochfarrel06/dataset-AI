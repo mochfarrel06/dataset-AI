{
 "cells": [
  {
   "cell_type": "markdown",
   "id": "b6fd475a",
   "metadata": {},
   "source": [
    "# 1. Import module yang dibutuhkan"
   ]
  },
  {
   "cell_type": "code",
   "execution_count": 21,
   "id": "f2c9433a",
   "metadata": {},
   "outputs": [],
   "source": [
    "from sklearn.model_selection import train_test_split\n",
    "from sklearn.preprocessing import LabelEncoder\n",
    "from sklearn.metrics import classification_report\n",
    "from tensorflow.keras.models import Sequential\n",
    "from tensorflow.keras.layers import InputLayer, Flatten, Dense, Conv2D, MaxPool2D, Dropout\n",
    "from tensorflow.keras.optimizers import Adam\n",
    "import numpy as np\n",
    "import cv2\n",
    "import glob\n",
    "import matplotlib.pyplot as plt"
   ]
  },
  {
   "cell_type": "markdown",
   "id": "71ecd12e",
   "metadata": {},
   "source": [
    "# 2. Load Dataset"
   ]
  },
  {
   "cell_type": "code",
   "execution_count": 22,
   "id": "62078d19",
   "metadata": {},
   "outputs": [],
   "source": [
    "imagePaths = 'Dataset\\\\'\n",
    "label_list = ['NIPIS', 'SIRIH']\n",
    "data = []\n",
    "labels = []"
   ]
  },
  {
   "cell_type": "code",
   "execution_count": 23,
   "id": "6688699a",
   "metadata": {},
   "outputs": [],
   "source": [
    "for label in label_list:\n",
    "    for imagePath in glob.glob(imagePaths+label+'\\\\*.jpg'):\n",
    "        #print(imagePath)\n",
    "        image = cv2.imread(imagePath)\n",
    "        image = cv2.resize(image, (32, 32))\n",
    "        data.append(image)\n",
    "        labels.append(label)"
   ]
  },
  {
   "cell_type": "code",
   "execution_count": 24,
   "id": "e4b83b7c",
   "metadata": {},
   "outputs": [
    {
     "data": {
      "text/plain": [
       "(100, 32, 32, 3)"
      ]
     },
     "execution_count": 24,
     "metadata": {},
     "output_type": "execute_result"
    }
   ],
   "source": [
    "np.array(data).shape"
   ]
  },
  {
   "cell_type": "markdown",
   "id": "0c22eab4",
   "metadata": {},
   "source": [
    "# 3. Data Preprocessing"
   ]
  },
  {
   "cell_type": "code",
   "execution_count": 25,
   "id": "8436f95c",
   "metadata": {},
   "outputs": [],
   "source": [
    "# ubah type data dari list menjadi array\n",
    "# ubah nilai dari tiap pixel menjadi range [0..1]\n",
    "data = np.array(data, dtype='float') / 255.0\n",
    "labels = np.array(labels)"
   ]
  },
  {
   "cell_type": "code",
   "execution_count": 26,
   "id": "467c3ffd",
   "metadata": {},
   "outputs": [
    {
     "name": "stdout",
     "output_type": "stream",
     "text": [
      "['Jeruk Nipis' 'Jeruk Nipis' 'Jeruk Nipis' 'Jeruk Nipis' 'Jeruk Nipis'\n",
      " 'Jeruk Nipis' 'Jeruk Nipis' 'Jeruk Nipis' 'Jeruk Nipis' 'Jeruk Nipis'\n",
      " 'Jeruk Nipis' 'Jeruk Nipis' 'Jeruk Nipis' 'Jeruk Nipis' 'Jeruk Nipis'\n",
      " 'Jeruk Nipis' 'Jeruk Nipis' 'Jeruk Nipis' 'Jeruk Nipis' 'Jeruk Nipis'\n",
      " 'Jeruk Nipis' 'Jeruk Nipis' 'Jeruk Nipis' 'Jeruk Nipis' 'Jeruk Nipis'\n",
      " 'Jeruk Nipis' 'Jeruk Nipis' 'Jeruk Nipis' 'Jeruk Nipis' 'Jeruk Nipis'\n",
      " 'Jeruk Nipis' 'Jeruk Nipis' 'Jeruk Nipis' 'Jeruk Nipis' 'Jeruk Nipis'\n",
      " 'Jeruk Nipis' 'Jeruk Nipis' 'Jeruk Nipis' 'Jeruk Nipis' 'Jeruk Nipis'\n",
      " 'Jeruk Nipis' 'Jeruk Nipis' 'Jeruk Nipis' 'Jeruk Nipis' 'Jeruk Nipis'\n",
      " 'Jeruk Nipis' 'Jeruk Nipis' 'Jeruk Nipis' 'Jeruk Nipis' 'Jeruk Nipis'\n",
      " 'Sirih' 'Sirih' 'Sirih' 'Sirih' 'Sirih' 'Sirih' 'Sirih' 'Sirih' 'Sirih'\n",
      " 'Sirih' 'Sirih' 'Sirih' 'Sirih' 'Sirih' 'Sirih' 'Sirih' 'Sirih' 'Sirih'\n",
      " 'Sirih' 'Sirih' 'Sirih' 'Sirih' 'Sirih' 'Sirih' 'Sirih' 'Sirih' 'Sirih'\n",
      " 'Sirih' 'Sirih' 'Sirih' 'Sirih' 'Sirih' 'Sirih' 'Sirih' 'Sirih' 'Sirih'\n",
      " 'Sirih' 'Sirih' 'Sirih' 'Sirih' 'Sirih' 'Sirih' 'Sirih' 'Sirih' 'Sirih'\n",
      " 'Sirih' 'Sirih' 'Sirih' 'Sirih' 'Sirih']\n"
     ]
    }
   ],
   "source": [
    "print(labels)"
   ]
  },
  {
   "cell_type": "code",
   "execution_count": 27,
   "id": "8a7c5b9f",
   "metadata": {},
   "outputs": [
    {
     "name": "stdout",
     "output_type": "stream",
     "text": [
      "[0 0 0 0 0 0 0 0 0 0 0 0 0 0 0 0 0 0 0 0 0 0 0 0 0 0 0 0 0 0 0 0 0 0 0 0 0\n",
      " 0 0 0 0 0 0 0 0 0 0 0 0 0 1 1 1 1 1 1 1 1 1 1 1 1 1 1 1 1 1 1 1 1 1 1 1 1\n",
      " 1 1 1 1 1 1 1 1 1 1 1 1 1 1 1 1 1 1 1 1 1 1 1 1 1 1]\n"
     ]
    }
   ],
   "source": [
    "# ubah nilai dari labels menjadi binary\n",
    "lb = LabelEncoder()\n",
    "labels = lb.fit_transform(labels)\n",
    "print(labels)"
   ]
  },
  {
   "cell_type": "markdown",
   "id": "3d151ce1",
   "metadata": {},
   "source": [
    "# 4. Split Dataset"
   ]
  },
  {
   "cell_type": "code",
   "execution_count": 28,
   "id": "0bc50330",
   "metadata": {},
   "outputs": [],
   "source": [
    "x_train, x_test, y_train, y_test = train_test_split(data, labels, test_size=0.2, random_state=42)"
   ]
  },
  {
   "cell_type": "code",
   "execution_count": 29,
   "id": "dadaf692",
   "metadata": {},
   "outputs": [
    {
     "name": "stdout",
     "output_type": "stream",
     "text": [
      "Ukuran data train = (80, 32, 32, 3)\n",
      "Ukuran data test = (20, 32, 32, 3)\n"
     ]
    }
   ],
   "source": [
    "print('Ukuran data train =', x_train.shape)\n",
    "print('Ukuran data test =', x_test.shape)"
   ]
  },
  {
   "cell_type": "markdown",
   "id": "f86e396d",
   "metadata": {},
   "source": [
    "# 5. Build CNN Architecture"
   ]
  },
  {
   "cell_type": "code",
   "execution_count": 30,
   "id": "6d52266d",
   "metadata": {},
   "outputs": [],
   "source": [
    "model = Sequential()\n",
    "# Extracted Feature Layer\n",
    "model.add(InputLayer(input_shape=[32,32,3]))\n",
    "model.add(Conv2D(filters=32, kernel_size=2, strides=1, padding='same', activation='relu'))\n",
    "model.add(MaxPool2D(pool_size=2, padding='same'))\n",
    "model.add(Conv2D(filters=50, kernel_size=2, strides=1, padding='same', activation='relu'))\n",
    "model.add(MaxPool2D(pool_size=2, padding='same'))\n",
    "model.add(Dropout(0.25))\n",
    "model.add(Flatten())\n",
    "# Fully Connected Layer\n",
    "model.add(Dense(512, activation='relu'))\n",
    "model.add(Dropout(0.5))\n",
    "model.add(Dense(1, activation='sigmoid'))"
   ]
  },
  {
   "cell_type": "code",
   "execution_count": 31,
   "id": "7a0fd39e",
   "metadata": {},
   "outputs": [
    {
     "name": "stdout",
     "output_type": "stream",
     "text": [
      "Model: \"sequential_1\"\n",
      "_________________________________________________________________\n",
      " Layer (type)                Output Shape              Param #   \n",
      "=================================================================\n",
      " conv2d_2 (Conv2D)           (None, 32, 32, 32)        416       \n",
      "                                                                 \n",
      " max_pooling2d_2 (MaxPooling  (None, 16, 16, 32)       0         \n",
      " 2D)                                                             \n",
      "                                                                 \n",
      " conv2d_3 (Conv2D)           (None, 16, 16, 50)        6450      \n",
      "                                                                 \n",
      " max_pooling2d_3 (MaxPooling  (None, 8, 8, 50)         0         \n",
      " 2D)                                                             \n",
      "                                                                 \n",
      " dropout_2 (Dropout)         (None, 8, 8, 50)          0         \n",
      "                                                                 \n",
      " flatten_1 (Flatten)         (None, 3200)              0         \n",
      "                                                                 \n",
      " dense_2 (Dense)             (None, 512)               1638912   \n",
      "                                                                 \n",
      " dropout_3 (Dropout)         (None, 512)               0         \n",
      "                                                                 \n",
      " dense_3 (Dense)             (None, 1)                 513       \n",
      "                                                                 \n",
      "=================================================================\n",
      "Total params: 1,646,291\n",
      "Trainable params: 1,646,291\n",
      "Non-trainable params: 0\n",
      "_________________________________________________________________\n"
     ]
    }
   ],
   "source": [
    "model.summary()"
   ]
  },
  {
   "cell_type": "code",
   "execution_count": 32,
   "id": "d12c6a30",
   "metadata": {},
   "outputs": [],
   "source": [
    "# tentukan hyperparameter\n",
    "lr = 0.001\n",
    "max_epochs = 100\n",
    "opt_funct = Adam(learning_rate=lr)"
   ]
  },
  {
   "cell_type": "code",
   "execution_count": 33,
   "id": "9062a7f8",
   "metadata": {},
   "outputs": [],
   "source": [
    "# compile arsitektur yang telah dibuat\n",
    "model.compile(loss = 'binary_crossentropy', \n",
    "              optimizer = opt_funct, \n",
    "              metrics = ['accuracy'])"
   ]
  },
  {
   "cell_type": "markdown",
   "id": "2e4829a4",
   "metadata": {},
   "source": [
    "# 6. Train Model"
   ]
  },
  {
   "cell_type": "code",
   "execution_count": 34,
   "id": "02070d00",
   "metadata": {},
   "outputs": [
    {
     "name": "stdout",
     "output_type": "stream",
     "text": [
      "Epoch 1/100\n",
      "3/3 [==============================] - 1s 126ms/step - loss: 0.8464 - accuracy: 0.5125 - val_loss: 0.6472 - val_accuracy: 0.6000\n",
      "Epoch 2/100\n",
      "3/3 [==============================] - 0s 50ms/step - loss: 0.6864 - accuracy: 0.5750 - val_loss: 0.9273 - val_accuracy: 0.4000\n",
      "Epoch 3/100\n",
      "3/3 [==============================] - 0s 52ms/step - loss: 0.7506 - accuracy: 0.5250 - val_loss: 0.6497 - val_accuracy: 0.8000\n",
      "Epoch 4/100\n",
      "3/3 [==============================] - 0s 54ms/step - loss: 0.6906 - accuracy: 0.5375 - val_loss: 0.6295 - val_accuracy: 0.6000\n",
      "Epoch 5/100\n",
      "3/3 [==============================] - 0s 55ms/step - loss: 0.6649 - accuracy: 0.6250 - val_loss: 0.6139 - val_accuracy: 0.8000\n",
      "Epoch 6/100\n",
      "3/3 [==============================] - 0s 68ms/step - loss: 0.5848 - accuracy: 0.7375 - val_loss: 0.6630 - val_accuracy: 0.4000\n",
      "Epoch 7/100\n",
      "3/3 [==============================] - 0s 93ms/step - loss: 0.5884 - accuracy: 0.6625 - val_loss: 0.5525 - val_accuracy: 0.8500\n",
      "Epoch 8/100\n",
      "3/3 [==============================] - 0s 81ms/step - loss: 0.5165 - accuracy: 0.8375 - val_loss: 0.5016 - val_accuracy: 0.8000\n",
      "Epoch 9/100\n",
      "3/3 [==============================] - 0s 58ms/step - loss: 0.4975 - accuracy: 0.8375 - val_loss: 0.4548 - val_accuracy: 0.9000\n",
      "Epoch 10/100\n",
      "3/3 [==============================] - 0s 55ms/step - loss: 0.4294 - accuracy: 0.8625 - val_loss: 0.4090 - val_accuracy: 0.8500\n",
      "Epoch 11/100\n",
      "3/3 [==============================] - 0s 66ms/step - loss: 0.3943 - accuracy: 0.8125 - val_loss: 0.3605 - val_accuracy: 0.9000\n",
      "Epoch 12/100\n",
      "3/3 [==============================] - 0s 61ms/step - loss: 0.3487 - accuracy: 0.8750 - val_loss: 0.3223 - val_accuracy: 0.9000\n",
      "Epoch 13/100\n",
      "3/3 [==============================] - 0s 60ms/step - loss: 0.3399 - accuracy: 0.8625 - val_loss: 0.2982 - val_accuracy: 0.9000\n",
      "Epoch 14/100\n",
      "3/3 [==============================] - 0s 79ms/step - loss: 0.2900 - accuracy: 0.8875 - val_loss: 0.2820 - val_accuracy: 0.9000\n",
      "Epoch 15/100\n",
      "3/3 [==============================] - 0s 54ms/step - loss: 0.2689 - accuracy: 0.8875 - val_loss: 0.2896 - val_accuracy: 0.8500\n",
      "Epoch 16/100\n",
      "3/3 [==============================] - 0s 61ms/step - loss: 0.2386 - accuracy: 0.9000 - val_loss: 0.2981 - val_accuracy: 0.9000\n",
      "Epoch 17/100\n",
      "3/3 [==============================] - 0s 61ms/step - loss: 0.2252 - accuracy: 0.9000 - val_loss: 0.2545 - val_accuracy: 0.9000\n",
      "Epoch 18/100\n",
      "3/3 [==============================] - 0s 65ms/step - loss: 0.2315 - accuracy: 0.9000 - val_loss: 0.2461 - val_accuracy: 0.9000\n",
      "Epoch 19/100\n",
      "3/3 [==============================] - 0s 65ms/step - loss: 0.1895 - accuracy: 0.9375 - val_loss: 0.2421 - val_accuracy: 0.9000\n",
      "Epoch 20/100\n",
      "3/3 [==============================] - 0s 69ms/step - loss: 0.1729 - accuracy: 0.9500 - val_loss: 0.2624 - val_accuracy: 0.9000\n",
      "Epoch 21/100\n",
      "3/3 [==============================] - 0s 62ms/step - loss: 0.1398 - accuracy: 0.9875 - val_loss: 0.2377 - val_accuracy: 0.9000\n",
      "Epoch 22/100\n",
      "3/3 [==============================] - 0s 67ms/step - loss: 0.1420 - accuracy: 0.9500 - val_loss: 0.2361 - val_accuracy: 0.9000\n",
      "Epoch 23/100\n",
      "3/3 [==============================] - 0s 56ms/step - loss: 0.1423 - accuracy: 0.9500 - val_loss: 0.2721 - val_accuracy: 0.8500\n",
      "Epoch 24/100\n",
      "3/3 [==============================] - 0s 54ms/step - loss: 0.1501 - accuracy: 0.9750 - val_loss: 0.2360 - val_accuracy: 0.9000\n",
      "Epoch 25/100\n",
      "3/3 [==============================] - 0s 55ms/step - loss: 0.1071 - accuracy: 0.9625 - val_loss: 0.2416 - val_accuracy: 0.9000\n",
      "Epoch 26/100\n",
      "3/3 [==============================] - 0s 51ms/step - loss: 0.1020 - accuracy: 0.9625 - val_loss: 0.2351 - val_accuracy: 0.9000\n",
      "Epoch 27/100\n",
      "3/3 [==============================] - 0s 62ms/step - loss: 0.1005 - accuracy: 0.9625 - val_loss: 0.2414 - val_accuracy: 0.9000\n",
      "Epoch 28/100\n",
      "3/3 [==============================] - 0s 54ms/step - loss: 0.0964 - accuracy: 0.9625 - val_loss: 0.2337 - val_accuracy: 0.9000\n",
      "Epoch 29/100\n",
      "3/3 [==============================] - 0s 59ms/step - loss: 0.0869 - accuracy: 0.9750 - val_loss: 0.2422 - val_accuracy: 0.9000\n",
      "Epoch 30/100\n",
      "3/3 [==============================] - 0s 60ms/step - loss: 0.0862 - accuracy: 0.9750 - val_loss: 0.2486 - val_accuracy: 0.9000\n",
      "Epoch 31/100\n",
      "3/3 [==============================] - 0s 57ms/step - loss: 0.0803 - accuracy: 0.9750 - val_loss: 0.2624 - val_accuracy: 0.9000\n",
      "Epoch 32/100\n",
      "3/3 [==============================] - 0s 54ms/step - loss: 0.0421 - accuracy: 1.0000 - val_loss: 0.2675 - val_accuracy: 0.9000\n",
      "Epoch 33/100\n",
      "3/3 [==============================] - 0s 58ms/step - loss: 0.0609 - accuracy: 0.9750 - val_loss: 0.2729 - val_accuracy: 0.9000\n",
      "Epoch 34/100\n",
      "3/3 [==============================] - 0s 56ms/step - loss: 0.0618 - accuracy: 0.9750 - val_loss: 0.2894 - val_accuracy: 0.8500\n",
      "Epoch 35/100\n",
      "3/3 [==============================] - 0s 60ms/step - loss: 0.0623 - accuracy: 0.9875 - val_loss: 0.2810 - val_accuracy: 0.9000\n",
      "Epoch 36/100\n",
      "3/3 [==============================] - 0s 53ms/step - loss: 0.0591 - accuracy: 0.9875 - val_loss: 0.3041 - val_accuracy: 0.8500\n",
      "Epoch 37/100\n",
      "3/3 [==============================] - 0s 57ms/step - loss: 0.0616 - accuracy: 0.9875 - val_loss: 0.2817 - val_accuracy: 0.9000\n",
      "Epoch 38/100\n",
      "3/3 [==============================] - 0s 52ms/step - loss: 0.0275 - accuracy: 1.0000 - val_loss: 0.3063 - val_accuracy: 0.8500\n",
      "Epoch 39/100\n",
      "3/3 [==============================] - 0s 56ms/step - loss: 0.0460 - accuracy: 0.9875 - val_loss: 0.2820 - val_accuracy: 0.9000\n",
      "Epoch 40/100\n",
      "3/3 [==============================] - 0s 62ms/step - loss: 0.0325 - accuracy: 1.0000 - val_loss: 0.2950 - val_accuracy: 0.9000\n",
      "Epoch 41/100\n",
      "3/3 [==============================] - 0s 53ms/step - loss: 0.0277 - accuracy: 1.0000 - val_loss: 0.2851 - val_accuracy: 0.9000\n",
      "Epoch 42/100\n",
      "3/3 [==============================] - 0s 60ms/step - loss: 0.0681 - accuracy: 0.9750 - val_loss: 0.3385 - val_accuracy: 0.8500\n",
      "Epoch 43/100\n",
      "3/3 [==============================] - 0s 56ms/step - loss: 0.0702 - accuracy: 0.9750 - val_loss: 0.3003 - val_accuracy: 0.8500\n",
      "Epoch 44/100\n",
      "3/3 [==============================] - 0s 52ms/step - loss: 0.0292 - accuracy: 1.0000 - val_loss: 0.3200 - val_accuracy: 0.8500\n",
      "Epoch 45/100\n",
      "3/3 [==============================] - 0s 58ms/step - loss: 0.0511 - accuracy: 0.9750 - val_loss: 0.3306 - val_accuracy: 0.8500\n",
      "Epoch 46/100\n",
      "3/3 [==============================] - 0s 60ms/step - loss: 0.0379 - accuracy: 0.9875 - val_loss: 0.3538 - val_accuracy: 0.8500\n",
      "Epoch 47/100\n",
      "3/3 [==============================] - 0s 58ms/step - loss: 0.0420 - accuracy: 0.9875 - val_loss: 0.3343 - val_accuracy: 0.8500\n",
      "Epoch 48/100\n",
      "3/3 [==============================] - 0s 58ms/step - loss: 0.0448 - accuracy: 0.9875 - val_loss: 0.3364 - val_accuracy: 0.8500\n",
      "Epoch 49/100\n",
      "3/3 [==============================] - 0s 63ms/step - loss: 0.0214 - accuracy: 1.0000 - val_loss: 0.4128 - val_accuracy: 0.8500\n",
      "Epoch 50/100\n",
      "3/3 [==============================] - 0s 59ms/step - loss: 0.0568 - accuracy: 0.9875 - val_loss: 0.4021 - val_accuracy: 0.8500\n",
      "Epoch 51/100\n",
      "3/3 [==============================] - 0s 74ms/step - loss: 0.0249 - accuracy: 0.9875 - val_loss: 0.3433 - val_accuracy: 0.8500\n",
      "Epoch 52/100\n",
      "3/3 [==============================] - 0s 52ms/step - loss: 0.0259 - accuracy: 1.0000 - val_loss: 0.3862 - val_accuracy: 0.8500\n",
      "Epoch 53/100\n",
      "3/3 [==============================] - 0s 50ms/step - loss: 0.0858 - accuracy: 0.9625 - val_loss: 0.3842 - val_accuracy: 0.8500\n",
      "Epoch 54/100\n",
      "3/3 [==============================] - 0s 61ms/step - loss: 0.0262 - accuracy: 1.0000 - val_loss: 0.4221 - val_accuracy: 0.8500\n",
      "Epoch 55/100\n",
      "3/3 [==============================] - 0s 54ms/step - loss: 0.0161 - accuracy: 1.0000 - val_loss: 0.3854 - val_accuracy: 0.8500\n",
      "Epoch 56/100\n",
      "3/3 [==============================] - 0s 53ms/step - loss: 0.0112 - accuracy: 1.0000 - val_loss: 0.3595 - val_accuracy: 0.8500\n",
      "Epoch 57/100\n",
      "3/3 [==============================] - 0s 47ms/step - loss: 0.0096 - accuracy: 1.0000 - val_loss: 0.3511 - val_accuracy: 0.8500\n",
      "Epoch 58/100\n",
      "3/3 [==============================] - 0s 52ms/step - loss: 0.0159 - accuracy: 1.0000 - val_loss: 0.3533 - val_accuracy: 0.8500\n",
      "Epoch 59/100\n",
      "3/3 [==============================] - 0s 60ms/step - loss: 0.0151 - accuracy: 1.0000 - val_loss: 0.3696 - val_accuracy: 0.8500\n",
      "Epoch 60/100\n",
      "3/3 [==============================] - 0s 55ms/step - loss: 0.0131 - accuracy: 1.0000 - val_loss: 0.3741 - val_accuracy: 0.8500\n",
      "Epoch 61/100\n",
      "3/3 [==============================] - 0s 57ms/step - loss: 0.0109 - accuracy: 1.0000 - val_loss: 0.3575 - val_accuracy: 0.8500\n",
      "Epoch 62/100\n",
      "3/3 [==============================] - 0s 45ms/step - loss: 0.0173 - accuracy: 1.0000 - val_loss: 0.3674 - val_accuracy: 0.8500\n",
      "Epoch 63/100\n",
      "3/3 [==============================] - 0s 57ms/step - loss: 0.0061 - accuracy: 1.0000 - val_loss: 0.4112 - val_accuracy: 0.8500\n",
      "Epoch 64/100\n",
      "3/3 [==============================] - 0s 52ms/step - loss: 0.0080 - accuracy: 1.0000 - val_loss: 0.4396 - val_accuracy: 0.8500\n",
      "Epoch 65/100\n",
      "3/3 [==============================] - 0s 55ms/step - loss: 0.0091 - accuracy: 1.0000 - val_loss: 0.4422 - val_accuracy: 0.8500\n",
      "Epoch 66/100\n",
      "3/3 [==============================] - 0s 56ms/step - loss: 0.0059 - accuracy: 1.0000 - val_loss: 0.4282 - val_accuracy: 0.8500\n",
      "Epoch 67/100\n",
      "3/3 [==============================] - 0s 63ms/step - loss: 0.0068 - accuracy: 1.0000 - val_loss: 0.4128 - val_accuracy: 0.8500\n",
      "Epoch 68/100\n",
      "3/3 [==============================] - 0s 53ms/step - loss: 0.0056 - accuracy: 1.0000 - val_loss: 0.4086 - val_accuracy: 0.9000\n",
      "Epoch 69/100\n",
      "3/3 [==============================] - 0s 56ms/step - loss: 0.0045 - accuracy: 1.0000 - val_loss: 0.4094 - val_accuracy: 0.9000\n",
      "Epoch 70/100\n",
      "3/3 [==============================] - 0s 57ms/step - loss: 0.0089 - accuracy: 1.0000 - val_loss: 0.4247 - val_accuracy: 0.8500\n",
      "Epoch 71/100\n",
      "3/3 [==============================] - 0s 60ms/step - loss: 0.0067 - accuracy: 1.0000 - val_loss: 0.4523 - val_accuracy: 0.8500\n",
      "Epoch 72/100\n",
      "3/3 [==============================] - 0s 52ms/step - loss: 0.0087 - accuracy: 1.0000 - val_loss: 0.4432 - val_accuracy: 0.8500\n",
      "Epoch 73/100\n",
      "3/3 [==============================] - 0s 60ms/step - loss: 0.0101 - accuracy: 1.0000 - val_loss: 0.4271 - val_accuracy: 0.9000\n",
      "Epoch 74/100\n",
      "3/3 [==============================] - 0s 62ms/step - loss: 0.0039 - accuracy: 1.0000 - val_loss: 0.4253 - val_accuracy: 0.9000\n",
      "Epoch 75/100\n",
      "3/3 [==============================] - 0s 59ms/step - loss: 0.0059 - accuracy: 1.0000 - val_loss: 0.4277 - val_accuracy: 0.9000\n",
      "Epoch 76/100\n",
      "3/3 [==============================] - 0s 54ms/step - loss: 0.0027 - accuracy: 1.0000 - val_loss: 0.4322 - val_accuracy: 0.9000\n",
      "Epoch 77/100\n",
      "3/3 [==============================] - 0s 63ms/step - loss: 0.0025 - accuracy: 1.0000 - val_loss: 0.4384 - val_accuracy: 0.8500\n",
      "Epoch 78/100\n",
      "3/3 [==============================] - 0s 56ms/step - loss: 0.0061 - accuracy: 1.0000 - val_loss: 0.4386 - val_accuracy: 0.8500\n",
      "Epoch 79/100\n",
      "3/3 [==============================] - 0s 51ms/step - loss: 0.0041 - accuracy: 1.0000 - val_loss: 0.4466 - val_accuracy: 0.8500\n",
      "Epoch 80/100\n",
      "3/3 [==============================] - 0s 59ms/step - loss: 0.0025 - accuracy: 1.0000 - val_loss: 0.4600 - val_accuracy: 0.8500\n",
      "Epoch 81/100\n",
      "3/3 [==============================] - 0s 49ms/step - loss: 0.0055 - accuracy: 1.0000 - val_loss: 0.4576 - val_accuracy: 0.8500\n",
      "Epoch 82/100\n",
      "3/3 [==============================] - 0s 57ms/step - loss: 0.0030 - accuracy: 1.0000 - val_loss: 0.4420 - val_accuracy: 0.8500\n",
      "Epoch 83/100\n",
      "3/3 [==============================] - 0s 52ms/step - loss: 0.0034 - accuracy: 1.0000 - val_loss: 0.4311 - val_accuracy: 0.8500\n",
      "Epoch 84/100\n",
      "3/3 [==============================] - 0s 54ms/step - loss: 0.0041 - accuracy: 1.0000 - val_loss: 0.4338 - val_accuracy: 0.8500\n",
      "Epoch 85/100\n",
      "3/3 [==============================] - 0s 58ms/step - loss: 0.0056 - accuracy: 1.0000 - val_loss: 0.4649 - val_accuracy: 0.8500\n",
      "Epoch 86/100\n",
      "3/3 [==============================] - 0s 60ms/step - loss: 0.0073 - accuracy: 1.0000 - val_loss: 0.4611 - val_accuracy: 0.8500\n",
      "Epoch 87/100\n",
      "3/3 [==============================] - 0s 58ms/step - loss: 0.0029 - accuracy: 1.0000 - val_loss: 0.4483 - val_accuracy: 0.8500\n",
      "Epoch 88/100\n",
      "3/3 [==============================] - 0s 55ms/step - loss: 0.0052 - accuracy: 1.0000 - val_loss: 0.4407 - val_accuracy: 0.8500\n",
      "Epoch 89/100\n",
      "3/3 [==============================] - 0s 51ms/step - loss: 0.0030 - accuracy: 1.0000 - val_loss: 0.4384 - val_accuracy: 0.8500\n",
      "Epoch 90/100\n",
      "3/3 [==============================] - 0s 56ms/step - loss: 0.0066 - accuracy: 1.0000 - val_loss: 0.4619 - val_accuracy: 0.8500\n",
      "Epoch 91/100\n",
      "3/3 [==============================] - 0s 57ms/step - loss: 0.0013 - accuracy: 1.0000 - val_loss: 0.4821 - val_accuracy: 0.8500\n",
      "Epoch 92/100\n",
      "3/3 [==============================] - 0s 60ms/step - loss: 0.0035 - accuracy: 1.0000 - val_loss: 0.4835 - val_accuracy: 0.8500\n",
      "Epoch 93/100\n",
      "3/3 [==============================] - 0s 55ms/step - loss: 0.0028 - accuracy: 1.0000 - val_loss: 0.4765 - val_accuracy: 0.8500\n",
      "Epoch 94/100\n",
      "3/3 [==============================] - 0s 62ms/step - loss: 0.0023 - accuracy: 1.0000 - val_loss: 0.4729 - val_accuracy: 0.8500\n",
      "Epoch 95/100\n",
      "3/3 [==============================] - 0s 85ms/step - loss: 0.0022 - accuracy: 1.0000 - val_loss: 0.4722 - val_accuracy: 0.8500\n",
      "Epoch 96/100\n",
      "3/3 [==============================] - 0s 75ms/step - loss: 0.0028 - accuracy: 1.0000 - val_loss: 0.4750 - val_accuracy: 0.8500\n",
      "Epoch 97/100\n",
      "3/3 [==============================] - 0s 97ms/step - loss: 0.0029 - accuracy: 1.0000 - val_loss: 0.4816 - val_accuracy: 0.8500\n",
      "Epoch 98/100\n",
      "3/3 [==============================] - 0s 80ms/step - loss: 0.0017 - accuracy: 1.0000 - val_loss: 0.4973 - val_accuracy: 0.8500\n",
      "Epoch 99/100\n",
      "3/3 [==============================] - 0s 88ms/step - loss: 0.0017 - accuracy: 1.0000 - val_loss: 0.5072 - val_accuracy: 0.8500\n",
      "Epoch 100/100\n",
      "3/3 [==============================] - 0s 56ms/step - loss: 0.0043 - accuracy: 1.0000 - val_loss: 0.4861 - val_accuracy: 0.8500\n"
     ]
    }
   ],
   "source": [
    "H = model.fit(x_train, y_train, validation_data=(x_test, y_test), \n",
    "          epochs=max_epochs, batch_size=32)"
   ]
  },
  {
   "cell_type": "code",
   "execution_count": 35,
   "id": "1508bec7",
   "metadata": {},
   "outputs": [
    {
     "data": {
      "image/png": "[encoded data removed]",
      "text/plain": [
       "<Figure size 432x288 with 1 Axes>"
      ]
     },
     "metadata": {},
     "output_type": "display_data"
    }
   ],
   "source": [
    "N = np.arange(0, max_epochs)\n",
    "plt.style.use(\"ggplot\")\n",
    "plt.figure()\n",
    "plt.plot(N, H.history[\"loss\"], label=\"train_loss\")\n",
    "plt.plot(N, H.history[\"val_loss\"], label=\"val_loss\")\n",
    "#plt.plot(N, H.history[\"accuracy\"], label=\"train_acc\")\n",
    "#plt.plot(N, H.history[\"val_accuracy\"], label=\"val_acc\")\n",
    "plt.xlabel(\"Epoch #\")\n",
    "plt.legend()\n",
    "plt.show()"
   ]
  },
  {
   "cell_type": "markdown",
   "id": "9910f4de",
   "metadata": {},
   "source": [
    "# 7. Evaluate the Model"
   ]
  },
  {
   "cell_type": "code",
   "execution_count": 36,
   "id": "4d46e7f6",
   "metadata": {},
   "outputs": [
    {
     "name": "stdout",
     "output_type": "stream",
     "text": [
      "              precision    recall  f1-score   support\n",
      "\n",
      " Jeruk Nipis       0.85      0.92      0.88        12\n",
      "       Sirih       0.86      0.75      0.80         8\n",
      "\n",
      "    accuracy                           0.85        20\n",
      "   macro avg       0.85      0.83      0.84        20\n",
      "weighted avg       0.85      0.85      0.85        20\n",
      "\n"
     ]
    },
    {
     "name": "stderr",
     "output_type": "stream",
     "text": [
      "C:\\Users\\ASUS\\AppData\\Local\\Temp/ipykernel_7624/954476436.py:3: DeprecationWarning: `np.int` is a deprecated alias for the builtin `int`. To silence this warning, use `int` by itself. Doing this will not modify any behavior and is safe. When replacing `np.int`, you may wish to use e.g. `np.int64` or `np.int32` to specify the precision. If you wish to review your current use, check the release note link for additional information.\n",
      "Deprecated in NumPy 1.20; for more details and guidance: https://numpy.org/devdocs/release/1.20.0-notes.html#deprecations\n",
      "  target = (predictions > 0.5).astype(np.int)\n"
     ]
    }
   ],
   "source": [
    "# menghitung nilai akurasi model terhadap data test\n",
    "predictions = model.predict(x_test, batch_size=32)\n",
    "target = (predictions > 0.5).astype(np.int)\n",
    "print(classification_report(y_test, target, target_names=label_list))"
   ]
  },
  {
   "cell_type": "code",
   "execution_count": 41,
   "id": "5e3d5e4e",
   "metadata": {},
   "outputs": [
    {
     "name": "stdout",
     "output_type": "stream",
     "text": [
      "[[0.9999943]]\n"
     ]
    }
   ],
   "source": [
    "# uji model menggunakan image lain\n",
    "queryPath = imagePaths+'query_nipis.jpg'\n",
    "query = cv2.imread(queryPath)\n",
    "output = query.copy()\n",
    "query = cv2.resize(query, (32, 32))\n",
    "q = []\n",
    "q.append(query)\n",
    "q = np.array(q, dtype='float') / 255.0\n",
    "\n",
    "q_pred = model.predict(q)\n",
    "print(q_pred)"
   ]
  },
  {
   "cell_type": "code",
   "execution_count": 42,
   "id": "f3d5e7b7",
   "metadata": {},
   "outputs": [
    {
     "ename": "error",
     "evalue": "OpenCV(4.5.4) D:\\a\\opencv-python\\opencv-python\\opencv\\modules\\highgui\\src\\window_w32.cpp:1261: error: (-27:Null pointer) NULL window: 'Output' in function 'cvDestroyWindow'\n",
     "output_type": "error",
     "traceback": [
      "\u001b[1;31m---------------------------------------------------------------------------\u001b[0m",
      "\u001b[1;31merror\u001b[0m                                     Traceback (most recent call last)",
      "\u001b[1;32m~\\AppData\\Local\\Temp/ipykernel_7624/4147216928.py\u001b[0m in \u001b[0;36m<module>\u001b[1;34m\u001b[0m\n\u001b[0;32m      9\u001b[0m \u001b[0mcv2\u001b[0m\u001b[1;33m.\u001b[0m\u001b[0mimshow\u001b[0m\u001b[1;33m(\u001b[0m\u001b[1;34m'Output'\u001b[0m\u001b[1;33m,\u001b[0m \u001b[0moutput\u001b[0m\u001b[1;33m)\u001b[0m\u001b[1;33m\u001b[0m\u001b[1;33m\u001b[0m\u001b[0m\n\u001b[0;32m     10\u001b[0m \u001b[0mcv2\u001b[0m\u001b[1;33m.\u001b[0m\u001b[0mwaitKey\u001b[0m\u001b[1;33m(\u001b[0m\u001b[1;33m)\u001b[0m\u001b[1;33m\u001b[0m\u001b[1;33m\u001b[0m\u001b[0m\n\u001b[1;32m---> 11\u001b[1;33m \u001b[0mcv2\u001b[0m\u001b[1;33m.\u001b[0m\u001b[0mdestroyWindow\u001b[0m\u001b[1;33m(\u001b[0m\u001b[1;34m'Output'\u001b[0m\u001b[1;33m)\u001b[0m\u001b[1;33m\u001b[0m\u001b[1;33m\u001b[0m\u001b[0m\n\u001b[0m",
      "\u001b[1;31merror\u001b[0m: OpenCV(4.5.4) D:\\a\\opencv-python\\opencv-python\\opencv\\modules\\highgui\\src\\window_w32.cpp:1261: error: (-27:Null pointer) NULL window: 'Output' in function 'cvDestroyWindow'\n"
     ]
    }
   ],
   "source": [
    "if q_pred<=0.5 :\n",
    "    target = \"Jeruk Nipis\"\n",
    "else :\n",
    "    target = \"Sirih\"\n",
    "text = \"{}\".format(target)\n",
    "cv2.putText(output, text, (10, 30), cv2.FONT_HERSHEY_SIMPLEX, 0.7, (0, 0, 255), 2)\n",
    " \n",
    "# menampilkan output image\n",
    "cv2.imshow('Output', output)\n",
    "cv2.waitKey()\n",
    "cv2.destroyWindow('Output')"
   ]
  },
  {
   "cell_type": "markdown",
   "id": "c9c4bc60",
   "metadata": {},
   "source": [
    "# 8. Save the model"
   ]
  },
  {
   "cell_type": "code",
   "execution_count": 21,
   "id": "26041f75",
   "metadata": {},
   "outputs": [],
   "source": [
    "model.save(\"nipis_sirih_class_model.h5\")"
   ]
  },
  {
   "cell_type": "code",
   "execution_count": null,
   "id": "921e1fa7",
   "metadata": {},
   "outputs": [],
   "source": []
  }
 ],
 "metadata": {
  "kernelspec": {
   "display_name": "Python 3 (ipykernel)",
   "language": "python",
   "name": "python3"
  },
  "language_info": {
   "codemirror_mode": {
    "name": "ipython",
    "version": 3
   },
   "file_extension": ".py",
   "mimetype": "text/x-python",
   "name": "python",
   "nbconvert_exporter": "python",
   "pygments_lexer": "ipython3",
   "version": "3.8.2"
  }
 },
 "nbformat": 4,
 "nbformat_minor": 5
}
