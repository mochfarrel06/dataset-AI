{
 "cells": [
  {
   "cell_type": "markdown",
   "id": "b6fd475a",
   "metadata": {},
   "source": [
    "# 1. Import module yang dibutuhkan"
   ]
  },
  {
   "cell_type": "code",
   "execution_count": 1,
   "id": "f2c9433a",
   "metadata": {},
   "outputs": [],
   "source": [
    "from sklearn.model_selection import train_test_split\n",
    "from sklearn.preprocessing import LabelEncoder\n",
    "from sklearn.metrics import classification_report\n",
    "from tensorflow.keras.models import Sequential\n",
    "from tensorflow.keras.layers import InputLayer, Flatten, Dense, Conv2D, MaxPool2D, Dropout\n",
    "from tensorflow.keras.optimizers import Adam\n",
    "import numpy as np\n",
    "import cv2\n",
    "import glob\n",
    "import matplotlib.pyplot as plt"
   ]
  },
  {
   "cell_type": "markdown",
   "id": "71ecd12e",
   "metadata": {},
   "source": [
    "# 2. Load Dataset"
   ]
  },
  {
   "cell_type": "code",
   "execution_count": 2,
   "id": "62078d19",
   "metadata": {},
   "outputs": [],
   "source": [
    "imagePaths = 'Dataset\\\\'\n",
    "label_list = ['Jeruk Nipis', 'Sirih']\n",
    "data = []\n",
    "labels = []"
   ]
  },
  {
   "cell_type": "code",
   "execution_count": 3,
   "id": "6688699a",
   "metadata": {},
   "outputs": [],
   "source": [
    "for label in label_list:\n",
    "    for imagePath in glob.glob(imagePaths+label+'\\\\*.jpg'):\n",
    "        #print(imagePath)\n",
    "        image = cv2.imread(imagePath)\n",
    "        image = cv2.resize(image, (32, 32))\n",
    "        data.append(image)\n",
    "        labels.append(label)"
   ]
  },
  {
   "cell_type": "code",
   "execution_count": 4,
   "id": "e4b83b7c",
   "metadata": {},
   "outputs": [
    {
     "data": {
      "text/plain": [
       "(100, 32, 32, 3)"
      ]
     },
     "execution_count": 4,
     "metadata": {},
     "output_type": "execute_result"
    }
   ],
   "source": [
    "np.array(data).shape"
   ]
  },
  {
   "cell_type": "markdown",
   "id": "0c22eab4",
   "metadata": {},
   "source": [
    "# 3. Data Preprocessing"
   ]
  },
  {
   "cell_type": "code",
   "execution_count": 5,
   "id": "8436f95c",
   "metadata": {},
   "outputs": [],
   "source": [
    "# ubah type data dari list menjadi array\n",
    "# ubah nilai dari tiap pixel menjadi range [0..1]\n",
    "data = np.array(data, dtype='float') / 255.0\n",
    "labels = np.array(labels)"
   ]
  },
  {
   "cell_type": "code",
   "execution_count": 6,
   "id": "467c3ffd",
   "metadata": {},
   "outputs": [
    {
     "name": "stdout",
     "output_type": "stream",
     "text": [
      "['Jeruk Nipis' 'Jeruk Nipis' 'Jeruk Nipis' 'Jeruk Nipis' 'Jeruk Nipis'\n",
      " 'Jeruk Nipis' 'Jeruk Nipis' 'Jeruk Nipis' 'Jeruk Nipis' 'Jeruk Nipis'\n",
      " 'Jeruk Nipis' 'Jeruk Nipis' 'Jeruk Nipis' 'Jeruk Nipis' 'Jeruk Nipis'\n",
      " 'Jeruk Nipis' 'Jeruk Nipis' 'Jeruk Nipis' 'Jeruk Nipis' 'Jeruk Nipis'\n",
      " 'Jeruk Nipis' 'Jeruk Nipis' 'Jeruk Nipis' 'Jeruk Nipis' 'Jeruk Nipis'\n",
      " 'Jeruk Nipis' 'Jeruk Nipis' 'Jeruk Nipis' 'Jeruk Nipis' 'Jeruk Nipis'\n",
      " 'Jeruk Nipis' 'Jeruk Nipis' 'Jeruk Nipis' 'Jeruk Nipis' 'Jeruk Nipis'\n",
      " 'Jeruk Nipis' 'Jeruk Nipis' 'Jeruk Nipis' 'Jeruk Nipis' 'Jeruk Nipis'\n",
      " 'Jeruk Nipis' 'Jeruk Nipis' 'Jeruk Nipis' 'Jeruk Nipis' 'Jeruk Nipis'\n",
      " 'Jeruk Nipis' 'Jeruk Nipis' 'Jeruk Nipis' 'Jeruk Nipis' 'Jeruk Nipis'\n",
      " 'Sirih' 'Sirih' 'Sirih' 'Sirih' 'Sirih' 'Sirih' 'Sirih' 'Sirih' 'Sirih'\n",
      " 'Sirih' 'Sirih' 'Sirih' 'Sirih' 'Sirih' 'Sirih' 'Sirih' 'Sirih' 'Sirih'\n",
      " 'Sirih' 'Sirih' 'Sirih' 'Sirih' 'Sirih' 'Sirih' 'Sirih' 'Sirih' 'Sirih'\n",
      " 'Sirih' 'Sirih' 'Sirih' 'Sirih' 'Sirih' 'Sirih' 'Sirih' 'Sirih' 'Sirih'\n",
      " 'Sirih' 'Sirih' 'Sirih' 'Sirih' 'Sirih' 'Sirih' 'Sirih' 'Sirih' 'Sirih'\n",
      " 'Sirih' 'Sirih' 'Sirih' 'Sirih' 'Sirih']\n"
     ]
    }
   ],
   "source": [
    "print(labels)"
   ]
  },
  {
   "cell_type": "code",
   "execution_count": 7,
   "id": "8a7c5b9f",
   "metadata": {},
   "outputs": [
    {
     "name": "stdout",
     "output_type": "stream",
     "text": [
      "[0 0 0 0 0 0 0 0 0 0 0 0 0 0 0 0 0 0 0 0 0 0 0 0 0 0 0 0 0 0 0 0 0 0 0 0 0\n",
      " 0 0 0 0 0 0 0 0 0 0 0 0 0 1 1 1 1 1 1 1 1 1 1 1 1 1 1 1 1 1 1 1 1 1 1 1 1\n",
      " 1 1 1 1 1 1 1 1 1 1 1 1 1 1 1 1 1 1 1 1 1 1 1 1 1 1]\n"
     ]
    }
   ],
   "source": [
    "# ubah nilai dari labels menjadi binary\n",
    "lb = LabelEncoder()\n",
    "labels = lb.fit_transform(labels)\n",
    "print(labels)"
   ]
  },
  {
   "cell_type": "markdown",
   "id": "3d151ce1",
   "metadata": {},
   "source": [
    "# 4. Split Dataset"
   ]
  },
  {
   "cell_type": "code",
   "execution_count": 8,
   "id": "0bc50330",
   "metadata": {},
   "outputs": [],
   "source": [
    "x_train, x_test, y_train, y_test = train_test_split(data, labels, test_size=0.2, random_state=42)"
   ]
  },
  {
   "cell_type": "code",
   "execution_count": 9,
   "id": "dadaf692",
   "metadata": {},
   "outputs": [
    {
     "name": "stdout",
     "output_type": "stream",
     "text": [
      "Ukuran data train = (80, 32, 32, 3)\n",
      "Ukuran data test = (20, 32, 32, 3)\n"
     ]
    }
   ],
   "source": [
    "print('Ukuran data train =', x_train.shape)\n",
    "print('Ukuran data test =', x_test.shape)"
   ]
  },
  {
   "cell_type": "markdown",
   "id": "f86e396d",
   "metadata": {},
   "source": [
    "# 5. Build CNN Architecture"
   ]
  },
  {
   "cell_type": "code",
   "execution_count": 10,
   "id": "6d52266d",
   "metadata": {},
   "outputs": [],
   "source": [
    "model = Sequential()\n",
    "# Extracted Feature Layer\n",
    "model.add(InputLayer(input_shape=[32,32,3]))\n",
    "model.add(Conv2D(filters=32, kernel_size=2, strides=1, padding='same', activation='relu'))\n",
    "model.add(MaxPool2D(pool_size=2, padding='same'))\n",
    "model.add(Conv2D(filters=50, kernel_size=2, strides=1, padding='same', activation='relu'))\n",
    "model.add(MaxPool2D(pool_size=2, padding='same'))\n",
    "model.add(Dropout(0.25))\n",
    "model.add(Flatten())\n",
    "# Fully Connected Layer\n",
    "model.add(Dense(512, activation='relu'))\n",
    "model.add(Dropout(0.5))\n",
    "model.add(Dense(1, activation='sigmoid'))"
   ]
  },
  {
   "cell_type": "code",
   "execution_count": 11,
   "id": "7a0fd39e",
   "metadata": {},
   "outputs": [
    {
     "name": "stdout",
     "output_type": "stream",
     "text": [
      "Model: \"sequential\"\n",
      "_________________________________________________________________\n",
      " Layer (type)                Output Shape              Param #   \n",
      "=================================================================\n",
      " conv2d (Conv2D)             (None, 32, 32, 32)        416       \n",
      "                                                                 \n",
      " max_pooling2d (MaxPooling2D  (None, 16, 16, 32)       0         \n",
      " )                                                               \n",
      "                                                                 \n",
      " conv2d_1 (Conv2D)           (None, 16, 16, 50)        6450      \n",
      "                                                                 \n",
      " max_pooling2d_1 (MaxPooling  (None, 8, 8, 50)         0         \n",
      " 2D)                                                             \n",
      "                                                                 \n",
      " dropout (Dropout)           (None, 8, 8, 50)          0         \n",
      "                                                                 \n",
      " flatten (Flatten)           (None, 3200)              0         \n",
      "                                                                 \n",
      " dense (Dense)               (None, 512)               1638912   \n",
      "                                                                 \n",
      " dropout_1 (Dropout)         (None, 512)               0         \n",
      "                                                                 \n",
      " dense_1 (Dense)             (None, 1)                 513       \n",
      "                                                                 \n",
      "=================================================================\n",
      "Total params: 1,646,291\n",
      "Trainable params: 1,646,291\n",
      "Non-trainable params: 0\n",
      "_________________________________________________________________\n"
     ]
    }
   ],
   "source": [
    "model.summary()"
   ]
  },
  {
   "cell_type": "code",
   "execution_count": 12,
   "id": "d12c6a30",
   "metadata": {},
   "outputs": [],
   "source": [
    "# tentukan hyperparameter\n",
    "lr = 0.001\n",
    "max_epochs = 100\n",
    "opt_funct = Adam(learning_rate=lr)"
   ]
  },
  {
   "cell_type": "code",
   "execution_count": 13,
   "id": "9062a7f8",
   "metadata": {},
   "outputs": [],
   "source": [
    "# compile arsitektur yang telah dibuat\n",
    "model.compile(loss = 'binary_crossentropy', \n",
    "              optimizer = opt_funct, \n",
    "              metrics = ['accuracy'])"
   ]
  },
  {
   "cell_type": "markdown",
   "id": "2e4829a4",
   "metadata": {},
   "source": [
    "# 6. Train Model"
   ]
  },
  {
   "cell_type": "code",
   "execution_count": 14,
   "id": "02070d00",
   "metadata": {},
   "outputs": [
    {
     "name": "stdout",
     "output_type": "stream",
     "text": [
      "Epoch 1/100\n",
      "3/3 [==============================] - 1s 133ms/step - loss: 0.7106 - accuracy: 0.5375 - val_loss: 0.7397 - val_accuracy: 0.6000\n",
      "Epoch 2/100\n",
      "3/3 [==============================] - 0s 49ms/step - loss: 0.8562 - accuracy: 0.4750 - val_loss: 0.6623 - val_accuracy: 0.8000\n",
      "Epoch 3/100\n",
      "3/3 [==============================] - 0s 41ms/step - loss: 0.6735 - accuracy: 0.6250 - val_loss: 0.8193 - val_accuracy: 0.4000\n",
      "Epoch 4/100\n",
      "3/3 [==============================] - 0s 55ms/step - loss: 0.6768 - accuracy: 0.5375 - val_loss: 0.6648 - val_accuracy: 0.5000\n",
      "Epoch 5/100\n",
      "3/3 [==============================] - 0s 47ms/step - loss: 0.6147 - accuracy: 0.7125 - val_loss: 0.5978 - val_accuracy: 0.8500\n",
      "Epoch 6/100\n",
      "3/3 [==============================] - 0s 57ms/step - loss: 0.6039 - accuracy: 0.7500 - val_loss: 0.5645 - val_accuracy: 0.8000\n",
      "Epoch 7/100\n",
      "3/3 [==============================] - 0s 50ms/step - loss: 0.5480 - accuracy: 0.8375 - val_loss: 0.5527 - val_accuracy: 0.8000\n",
      "Epoch 8/100\n",
      "3/3 [==============================] - 0s 47ms/step - loss: 0.4952 - accuracy: 0.8250 - val_loss: 0.5226 - val_accuracy: 0.8000\n",
      "Epoch 9/100\n",
      "3/3 [==============================] - 0s 49ms/step - loss: 0.4393 - accuracy: 0.8875 - val_loss: 0.4330 - val_accuracy: 0.9000\n",
      "Epoch 10/100\n",
      "3/3 [==============================] - 0s 44ms/step - loss: 0.4357 - accuracy: 0.8625 - val_loss: 0.3729 - val_accuracy: 0.8500\n",
      "Epoch 11/100\n",
      "3/3 [==============================] - 0s 47ms/step - loss: 0.3570 - accuracy: 0.8875 - val_loss: 0.3897 - val_accuracy: 0.8000\n",
      "Epoch 12/100\n",
      "3/3 [==============================] - 0s 53ms/step - loss: 0.3476 - accuracy: 0.8750 - val_loss: 0.3178 - val_accuracy: 0.9000\n",
      "Epoch 13/100\n",
      "3/3 [==============================] - 0s 46ms/step - loss: 0.2841 - accuracy: 0.9125 - val_loss: 0.2816 - val_accuracy: 0.9500\n",
      "Epoch 14/100\n",
      "3/3 [==============================] - 0s 47ms/step - loss: 0.2832 - accuracy: 0.9125 - val_loss: 0.2728 - val_accuracy: 0.9000\n",
      "Epoch 15/100\n",
      "3/3 [==============================] - 0s 43ms/step - loss: 0.2781 - accuracy: 0.8875 - val_loss: 0.2890 - val_accuracy: 0.9000\n",
      "Epoch 16/100\n",
      "3/3 [==============================] - 0s 40ms/step - loss: 0.1953 - accuracy: 0.9250 - val_loss: 0.2442 - val_accuracy: 0.9500\n",
      "Epoch 17/100\n",
      "3/3 [==============================] - 0s 43ms/step - loss: 0.1753 - accuracy: 0.9500 - val_loss: 0.2963 - val_accuracy: 0.8500\n",
      "Epoch 18/100\n",
      "3/3 [==============================] - 0s 53ms/step - loss: 0.2151 - accuracy: 0.9125 - val_loss: 0.2420 - val_accuracy: 0.9000\n",
      "Epoch 19/100\n",
      "3/3 [==============================] - 0s 45ms/step - loss: 0.1794 - accuracy: 0.9250 - val_loss: 0.2889 - val_accuracy: 0.8500\n",
      "Epoch 20/100\n",
      "3/3 [==============================] - 0s 41ms/step - loss: 0.1786 - accuracy: 0.9625 - val_loss: 0.2139 - val_accuracy: 0.9500\n",
      "Epoch 21/100\n",
      "3/3 [==============================] - 0s 41ms/step - loss: 0.1708 - accuracy: 0.9375 - val_loss: 0.2074 - val_accuracy: 0.9500\n",
      "Epoch 22/100\n",
      "3/3 [==============================] - 0s 50ms/step - loss: 0.1693 - accuracy: 0.9250 - val_loss: 0.2353 - val_accuracy: 0.9000\n",
      "Epoch 23/100\n",
      "3/3 [==============================] - 0s 41ms/step - loss: 0.1543 - accuracy: 0.9250 - val_loss: 0.2298 - val_accuracy: 0.9000\n",
      "Epoch 24/100\n",
      "3/3 [==============================] - 0s 41ms/step - loss: 0.1273 - accuracy: 0.9750 - val_loss: 0.2282 - val_accuracy: 0.9000\n",
      "Epoch 25/100\n",
      "3/3 [==============================] - 0s 45ms/step - loss: 0.1505 - accuracy: 0.9250 - val_loss: 0.2331 - val_accuracy: 0.9000\n",
      "Epoch 26/100\n",
      "3/3 [==============================] - 0s 42ms/step - loss: 0.1128 - accuracy: 0.9625 - val_loss: 0.2536 - val_accuracy: 0.9000\n",
      "Epoch 27/100\n",
      "3/3 [==============================] - 0s 42ms/step - loss: 0.1581 - accuracy: 0.9375 - val_loss: 0.2291 - val_accuracy: 0.9000\n",
      "Epoch 28/100\n",
      "3/3 [==============================] - 0s 38ms/step - loss: 0.1187 - accuracy: 0.9625 - val_loss: 0.2940 - val_accuracy: 0.8500\n",
      "Epoch 29/100\n",
      "3/3 [==============================] - 0s 43ms/step - loss: 0.1184 - accuracy: 0.9500 - val_loss: 0.1827 - val_accuracy: 0.9500\n",
      "Epoch 30/100\n",
      "3/3 [==============================] - 0s 42ms/step - loss: 0.0874 - accuracy: 0.9875 - val_loss: 0.2216 - val_accuracy: 0.9500\n",
      "Epoch 31/100\n",
      "3/3 [==============================] - 0s 43ms/step - loss: 0.0995 - accuracy: 0.9625 - val_loss: 0.2464 - val_accuracy: 0.9000\n",
      "Epoch 32/100\n",
      "3/3 [==============================] - 0s 38ms/step - loss: 0.0965 - accuracy: 0.9625 - val_loss: 0.1770 - val_accuracy: 0.9500\n",
      "Epoch 33/100\n",
      "3/3 [==============================] - 0s 42ms/step - loss: 0.0982 - accuracy: 0.9750 - val_loss: 0.2220 - val_accuracy: 0.9500\n",
      "Epoch 34/100\n",
      "3/3 [==============================] - 0s 44ms/step - loss: 0.0710 - accuracy: 0.9875 - val_loss: 0.2516 - val_accuracy: 0.9000\n",
      "Epoch 35/100\n",
      "3/3 [==============================] - 0s 40ms/step - loss: 0.0620 - accuracy: 0.9875 - val_loss: 0.2289 - val_accuracy: 0.9500\n",
      "Epoch 36/100\n",
      "3/3 [==============================] - 0s 45ms/step - loss: 0.0550 - accuracy: 0.9875 - val_loss: 0.2451 - val_accuracy: 0.9500\n",
      "Epoch 37/100\n",
      "3/3 [==============================] - 0s 42ms/step - loss: 0.0551 - accuracy: 0.9875 - val_loss: 0.3441 - val_accuracy: 0.8500\n",
      "Epoch 38/100\n",
      "3/3 [==============================] - 0s 47ms/step - loss: 0.0815 - accuracy: 0.9625 - val_loss: 0.2230 - val_accuracy: 0.9500\n",
      "Epoch 39/100\n",
      "3/3 [==============================] - 0s 44ms/step - loss: 0.0411 - accuracy: 1.0000 - val_loss: 0.1778 - val_accuracy: 0.9500\n",
      "Epoch 40/100\n",
      "3/3 [==============================] - 0s 50ms/step - loss: 0.0580 - accuracy: 0.9875 - val_loss: 0.2908 - val_accuracy: 0.9000\n",
      "Epoch 41/100\n",
      "3/3 [==============================] - 0s 43ms/step - loss: 0.0478 - accuracy: 0.9875 - val_loss: 0.2826 - val_accuracy: 0.9000\n",
      "Epoch 42/100\n",
      "3/3 [==============================] - 0s 50ms/step - loss: 0.0499 - accuracy: 0.9875 - val_loss: 0.1767 - val_accuracy: 0.9500\n",
      "Epoch 43/100\n",
      "3/3 [==============================] - 0s 45ms/step - loss: 0.0431 - accuracy: 0.9875 - val_loss: 0.2097 - val_accuracy: 0.9500\n",
      "Epoch 44/100\n",
      "3/3 [==============================] - 0s 47ms/step - loss: 0.0325 - accuracy: 1.0000 - val_loss: 0.2508 - val_accuracy: 0.9500\n",
      "Epoch 45/100\n",
      "3/3 [==============================] - 0s 41ms/step - loss: 0.0274 - accuracy: 1.0000 - val_loss: 0.2065 - val_accuracy: 0.9500\n",
      "Epoch 46/100\n",
      "3/3 [==============================] - 0s 41ms/step - loss: 0.0243 - accuracy: 1.0000 - val_loss: 0.1689 - val_accuracy: 0.9500\n",
      "Epoch 47/100\n",
      "3/3 [==============================] - 0s 42ms/step - loss: 0.0218 - accuracy: 1.0000 - val_loss: 0.2333 - val_accuracy: 0.9500\n",
      "Epoch 48/100\n",
      "3/3 [==============================] - 0s 42ms/step - loss: 0.0248 - accuracy: 1.0000 - val_loss: 0.2642 - val_accuracy: 0.9500\n",
      "Epoch 49/100\n",
      "3/3 [==============================] - 0s 48ms/step - loss: 0.0157 - accuracy: 1.0000 - val_loss: 0.3182 - val_accuracy: 0.9500\n",
      "Epoch 50/100\n",
      "3/3 [==============================] - 0s 40ms/step - loss: 0.0113 - accuracy: 1.0000 - val_loss: 0.3323 - val_accuracy: 0.9000\n",
      "Epoch 51/100\n",
      "3/3 [==============================] - 0s 42ms/step - loss: 0.0147 - accuracy: 1.0000 - val_loss: 0.2628 - val_accuracy: 0.9500\n",
      "Epoch 52/100\n",
      "3/3 [==============================] - 0s 39ms/step - loss: 0.0414 - accuracy: 0.9875 - val_loss: 0.1948 - val_accuracy: 0.9500\n",
      "Epoch 53/100\n",
      "3/3 [==============================] - 0s 42ms/step - loss: 0.0384 - accuracy: 0.9875 - val_loss: 0.3037 - val_accuracy: 0.9500\n",
      "Epoch 54/100\n",
      "3/3 [==============================] - 0s 46ms/step - loss: 0.0402 - accuracy: 0.9875 - val_loss: 0.3226 - val_accuracy: 0.9500\n",
      "Epoch 55/100\n",
      "3/3 [==============================] - 0s 54ms/step - loss: 0.0156 - accuracy: 1.0000 - val_loss: 0.2117 - val_accuracy: 0.9500\n",
      "Epoch 56/100\n",
      "3/3 [==============================] - 0s 47ms/step - loss: 0.0262 - accuracy: 1.0000 - val_loss: 0.2246 - val_accuracy: 0.9500\n",
      "Epoch 57/100\n",
      "3/3 [==============================] - 0s 55ms/step - loss: 0.0105 - accuracy: 1.0000 - val_loss: 0.3015 - val_accuracy: 0.9500\n",
      "Epoch 58/100\n",
      "3/3 [==============================] - 0s 49ms/step - loss: 0.0128 - accuracy: 1.0000 - val_loss: 0.3325 - val_accuracy: 0.9000\n",
      "Epoch 59/100\n",
      "3/3 [==============================] - 0s 41ms/step - loss: 0.0141 - accuracy: 1.0000 - val_loss: 0.3026 - val_accuracy: 0.9500\n",
      "Epoch 60/100\n",
      "3/3 [==============================] - 0s 48ms/step - loss: 0.0159 - accuracy: 1.0000 - val_loss: 0.2636 - val_accuracy: 0.9500\n",
      "Epoch 61/100\n",
      "3/3 [==============================] - 0s 46ms/step - loss: 0.0116 - accuracy: 1.0000 - val_loss: 0.2656 - val_accuracy: 0.9500\n",
      "Epoch 62/100\n",
      "3/3 [==============================] - 0s 45ms/step - loss: 0.0077 - accuracy: 1.0000 - val_loss: 0.2746 - val_accuracy: 0.9500\n",
      "Epoch 63/100\n",
      "3/3 [==============================] - 0s 39ms/step - loss: 0.0118 - accuracy: 1.0000 - val_loss: 0.2779 - val_accuracy: 0.9500\n",
      "Epoch 64/100\n",
      "3/3 [==============================] - 0s 43ms/step - loss: 0.0091 - accuracy: 1.0000 - val_loss: 0.2511 - val_accuracy: 0.9500\n",
      "Epoch 65/100\n",
      "3/3 [==============================] - 0s 42ms/step - loss: 0.0134 - accuracy: 1.0000 - val_loss: 0.2629 - val_accuracy: 0.9500\n",
      "Epoch 66/100\n",
      "3/3 [==============================] - 0s 42ms/step - loss: 0.0090 - accuracy: 1.0000 - val_loss: 0.2747 - val_accuracy: 0.9500\n",
      "Epoch 67/100\n",
      "3/3 [==============================] - 0s 43ms/step - loss: 0.0067 - accuracy: 1.0000 - val_loss: 0.2693 - val_accuracy: 0.9500\n",
      "Epoch 68/100\n",
      "3/3 [==============================] - 0s 41ms/step - loss: 0.0057 - accuracy: 1.0000 - val_loss: 0.2907 - val_accuracy: 0.9500\n",
      "Epoch 69/100\n",
      "3/3 [==============================] - 0s 45ms/step - loss: 0.0086 - accuracy: 1.0000 - val_loss: 0.3505 - val_accuracy: 0.9500\n",
      "Epoch 70/100\n",
      "3/3 [==============================] - 0s 44ms/step - loss: 0.0058 - accuracy: 1.0000 - val_loss: 0.3720 - val_accuracy: 0.9000\n",
      "Epoch 71/100\n",
      "3/3 [==============================] - 0s 44ms/step - loss: 0.0096 - accuracy: 1.0000 - val_loss: 0.3248 - val_accuracy: 0.9500\n",
      "Epoch 72/100\n",
      "3/3 [==============================] - 0s 41ms/step - loss: 0.0104 - accuracy: 1.0000 - val_loss: 0.2534 - val_accuracy: 0.9500\n",
      "Epoch 73/100\n",
      "3/3 [==============================] - 0s 43ms/step - loss: 0.0080 - accuracy: 1.0000 - val_loss: 0.2293 - val_accuracy: 0.9500\n",
      "Epoch 74/100\n",
      "3/3 [==============================] - 0s 42ms/step - loss: 0.0207 - accuracy: 0.9875 - val_loss: 0.3423 - val_accuracy: 0.9500\n",
      "Epoch 75/100\n",
      "3/3 [==============================] - 0s 48ms/step - loss: 0.0052 - accuracy: 1.0000 - val_loss: 0.3572 - val_accuracy: 0.9500\n",
      "Epoch 76/100\n",
      "3/3 [==============================] - 0s 38ms/step - loss: 0.0112 - accuracy: 1.0000 - val_loss: 0.2739 - val_accuracy: 0.9500\n",
      "Epoch 77/100\n",
      "3/3 [==============================] - 0s 44ms/step - loss: 0.0113 - accuracy: 1.0000 - val_loss: 0.2919 - val_accuracy: 0.9500\n",
      "Epoch 78/100\n",
      "3/3 [==============================] - 0s 43ms/step - loss: 0.0056 - accuracy: 1.0000 - val_loss: 0.3523 - val_accuracy: 0.9500\n",
      "Epoch 79/100\n",
      "3/3 [==============================] - 0s 44ms/step - loss: 0.0052 - accuracy: 1.0000 - val_loss: 0.3827 - val_accuracy: 0.9500\n",
      "Epoch 80/100\n",
      "3/3 [==============================] - 0s 46ms/step - loss: 0.0071 - accuracy: 1.0000 - val_loss: 0.3480 - val_accuracy: 0.9500\n",
      "Epoch 81/100\n",
      "3/3 [==============================] - 0s 44ms/step - loss: 0.0054 - accuracy: 1.0000 - val_loss: 0.3395 - val_accuracy: 0.9500\n",
      "Epoch 82/100\n",
      "3/3 [==============================] - 0s 42ms/step - loss: 0.0077 - accuracy: 1.0000 - val_loss: 0.3558 - val_accuracy: 0.9500\n",
      "Epoch 83/100\n",
      "3/3 [==============================] - 0s 42ms/step - loss: 0.0065 - accuracy: 1.0000 - val_loss: 0.3930 - val_accuracy: 0.9500\n",
      "Epoch 84/100\n",
      "3/3 [==============================] - 0s 51ms/step - loss: 0.0060 - accuracy: 1.0000 - val_loss: 0.3705 - val_accuracy: 0.9500\n",
      "Epoch 85/100\n",
      "3/3 [==============================] - 0s 50ms/step - loss: 0.0032 - accuracy: 1.0000 - val_loss: 0.3286 - val_accuracy: 0.9500\n",
      "Epoch 86/100\n",
      "3/3 [==============================] - 0s 41ms/step - loss: 0.0034 - accuracy: 1.0000 - val_loss: 0.2946 - val_accuracy: 0.9500\n",
      "Epoch 87/100\n",
      "3/3 [==============================] - 0s 46ms/step - loss: 0.0077 - accuracy: 1.0000 - val_loss: 0.2886 - val_accuracy: 0.9500\n",
      "Epoch 88/100\n",
      "3/3 [==============================] - 0s 44ms/step - loss: 0.0068 - accuracy: 1.0000 - val_loss: 0.3253 - val_accuracy: 0.9500\n",
      "Epoch 89/100\n",
      "3/3 [==============================] - 0s 42ms/step - loss: 0.0086 - accuracy: 1.0000 - val_loss: 0.4047 - val_accuracy: 0.9500\n",
      "Epoch 90/100\n",
      "3/3 [==============================] - 0s 44ms/step - loss: 0.0043 - accuracy: 1.0000 - val_loss: 0.4416 - val_accuracy: 0.9000\n",
      "Epoch 91/100\n",
      "3/3 [==============================] - 0s 43ms/step - loss: 0.0071 - accuracy: 1.0000 - val_loss: 0.3714 - val_accuracy: 0.9500\n",
      "Epoch 92/100\n",
      "3/3 [==============================] - 0s 43ms/step - loss: 0.0022 - accuracy: 1.0000 - val_loss: 0.2782 - val_accuracy: 0.9500\n",
      "Epoch 93/100\n",
      "3/3 [==============================] - 0s 56ms/step - loss: 0.0078 - accuracy: 1.0000 - val_loss: 0.2579 - val_accuracy: 0.9500\n",
      "Epoch 94/100\n",
      "3/3 [==============================] - 0s 42ms/step - loss: 0.0076 - accuracy: 1.0000 - val_loss: 0.3467 - val_accuracy: 0.9500\n",
      "Epoch 95/100\n",
      "3/3 [==============================] - 0s 40ms/step - loss: 0.0043 - accuracy: 1.0000 - val_loss: 0.4302 - val_accuracy: 0.9000\n",
      "Epoch 96/100\n",
      "3/3 [==============================] - 0s 39ms/step - loss: 0.0086 - accuracy: 1.0000 - val_loss: 0.3865 - val_accuracy: 0.9500\n",
      "Epoch 97/100\n",
      "3/3 [==============================] - 0s 45ms/step - loss: 0.0032 - accuracy: 1.0000 - val_loss: 0.3309 - val_accuracy: 0.9500\n",
      "Epoch 98/100\n",
      "3/3 [==============================] - 0s 41ms/step - loss: 0.0033 - accuracy: 1.0000 - val_loss: 0.3255 - val_accuracy: 0.9500\n",
      "Epoch 99/100\n",
      "3/3 [==============================] - 0s 40ms/step - loss: 0.0030 - accuracy: 1.0000 - val_loss: 0.3306 - val_accuracy: 0.9500\n",
      "Epoch 100/100\n",
      "3/3 [==============================] - 0s 40ms/step - loss: 0.0025 - accuracy: 1.0000 - val_loss: 0.3603 - val_accuracy: 0.9500\n"
     ]
    }
   ],
   "source": [
    "H = model.fit(x_train, y_train, validation_data=(x_test, y_test), \n",
    "          epochs=max_epochs, batch_size=32)"
   ]
  },
  {
   "cell_type": "code",
   "execution_count": 15,
   "id": "1508bec7",
   "metadata": {},
   "outputs": [
    {
     "data": {
      "image/png": "[encoded data removed]",
      "text/plain": [
       "<Figure size 432x288 with 1 Axes>"
      ]
     },
     "metadata": {},
     "output_type": "display_data"
    }
   ],
   "source": [
    "N = np.arange(0, max_epochs)\n",
    "plt.style.use(\"ggplot\")\n",
    "plt.figure()\n",
    "plt.plot(N, H.history[\"loss\"], label=\"train_loss\")\n",
    "plt.plot(N, H.history[\"val_loss\"], label=\"val_loss\")\n",
    "#plt.plot(N, H.history[\"accuracy\"], label=\"train_acc\")\n",
    "#plt.plot(N, H.history[\"val_accuracy\"], label=\"val_acc\")\n",
    "plt.xlabel(\"Epoch #\")\n",
    "plt.legend()\n",
    "plt.show()"
   ]
  },
  {
   "cell_type": "markdown",
   "id": "9910f4de",
   "metadata": {},
   "source": [
    "# 7. Evaluate the Model"
   ]
  },
  {
   "cell_type": "code",
   "execution_count": 16,
   "id": "4d46e7f6",
   "metadata": {},
   "outputs": [
    {
     "name": "stdout",
     "output_type": "stream",
     "text": [
      "              precision    recall  f1-score   support\n",
      "\n",
      " Jeruk Nipis       1.00      0.92      0.96        12\n",
      "       Sirih       0.89      1.00      0.94         8\n",
      "\n",
      "    accuracy                           0.95        20\n",
      "   macro avg       0.94      0.96      0.95        20\n",
      "weighted avg       0.96      0.95      0.95        20\n",
      "\n"
     ]
    },
    {
     "name": "stderr",
     "output_type": "stream",
     "text": [
      "C:\\Users\\ASUS\\AppData\\Local\\Temp/ipykernel_12100/954476436.py:3: DeprecationWarning: `np.int` is a deprecated alias for the builtin `int`. To silence this warning, use `int` by itself. Doing this will not modify any behavior and is safe. When replacing `np.int`, you may wish to use e.g. `np.int64` or `np.int32` to specify the precision. If you wish to review your current use, check the release note link for additional information.\n",
      "Deprecated in NumPy 1.20; for more details and guidance: https://numpy.org/devdocs/release/1.20.0-notes.html#deprecations\n",
      "  target = (predictions > 0.5).astype(np.int)\n"
     ]
    }
   ],
   "source": [
    "# menghitung nilai akurasi model terhadap data test\n",
    "predictions = model.predict(x_test, batch_size=32)\n",
    "target = (predictions > 0.5).astype(np.int)\n",
    "print(classification_report(y_test, target, target_names=label_list))"
   ]
  },
  {
   "cell_type": "code",
   "execution_count": 19,
   "id": "5e3d5e4e",
   "metadata": {},
   "outputs": [
    {
     "name": "stdout",
     "output_type": "stream",
     "text": [
      "[[0.9998585]]\n"
     ]
    }
   ],
   "source": [
    "# uji model menggunakan image lain\n",
    "queryPath = imagePaths+'query_sirih.jpg'\n",
    "query = cv2.imread(queryPath)\n",
    "output = query.copy()\n",
    "query = cv2.resize(query, (32, 32))\n",
    "q = []\n",
    "q.append(query)\n",
    "q = np.array(q, dtype='float') / 255.0\n",
    "\n",
    "q_pred = model.predict(q)\n",
    "print(q_pred)"
   ]
  },
  {
   "cell_type": "code",
   "execution_count": 20,
   "id": "f3d5e7b7",
   "metadata": {},
   "outputs": [
    {
     "ename": "error",
     "evalue": "OpenCV(4.5.4) D:\\a\\opencv-python\\opencv-python\\opencv\\modules\\highgui\\src\\window_w32.cpp:1261: error: (-27:Null pointer) NULL window: 'Output' in function 'cvDestroyWindow'\n",
     "output_type": "error",
     "traceback": [
      "\u001b[1;31m---------------------------------------------------------------------------\u001b[0m",
      "\u001b[1;31merror\u001b[0m                                     Traceback (most recent call last)",
      "\u001b[1;32m~\\AppData\\Local\\Temp/ipykernel_12100/4147216928.py\u001b[0m in \u001b[0;36m<module>\u001b[1;34m\u001b[0m\n\u001b[0;32m      9\u001b[0m \u001b[0mcv2\u001b[0m\u001b[1;33m.\u001b[0m\u001b[0mimshow\u001b[0m\u001b[1;33m(\u001b[0m\u001b[1;34m'Output'\u001b[0m\u001b[1;33m,\u001b[0m \u001b[0moutput\u001b[0m\u001b[1;33m)\u001b[0m\u001b[1;33m\u001b[0m\u001b[1;33m\u001b[0m\u001b[0m\n\u001b[0;32m     10\u001b[0m \u001b[0mcv2\u001b[0m\u001b[1;33m.\u001b[0m\u001b[0mwaitKey\u001b[0m\u001b[1;33m(\u001b[0m\u001b[1;33m)\u001b[0m\u001b[1;33m\u001b[0m\u001b[1;33m\u001b[0m\u001b[0m\n\u001b[1;32m---> 11\u001b[1;33m \u001b[0mcv2\u001b[0m\u001b[1;33m.\u001b[0m\u001b[0mdestroyWindow\u001b[0m\u001b[1;33m(\u001b[0m\u001b[1;34m'Output'\u001b[0m\u001b[1;33m)\u001b[0m\u001b[1;33m\u001b[0m\u001b[1;33m\u001b[0m\u001b[0m\n\u001b[0m",
      "\u001b[1;31merror\u001b[0m: OpenCV(4.5.4) D:\\a\\opencv-python\\opencv-python\\opencv\\modules\\highgui\\src\\window_w32.cpp:1261: error: (-27:Null pointer) NULL window: 'Output' in function 'cvDestroyWindow'\n"
     ]
    }
   ],
   "source": [
    "if q_pred<=0.5 :\n",
    "    target = \"Jeruk Nipis\"\n",
    "else :\n",
    "    target = \"Sirih\"\n",
    "text = \"{}\".format(target)\n",
    "cv2.putText(output, text, (10, 30), cv2.FONT_HERSHEY_SIMPLEX, 0.7, (0, 0, 255), 2)\n",
    " \n",
    "# menampilkan output image\n",
    "cv2.imshow('Output', output)\n",
    "cv2.waitKey()\n",
    "cv2.destroyWindow('Output')"
   ]
  },
  {
   "cell_type": "markdown",
   "id": "c9c4bc60",
   "metadata": {},
   "source": [
    "# 8. Save the model"
   ]
  },
  {
   "cell_type": "code",
   "execution_count": 21,
   "id": "26041f75",
   "metadata": {},
   "outputs": [],
   "source": [
    "model.save(\"nipis_sirih_class_model.h5\")"
   ]
  },
  {
   "cell_type": "code",
   "execution_count": null,
   "id": "921e1fa7",
   "metadata": {},
   "outputs": [],
   "source": []
  }
 ],
 "metadata": {
  "kernelspec": {
   "display_name": "Python 3 (ipykernel)",
   "language": "python",
   "name": "python3"
  },
  "language_info": {
   "codemirror_mode": {
    "name": "ipython",
    "version": 3
   },
   "file_extension": ".py",
   "mimetype": "text/x-python",
   "name": "python",
   "nbconvert_exporter": "python",
   "pygments_lexer": "ipython3",
   "version": "3.8.2"
  }
 },
 "nbformat": 4,
 "nbformat_minor": 5
}
